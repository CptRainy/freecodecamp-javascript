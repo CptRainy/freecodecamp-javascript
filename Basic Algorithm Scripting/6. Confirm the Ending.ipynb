{
 "cells": [
  {
   "attachments": {},
   "cell_type": "markdown",
   "metadata": {},
   "source": [
    "# Confirm the Ending"
   ]
  },
  {
   "attachments": {},
   "cell_type": "markdown",
   "metadata": {},
   "source": [
    "## Task\n",
    "Check if a string (first argument, str) ends with the given target string (second argument, target).\n",
    "\n",
    "This challenge can be solved with the .endsWith() method, which was introduced in ES2015. But for the purpose of this challenge, we would like you to use one of the JavaScript substring methods instead.\n",
    "\n",
    "```javascript\n",
    "function confirmEnding(str, target) {\n",
    "  return str;\n",
    "}\n",
    "\n",
    "confirmEnding(\"Bastian\", \"n\");\n",
    "```\n",
    "\n",
    "## Tests\n",
    "- confirmEnding(\"Bastian\", \"n\") should return true.\n",
    "- confirmEnding(\"Congratulation\", \"on\") should return true.\n",
    "- confirmEnding(\"Connor\", \"n\") should return false.\n",
    "- confirmEnding(\"Walking on water and developing software from a specification are easy if both are frozen\", \"specification\") should return false.\n",
    "- confirmEnding(\"He has to give me a new name\", \"name\") should return true.\n",
    "- confirmEnding(\"Open sesame\", \"same\") should return true.\n",
    "- confirmEnding(\"Open sesame\", \"sage\") should return false.\n",
    "- confirmEnding(\"Open sesame\", \"game\") should return false.\n",
    "- confirmEnding(\"If you want to save our world, you must hurry. We dont know how much longer we can withstand the nothing\", \"mountain\") should return false.\n",
    "- confirmEnding(\"Abstraction\", \"action\") should return true.\n",
    "- Your code should not use the built-in method .endsWith() to solve the challenge."
   ]
  },
  {
   "attachments": {},
   "cell_type": "markdown",
   "metadata": {},
   "source": [
    "## Solution"
   ]
  },
  {
   "cell_type": "code",
   "execution_count": null,
   "metadata": {
    "vscode": {
     "languageId": "javascript"
    }
   },
   "outputs": [],
   "source": [
    "function confirmEnding(str, target) {\n",
    "    if (str.substring(str.length - target.length) == target){\n",
    "      return true;\n",
    "    } else {\n",
    "      return false;\n",
    "    }\n",
    "  }\n",
    "  \n",
    "  confirmEnding(\"Bastian\", \"n\");"
   ]
  }
 ],
 "metadata": {
  "kernelspec": {
   "display_name": "Python 3",
   "language": "python",
   "name": "python3"
  },
  "language_info": {
   "name": "python",
   "version": "3.10.6 (tags/v3.10.6:9c7b4bd, Aug  1 2022, 21:53:49) [MSC v.1932 64 bit (AMD64)]"
  },
  "orig_nbformat": 4,
  "vscode": {
   "interpreter": {
    "hash": "2af6b4b8e7dc844f17d5955b4b91766577101cdd3d4def0405c89e7c4a589cca"
   }
  }
 },
 "nbformat": 4,
 "nbformat_minor": 2
}
