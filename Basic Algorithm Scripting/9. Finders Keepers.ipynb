{
 "cells": [
  {
   "attachments": {},
   "cell_type": "markdown",
   "metadata": {},
   "source": [
    "# Finders Keepers"
   ]
  },
  {
   "attachments": {},
   "cell_type": "markdown",
   "metadata": {},
   "source": [
    "## Task\n",
    "\n",
    "```javascript\n",
    "function findElement(arr, func) {\n",
    "  let num = 0;\n",
    "  return num;\n",
    "}\n",
    "\n",
    "findElement([1, 2, 3, 4], num => num % 2 === 0);\n",
    "```\n",
    "\n",
    "## Tests\n",
    "- findElement([1, 3, 5, 8, 9, 10], function(num) { return num % 2 === 0; }) should return 8.\n",
    "- findElement([1, 3, 5, 9], function(num) { return num % 2 === 0; }) should return undefined."
   ]
  },
  {
   "attachments": {},
   "cell_type": "markdown",
   "metadata": {},
   "source": [
    "## Solution"
   ]
  },
  {
   "cell_type": "code",
   "execution_count": null,
   "metadata": {
    "vscode": {
     "languageId": "javascript"
    }
   },
   "outputs": [],
   "source": [
    "function findElement(arr, func) {\n",
    "    for(let i = 0; i < arr.length; i++){\n",
    "      if(func(arr[i])){\n",
    "        return arr[i];\n",
    "      }\n",
    "    }\n",
    "    return undefined;\n",
    "  }\n",
    "  \n",
    "  findElement([1, 3, 5, 8, 9, 10], function(num) { return num % 2 === 0; });"
   ]
  }
 ],
 "metadata": {
  "kernelspec": {
   "display_name": "Python 3",
   "language": "python",
   "name": "python3"
  },
  "language_info": {
   "name": "python",
   "version": "3.10.6 (tags/v3.10.6:9c7b4bd, Aug  1 2022, 21:53:49) [MSC v.1932 64 bit (AMD64)]"
  },
  "orig_nbformat": 4,
  "vscode": {
   "interpreter": {
    "hash": "2af6b4b8e7dc844f17d5955b4b91766577101cdd3d4def0405c89e7c4a589cca"
   }
  }
 },
 "nbformat": 4,
 "nbformat_minor": 2
}
