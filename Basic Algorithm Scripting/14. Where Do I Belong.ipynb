{
 "cells": [
  {
   "cell_type": "code",
   "execution_count": null,
   "metadata": {
    "vscode": {
     "languageId": "javascript"
    }
   },
   "outputs": [],
   "source": [
    "function getIndexToIns(arr, num) {\n",
    "  let i = 0;\n",
    "  let index = 0;\n",
    "  arr.sort(function(a, b){return a-b});\n",
    "  console.log(arr);\n",
    "\n",
    "  while(i < arr.length){\n",
    "    if(arr[i] == num){\n",
    "      return (index = i);\n",
    "    }\n",
    "    else if(arr[i] < num && arr[i+1] > num ){\n",
    "      return(index = i + 1);\n",
    "    } else if(i == arr.length-1){\n",
    "      return(index = i + 1);\n",
    "    }\n",
    "    i++;\n",
    "  }\n",
    "  return 0;\n",
    "}\n",
    "\n",
    "getIndexToIns([2, 5, 10], 15);"
   ]
  }
 ],
 "metadata": {
  "language_info": {
   "name": "python"
  },
  "orig_nbformat": 4
 },
 "nbformat": 4,
 "nbformat_minor": 2
}
