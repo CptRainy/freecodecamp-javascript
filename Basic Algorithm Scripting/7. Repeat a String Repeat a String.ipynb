{
 "cells": [
  {
   "attachments": {},
   "cell_type": "markdown",
   "metadata": {},
   "source": [
    "# Repeat a String Repeat a String"
   ]
  },
  {
   "attachments": {},
   "cell_type": "markdown",
   "metadata": {},
   "source": [
    "## Task\n",
    "Repeat a given string str (first argument) for num times (second argument). Return an empty string if num is not a positive number. For the purpose of this challenge, do not use the built-in .repeat() method.\n",
    "\n",
    "```javascript\n",
    "function repeatStringNumTimes(str, num) {\n",
    "  return str;\n",
    "}\n",
    "\n",
    "repeatStringNumTimes(\"abc\", 3);\n",
    "```\n",
    "\n",
    "## Tests\n",
    "- repeatStringNumTimes(\"*\", 3) should return the string ***.\n",
    "- repeatStringNumTimes(\"abc\", 3) should return the string abcabcabc.\n",
    "- repeatStringNumTimes(\"abc\", 4) should return the string abcabcabcabc.\n",
    "- repeatStringNumTimes(\"abc\", 1) should return the string abc.\n",
    "- repeatStringNumTimes(\"*\", 8) should return the string ********.\n",
    "- repeatStringNumTimes(\"abc\", -2) should return an empty string (\"\").\n",
    "- The built-in repeat() method should not be used.\n",
    "- repeatStringNumTimes(\"abc\", 0) should return \"\"."
   ]
  },
  {
   "attachments": {},
   "cell_type": "markdown",
   "metadata": {},
   "source": [
    "## Solution"
   ]
  },
  {
   "cell_type": "code",
   "execution_count": null,
   "metadata": {},
   "outputs": [],
   "source": [
    "function repeatStringNumTimes(str, num) {\n",
    "  let newstr = \"\";\n",
    "  while (num > 0){\n",
    "    newstr += str;\n",
    "    num--;\n",
    "  }\n",
    "  return newstr;\n",
    "}\n",
    "\n",
    "repeatStringNumTimes(\"abc\", 3);"
   ]
  }
 ],
 "metadata": {
  "kernelspec": {
   "display_name": "Python 3",
   "language": "python",
   "name": "python3"
  },
  "language_info": {
   "name": "python",
   "version": "3.10.6 (tags/v3.10.6:9c7b4bd, Aug  1 2022, 21:53:49) [MSC v.1932 64 bit (AMD64)]"
  },
  "orig_nbformat": 4,
  "vscode": {
   "interpreter": {
    "hash": "2af6b4b8e7dc844f17d5955b4b91766577101cdd3d4def0405c89e7c4a589cca"
   }
  }
 },
 "nbformat": 4,
 "nbformat_minor": 2
}
