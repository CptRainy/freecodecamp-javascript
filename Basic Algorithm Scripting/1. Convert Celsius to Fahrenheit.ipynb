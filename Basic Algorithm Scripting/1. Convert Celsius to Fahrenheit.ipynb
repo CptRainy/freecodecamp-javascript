{
 "cells": [
  {
   "attachments": {},
   "cell_type": "markdown",
   "metadata": {},
   "source": [
    "# Convert Celsius to Fahrenheit"
   ]
  },
  {
   "attachments": {},
   "cell_type": "markdown",
   "metadata": {},
   "source": [
    "## Task\n",
    "The formula to convert from Celsius to Fahrenheit is the temperature in Celsius times 9/5, plus 32.\n",
    "\n",
    "You are given a variable celsius representing a temperature in Celsius. Use the variable fahrenheit already defined and assign it the Fahrenheit temperature equivalent to the given Celsius temperature. Use the formula mentioned above to help convert the Celsius temperature to Fahrenheit.\n",
    "\n",
    "```javascript\n",
    "function convertCtoF(celsius) {\n",
    "  let fahrenheit;\n",
    "  return fahrenheit;\n",
    "}\n",
    "\n",
    "convertCtoF(30);\n",
    "```\n",
    "\n",
    "## Tests\n",
    "- convertCtoF(0) should return a number\n",
    "- convertCtoF(-30) should return a value of -22\n",
    "- convertCtoF(-10) should return a value of 14\n",
    "- convertCtoF(0) should return a value of 32\n",
    "- convertCtoF(20) should return a value of 68\n",
    "- convertCtoF(30) should return a value of 86"
   ]
  },
  {
   "attachments": {},
   "cell_type": "markdown",
   "metadata": {},
   "source": [
    "## Solution"
   ]
  },
  {
   "cell_type": "code",
   "execution_count": null,
   "metadata": {
    "vscode": {
     "languageId": "javascript"
    }
   },
   "outputs": [],
   "source": [
    "function convertCtoF(celsius) {\n",
    "    let fahrenheit;\n",
    "    fahrenheit = celsius * (9/5) + 32;\n",
    "    return fahrenheit;\n",
    "  }\n",
    "  \n",
    "  console.log(convertCtoF(30));"
   ]
  }
 ],
 "metadata": {
  "kernelspec": {
   "display_name": "Python 3",
   "language": "python",
   "name": "python3"
  },
  "language_info": {
   "name": "python",
   "version": "3.10.6 (tags/v3.10.6:9c7b4bd, Aug  1 2022, 21:53:49) [MSC v.1932 64 bit (AMD64)]"
  },
  "orig_nbformat": 4,
  "vscode": {
   "interpreter": {
    "hash": "2af6b4b8e7dc844f17d5955b4b91766577101cdd3d4def0405c89e7c4a589cca"
   }
  }
 },
 "nbformat": 4,
 "nbformat_minor": 2
}
