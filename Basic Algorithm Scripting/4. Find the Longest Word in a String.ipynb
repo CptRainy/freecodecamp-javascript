{
 "cells": [
  {
   "attachments": {},
   "cell_type": "markdown",
   "metadata": {},
   "source": [
    "# Find the Longest Word in a String\n"
   ]
  },
  {
   "attachments": {},
   "cell_type": "markdown",
   "metadata": {},
   "source": [
    "## Task\n",
    "Return the length of the longest word in the provided sentence.\n",
    "\n",
    "Your response should be a number.\n",
    "\n",
    "```javascript\n",
    "function findLongestWordLength(str) {\n",
    "  return str.length;\n",
    "}\n",
    "\n",
    "findLongestWordLength(\"The quick brown fox jumped over the lazy dog\");\n",
    "```\n",
    "\n",
    "## Tests\n",
    "- findLongestWordLength(\"The quick brown fox jumped over the lazy dog\") should return a number.\n",
    "- findLongestWordLength(\"The quick brown fox jumped over the lazy dog\") should return 6.\n",
    "- findLongestWordLength(\"May the force be with you\") should return 5.\n",
    "- findLongestWordLength(\"Google do a barrel roll\") should return 6.\n",
    "- findLongestWordLength(\"What is the average airspeed velocity of an unladen swallow\") should return 8.\n",
    "- findLongestWordLength(\"What if we try a super-long word such as otorhinolaryngology\") should return 19."
   ]
  },
  {
   "attachments": {},
   "cell_type": "markdown",
   "metadata": {},
   "source": [
    "## Solution"
   ]
  },
  {
   "cell_type": "code",
   "execution_count": null,
   "metadata": {},
   "outputs": [],
   "source": [
    "function findLongestWordLength(str) {\n",
    "  let arr = str.split(\" \")\n",
    "  let result = 0;\n",
    "  for(let i = 0; i < arr.length; i++){\n",
    "    if(arr[i].length > result){\n",
    "      result = arr[i].length;\n",
    "    }\n",
    "  }\n",
    "  return result;\n",
    "}\n",
    "\n",
    "findLongestWordLength(\"The quick brown fox jumped over the lazy dog\");"
   ]
  }
 ],
 "metadata": {
  "kernelspec": {
   "display_name": "Python 3",
   "language": "python",
   "name": "python3"
  },
  "language_info": {
   "name": "python",
   "version": "3.10.6 (tags/v3.10.6:9c7b4bd, Aug  1 2022, 21:53:49) [MSC v.1932 64 bit (AMD64)]"
  },
  "orig_nbformat": 4,
  "vscode": {
   "interpreter": {
    "hash": "2af6b4b8e7dc844f17d5955b4b91766577101cdd3d4def0405c89e7c4a589cca"
   }
  }
 },
 "nbformat": 4,
 "nbformat_minor": 2
}
