{
 "cells": [
  {
   "cell_type": "code",
   "execution_count": null,
   "metadata": {
    "vscode": {
     "languageId": "javascript"
    }
   },
   "outputs": [],
   "source": [
    "function mutation(arr) {\n",
    "  let arr1 = arr[0].toLowerCase();\n",
    "  let arr2 = arr[1].toLowerCase();\n",
    "\n",
    "  for(let i = 0; i < arr2.length; i++){\n",
    "    if(arr1.indexOf(arr2[i]) < 0){\n",
    "      return false;\n",
    "    }\n",
    "  }\n",
    "  return true; \n",
    "}\n",
    "\n",
    "mutation([\"hello\", \"hey\"]);"
   ]
  }
 ],
 "metadata": {
  "kernelspec": {
   "display_name": "Python 3",
   "language": "python",
   "name": "python3"
  },
  "language_info": {
   "name": "python",
   "version": "3.10.6 (tags/v3.10.6:9c7b4bd, Aug  1 2022, 21:53:49) [MSC v.1932 64 bit (AMD64)]"
  },
  "orig_nbformat": 4,
  "vscode": {
   "interpreter": {
    "hash": "2af6b4b8e7dc844f17d5955b4b91766577101cdd3d4def0405c89e7c4a589cca"
   }
  }
 },
 "nbformat": 4,
 "nbformat_minor": 2
}
