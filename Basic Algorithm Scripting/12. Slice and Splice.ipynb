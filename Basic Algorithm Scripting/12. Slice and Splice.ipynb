{
 "cells": [
  {
   "cell_type": "code",
   "execution_count": null,
   "metadata": {
    "vscode": {
     "languageId": "javascript"
    }
   },
   "outputs": [],
   "source": [
    "function frankenSplice(arr1, arr2, n) {\n",
    "  let arr3 = [];\n",
    "  if(arr1.length == 0){\n",
    "    return arr2;\n",
    "  } else if(arr2.length == 0){\n",
    "    return arr1;\n",
    "  } else{\n",
    "    for(let i = 0; i < arr2.length; i++){\n",
    "    arr3.push(arr2[i]);\n",
    "    if(i == n-1){\n",
    "      for(let j = 0; j < arr1.length; j++){\n",
    "      arr3.push(arr1[j]);\n",
    "      }\n",
    "    }\n",
    "    }\n",
    "  }\n",
    "  \n",
    "  return arr3;\n",
    "}\n",
    "\n",
    "frankenSplice([1, 2, 3], [4, 5, 6], 1);"
   ]
  }
 ],
 "metadata": {
  "kernelspec": {
   "display_name": "Python 3",
   "language": "python",
   "name": "python3"
  },
  "language_info": {
   "name": "python",
   "version": "3.10.6 (tags/v3.10.6:9c7b4bd, Aug  1 2022, 21:53:49) [MSC v.1932 64 bit (AMD64)]"
  },
  "orig_nbformat": 4,
  "vscode": {
   "interpreter": {
    "hash": "2af6b4b8e7dc844f17d5955b4b91766577101cdd3d4def0405c89e7c4a589cca"
   }
  }
 },
 "nbformat": 4,
 "nbformat_minor": 2
}
