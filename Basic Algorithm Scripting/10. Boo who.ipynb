{
 "cells": [
  {
   "attachments": {},
   "cell_type": "markdown",
   "metadata": {},
   "source": [
    "# Boo Who"
   ]
  },
  {
   "attachments": {},
   "cell_type": "markdown",
   "metadata": {},
   "source": [
    "## Task\n",
    "Check if a value is classified as a boolean primitive. Return true or false.\n",
    "\n",
    "Boolean primitives are true and false.\n",
    "\n",
    "\n",
    "```javascript\n",
    "function booWho(bool) {\n",
    "  return bool;\n",
    "}\n",
    "\n",
    "booWho(null);\n",
    "```\n",
    "\n",
    "## Tests\n",
    "- booWho(true) should return true.\n",
    "- booWho(false) should return true.\n",
    "- booWho([1, 2, 3]) should return false.\n",
    "- booWho([].slice) should return false.\n",
    "- booWho({ \"a\": 1 }) should return false.\n",
    "- booWho(1) should return false.\n",
    "- booWho(NaN) should return false.\n",
    "- booWho(\"a\") should return false.\n",
    "- booWho(\"true\") should return false.\n",
    "- booWho(\"false\") should return false.\n"
   ]
  },
  {
   "attachments": {},
   "cell_type": "markdown",
   "metadata": {},
   "source": [
    "## Solution"
   ]
  },
  {
   "cell_type": "code",
   "execution_count": null,
   "metadata": {},
   "outputs": [],
   "source": [
    "function booWho(bool) {\n",
    "  if (typeof bool == \"boolean\"){\n",
    "    return true;\n",
    "  } else {\n",
    "    return false;\n",
    "  }\n",
    "}\n",
    "\n",
    "booWho(null);"
   ]
  }
 ],
 "metadata": {
  "kernelspec": {
   "display_name": "Python 3",
   "language": "python",
   "name": "python3"
  },
  "language_info": {
   "name": "python",
   "version": "3.10.6 (tags/v3.10.6:9c7b4bd, Aug  1 2022, 21:53:49) [MSC v.1932 64 bit (AMD64)]"
  },
  "orig_nbformat": 4,
  "vscode": {
   "interpreter": {
    "hash": "2af6b4b8e7dc844f17d5955b4b91766577101cdd3d4def0405c89e7c4a589cca"
   }
  }
 },
 "nbformat": 4,
 "nbformat_minor": 2
}
