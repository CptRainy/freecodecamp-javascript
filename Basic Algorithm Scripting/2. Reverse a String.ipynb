{
 "cells": [
  {
   "attachments": {},
   "cell_type": "markdown",
   "metadata": {},
   "source": [
    "# Reverse a String"
   ]
  },
  {
   "attachments": {},
   "cell_type": "markdown",
   "metadata": {},
   "source": [
    "## Task\n",
    "Reverse the provided string and return the reversed string.\n",
    "\n",
    "For example, \"hello\" should become \"olleh\".\n",
    "\n",
    "```javascript\n",
    "function reverseString(str) {\n",
    "  return str;\n",
    "}\n",
    "\n",
    "reverseString(\"hello\");\n",
    "```\n",
    "\n",
    "## Tests\n",
    "- reverseString(\"hello\") should return a string.\n",
    "- reverseString(\"hello\") should return the string olleh.\n",
    "- reverseString(\"Howdy\") should return the string ydwoH.\n",
    "- reverseString(\"Greetings from Earth\") should return the string htraE morf sgniteerG."
   ]
  },
  {
   "attachments": {},
   "cell_type": "markdown",
   "metadata": {},
   "source": [
    "## Solution"
   ]
  },
  {
   "cell_type": "code",
   "execution_count": null,
   "metadata": {
    "vscode": {
     "languageId": "javascript"
    }
   },
   "outputs": [],
   "source": [
    "/* Initial Solution*/\n",
    "function reverseString(str){\n",
    "    let arr = str.split(\"\");\n",
    "    let result = [];\n",
    "    for(let i = arr.length-1; i > -1; i--){\n",
    "      result.push(arr[i]);\n",
    "    }\n",
    "    return result.join(\"\");\n",
    "  }\n",
    "  \n",
    "  reverseString(\"hello\");\n",
    "\n",
    "\n",
    "/* Upgraded solution based on initial solution */\n",
    "\n",
    "function reverseString(str){\n",
    "    let result = str.split(\"\");\n",
    "    result.reverse(); //forgot that you can reverse an array in javascript using reverse() which instead of manually doing it\n",
    "    return result.join(\"\");\n",
    "}\n",
    "  \n",
    "  reverseString(\"hello\");\n"
   ]
  }
 ],
 "metadata": {
  "kernelspec": {
   "display_name": "Python 3",
   "language": "python",
   "name": "python3"
  },
  "language_info": {
   "name": "python",
   "version": "3.10.6 (tags/v3.10.6:9c7b4bd, Aug  1 2022, 21:53:49) [MSC v.1932 64 bit (AMD64)]"
  },
  "orig_nbformat": 4,
  "vscode": {
   "interpreter": {
    "hash": "2af6b4b8e7dc844f17d5955b4b91766577101cdd3d4def0405c89e7c4a589cca"
   }
  }
 },
 "nbformat": 4,
 "nbformat_minor": 2
}
