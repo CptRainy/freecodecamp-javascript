{
 "cells": [
  {
   "cell_type": "code",
   "execution_count": null,
   "metadata": {
    "vscode": {
     "languageId": "javascript"
    }
   },
   "outputs": [],
   "source": [
    "function chunkArrayInGroups(arr, size) {\n",
    "  let arr2 = [];\n",
    "  for (let i = 0; i < arr.length; i+=size){  \n",
    "    arr2.push(arr.slice(i,i+size));\n",
    "  }\n",
    "\n",
    "  return arr2;\n",
    "}\n",
    "\n",
    "chunkArrayInGroups([\"a\", \"b\", \"c\", \"d\"], 2);"
   ]
  }
 ],
 "metadata": {
  "language_info": {
   "name": "python"
  },
  "orig_nbformat": 4
 },
 "nbformat": 4,
 "nbformat_minor": 2
}
