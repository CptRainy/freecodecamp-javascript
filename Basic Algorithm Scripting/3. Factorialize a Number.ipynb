{
 "cells": [
  {
   "attachments": {},
   "cell_type": "markdown",
   "metadata": {},
   "source": [
    "# Factorialize a Number"
   ]
  },
  {
   "attachments": {},
   "cell_type": "markdown",
   "metadata": {},
   "source": [
    "## Task\n",
    "Return the factorial of the provided integer.\n",
    "\n",
    "If the integer is represented with the letter n, a factorial is the product of all positive integers less than or equal to n.\n",
    "\n",
    "Factorials are often represented with the shorthand notation n!\n",
    "\n",
    "For example: 5! = 1 * 2 * 3 * 4 * 5 = 120\n",
    "\n",
    "Only integers greater than or equal to zero will be supplied to the function.\n",
    "\n",
    "```javascript\n",
    "function factorialize(num) {\n",
    "  return num;\n",
    "}\n",
    "\n",
    "factorialize(5);\n",
    "```\n",
    "\n",
    "## Tests\n",
    "- factorialize(5) should return a number.\n",
    "- factorialize(5) should return 120.\n",
    "- factorialize(10) should return 3628800.\n",
    "- factorialize(20) should return 2432902008176640000.\n",
    "- factorialize(0) should return 1."
   ]
  },
  {
   "attachments": {},
   "cell_type": "markdown",
   "metadata": {},
   "source": [
    "## Solution"
   ]
  },
  {
   "cell_type": "code",
   "execution_count": null,
   "metadata": {},
   "outputs": [],
   "source": [
    "function factorialize(num) {\n",
    "  let result = 1;\n",
    "  for(let i = num; i >= 1; i--){\n",
    "    result *= i;\n",
    "  }\n",
    "  return result;\n",
    "}\n",
    "\n",
    "factorialize(5);"
   ]
  }
 ],
 "metadata": {
  "kernelspec": {
   "display_name": "Python 3",
   "language": "python",
   "name": "python3"
  },
  "language_info": {
   "name": "python",
   "version": "3.10.6 (tags/v3.10.6:9c7b4bd, Aug  1 2022, 21:53:49) [MSC v.1932 64 bit (AMD64)]"
  },
  "orig_nbformat": 4,
  "vscode": {
   "interpreter": {
    "hash": "2af6b4b8e7dc844f17d5955b4b91766577101cdd3d4def0405c89e7c4a589cca"
   }
  }
 },
 "nbformat": 4,
 "nbformat_minor": 2
}
