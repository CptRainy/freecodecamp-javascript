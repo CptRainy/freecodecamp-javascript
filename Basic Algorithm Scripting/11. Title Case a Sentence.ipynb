{
 "cells": [
  {
   "cell_type": "code",
   "execution_count": null,
   "metadata": {
    "vscode": {
     "languageId": "javascript"
    }
   },
   "outputs": [],
   "source": [
    "function titleCase(str) {\n",
    "  let arr = str.toLowerCase().split('');\n",
    "  for(let i = 0; i < arr.length; i++){\n",
    "    if(i == 0){\n",
    "      arr[i] = arr[i].toUpperCase();\n",
    "    }else if(arr[i] == \" \"){\n",
    "      arr[i+1] = arr[i+1].toUpperCase();\n",
    "    }\n",
    "  }\n",
    "  return arr.join(\"\");\n",
    "}\n",
    "\n",
    "titleCase(\"I'm a little tea pot\");"
   ]
  }
 ],
 "metadata": {
  "kernelspec": {
   "display_name": "Python 3",
   "language": "python",
   "name": "python3"
  },
  "language_info": {
   "name": "python",
   "version": "3.10.6 (tags/v3.10.6:9c7b4bd, Aug  1 2022, 21:53:49) [MSC v.1932 64 bit (AMD64)]"
  },
  "orig_nbformat": 4,
  "vscode": {
   "interpreter": {
    "hash": "2af6b4b8e7dc844f17d5955b4b91766577101cdd3d4def0405c89e7c4a589cca"
   }
  }
 },
 "nbformat": 4,
 "nbformat_minor": 2
}
