{
 "cells": [
  {
   "attachments": {},
   "cell_type": "markdown",
   "metadata": {},
   "source": [
    "# Truncate a String"
   ]
  },
  {
   "attachments": {},
   "cell_type": "markdown",
   "metadata": {},
   "source": [
    "## Task\n",
    "Truncate a string (first argument) if it is longer than the given maximum string length (second argument). Return the truncated string with a ... ending.\n",
    "\n",
    "```javascript\n",
    "function truncateString(str, num) {\n",
    "  return str;\n",
    "}\n",
    "\n",
    "truncateString(\"A-tisket a-tasket A green and yellow basket\", 8);\n",
    "```\n",
    "\n",
    "## Tests\n",
    "- truncateString(\"A-tisket a-tasket A green and yellow basket\", 8) should return the string A-tisket....\n",
    "- truncateString(\"Peter Piper picked a peck of pickled peppers\", 11) should return the string Peter Piper....\n",
    "- truncateString(\"A-tisket a-tasket A green and yellow basket\", \"A-tisket a-tasket A green and yellow basket\".length) should return the string A-tisket a-tasket A green and yellow basket.\n",
    "- truncateString(\"A-tisket a-tasket A green and yellow basket\", \"A-tisket a-tasket A green and yellow basket\".length + 2) should return the string A-tisket a-tasket A green and yellow basket.\n",
    "- truncateString(\"A-\", 1) should return the string A....\n",
    "- truncateString(\"Absolutely Longer\", 2) should return the string Ab...."
   ]
  },
  {
   "attachments": {},
   "cell_type": "markdown",
   "metadata": {},
   "source": [
    "## Solution"
   ]
  },
  {
   "cell_type": "code",
   "execution_count": null,
   "metadata": {
    "vscode": {
     "languageId": "javascript"
    }
   },
   "outputs": [],
   "source": [
    "function truncateString(str, num) {\n",
    "    let newstr;\n",
    "  \n",
    "    if(str.length > num){\n",
    "      newstr = str.substring(0,num)+\"...\";\n",
    "      return newstr;\n",
    "    } else {\n",
    "      return str;\n",
    "    }\n",
    "  }\n",
    "  \n",
    "  truncateString(\"A-tisket a-tasket A green and yellow basket\", 8);"
   ]
  }
 ],
 "metadata": {
  "kernelspec": {
   "display_name": "Python 3",
   "language": "python",
   "name": "python3"
  },
  "language_info": {
   "name": "python",
   "version": "3.10.6 (tags/v3.10.6:9c7b4bd, Aug  1 2022, 21:53:49) [MSC v.1932 64 bit (AMD64)]"
  },
  "orig_nbformat": 4,
  "vscode": {
   "interpreter": {
    "hash": "2af6b4b8e7dc844f17d5955b4b91766577101cdd3d4def0405c89e7c4a589cca"
   }
  }
 },
 "nbformat": 4,
 "nbformat_minor": 2
}
