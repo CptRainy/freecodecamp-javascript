{
 "cells": [
  {
   "cell_type": "code",
   "execution_count": null,
   "metadata": {
    "vscode": {
     "languageId": "javascript"
    }
   },
   "outputs": [],
   "source": [
    "function telephoneCheck(str) {\n",
    "  let regex = [/^1? ?\\d{3}-?\\d{3}-?\\d{4}$/g,/^1? ?\\(\\d{3}\\) ?\\d{3}-\\d{4}$/g,/^1? ?\\d{3} ?\\d{3} ?\\d{4}$/g];\n",
    "  for(let i = 0; i < regex.length; i++){\n",
    "    if(str.match(regex[i])){\n",
    "    return true;\n",
    "    }\n",
    "  }\n",
    "  return false;\n",
    "}\n",
    "\n",
    "console.log(telephoneCheck(\"1 555 555 5555\"));"
   ]
  }
 ],
 "metadata": {
  "kernelspec": {
   "display_name": "Python 3",
   "language": "python",
   "name": "python3"
  },
  "language_info": {
   "name": "python",
   "version": "3.10.6"
  },
  "orig_nbformat": 4,
  "vscode": {
   "interpreter": {
    "hash": "2af6b4b8e7dc844f17d5955b4b91766577101cdd3d4def0405c89e7c4a589cca"
   }
  }
 },
 "nbformat": 4,
 "nbformat_minor": 2
}
