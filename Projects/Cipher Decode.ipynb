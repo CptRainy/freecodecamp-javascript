{
 "cells": [
  {
   "cell_type": "code",
   "execution_count": null,
   "metadata": {
    "vscode": {
     "languageId": "javascript"
    }
   },
   "outputs": [],
   "source": [
    "function rot13(str) {\n",
    "  let alphabet = ['A','B','C','D','E','F','G','H','I','J','K','L','M','N','O','P','Q','R','S','T','U','V','W','X','Y','Z'];\n",
    "  let result = [];\n",
    "  let regex = /[A-Z]/gi\n",
    "\n",
    "  for(let i = 0; i < str.length; i++){\n",
    "    if(str[i] === \" \" || str[i].match(/[^A-Z]/gi)){\n",
    "      result.push(str[i]);\n",
    "    } else {\n",
    "      let index = alphabet.indexOf(str[i]) - 13;\n",
    "      if (index < 0){\n",
    "        index += 26;\n",
    "      }\n",
    "      result.push(alphabet[index])\n",
    "    }\n",
    "  }\n",
    "  return result.join('');\n",
    "}\n",
    "\n",
    "console.log(rot13(\"SERR PBQR PNZC\"));"
   ]
  }
 ],
 "metadata": {
  "kernelspec": {
   "display_name": "Python 3",
   "language": "python",
   "name": "python3"
  },
  "language_info": {
   "name": "python",
   "version": "3.10.6"
  },
  "orig_nbformat": 4,
  "vscode": {
   "interpreter": {
    "hash": "2af6b4b8e7dc844f17d5955b4b91766577101cdd3d4def0405c89e7c4a589cca"
   }
  }
 },
 "nbformat": 4,
 "nbformat_minor": 2
}
