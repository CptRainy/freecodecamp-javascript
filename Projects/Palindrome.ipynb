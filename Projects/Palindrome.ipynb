{
 "cells": [
  {
   "cell_type": "code",
   "execution_count": null,
   "metadata": {},
   "outputs": [],
   "source": [
    "function palindrome(str) {\n",
    "  let strClean = str.replace(/[^A-Z0-9]/gi,\"\").toLowerCase();\n",
    "  let pal = strClean.split('').reverse().join('');\n",
    "  console.log(strClean);\n",
    "  if (pal === strClean){\n",
    "    return true;\n",
    "  } else{\n",
    "    return false;\n",
    "  }\n",
    "}\n",
    "\n",
    "palindrome(\"1 eye for of 1 eye.\");"
   ]
  }
 ],
 "metadata": {
  "kernelspec": {
   "display_name": "Python 3",
   "language": "python",
   "name": "python3"
  },
  "language_info": {
   "name": "python",
   "version": "3.10.6"
  },
  "orig_nbformat": 4,
  "vscode": {
   "interpreter": {
    "hash": "2af6b4b8e7dc844f17d5955b4b91766577101cdd3d4def0405c89e7c4a589cca"
   }
  }
 },
 "nbformat": 4,
 "nbformat_minor": 2
}
