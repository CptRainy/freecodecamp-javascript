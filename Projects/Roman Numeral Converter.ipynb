{
 "cells": [
  {
   "cell_type": "code",
   "execution_count": null,
   "metadata": {},
   "outputs": [],
   "source": [
    "function convertToRoman(num) {\n",
    "  let arr = [1000,900,500,400,100,90,50,40,10,9,5,4,1];\n",
    "  let roman = [\"M\", \"CM\", \"D\", \"CD\",\"C\", \"XC\", \"L\", \"XL\", \"X\", \"IX\", \"V\", \"IV\", \"I\"];\n",
    "  let remainder = [];\n",
    "  let str = [];\n",
    "\n",
    "  for(let i = 0; i < arr.length; i++){\n",
    "    const temp = Math.floor(num / arr[i]);\n",
    "    num = num % arr[i];\n",
    "    remainder.push(temp);\n",
    "  }\n",
    "\n",
    "  for (let j = 0; j < remainder.length; j++){\n",
    "    if(remainder[j] !== 0){\n",
    "      for(let k = 0; k < remainder[j]; k++){\n",
    "        str.push(roman[j]);\n",
    "      }\n",
    "    }\n",
    "  }\n",
    "  console.log(remainder);\n",
    "  console.log(str);\n",
    "\n",
    "  return str.join('');\n",
    "}\n",
    "\n",
    "console.log(convertToRoman(9));"
   ]
  }
 ],
 "metadata": {
  "kernelspec": {
   "display_name": "Python 3",
   "language": "python",
   "name": "python3"
  },
  "language_info": {
   "name": "python",
   "version": "3.10.6"
  },
  "orig_nbformat": 4,
  "vscode": {
   "interpreter": {
    "hash": "2af6b4b8e7dc844f17d5955b4b91766577101cdd3d4def0405c89e7c4a589cca"
   }
  }
 },
 "nbformat": 4,
 "nbformat_minor": 2
}
