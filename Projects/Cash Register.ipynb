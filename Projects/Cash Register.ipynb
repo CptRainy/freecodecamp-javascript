{
 "cells": [
  {
   "cell_type": "code",
   "execution_count": null,
   "metadata": {
    "vscode": {
     "languageId": "javascript"
    }
   },
   "outputs": [],
   "source": [
    "function checkCashRegister(price, cash, cid) {\n",
    "  let cashregister = [...cid].reverse();\n",
    "  const cashcurrency = [100, 20, 10, 5, 1, 0.25, 0.1, 0.05, 0.01];\n",
    "  let needschange = cash - price;\n",
    "  const needschange1 = cash - price;\n",
    "  let receipt = {status: \"OPEN\", change: []};\n",
    "  let totalCID = 0;\n",
    "  let x = [...cid];\n",
    "\n",
    "  for(let i = 0; i < cashregister.length; i++){\n",
    "    totalCID += cashregister[i][1];\n",
    "    if (totalCID == needschange1) {\n",
    "      receipt.change.push([cashregister[i][0], cashregister[i][1]]);\n",
    "      receipt.status = \"CLOSED\";\n",
    "      receipt.change = cid;\n",
    "      return receipt;\n",
    "    }\n",
    "    if(cashregister[i][1] > 0){\n",
    "      if(cashcurrency[i] <= needschange){\n",
    "        let counter = 0;\n",
    "          while(cashregister[i][1] != 0 && needschange >= cashcurrency[i]){\n",
    "          cashregister[i][1] = (cashregister[i][1] - cashcurrency[i]).toFixed(2);\n",
    "          needschange = (needschange - cashcurrency[i]).toFixed(2);\n",
    "          counter++;\n",
    "          }\n",
    "          receipt.change.push([cashregister[i][0], counter * cashcurrency[i]]);        \n",
    "      }\n",
    "    }\n",
    "  }\n",
    "\n",
    "  if(needschange > 0){\n",
    "    receipt.status = \"INSUFFICIENT_FUNDS\";\n",
    "    receipt.change = [];\n",
    "  }\n",
    "  return receipt;\n",
    "}\n",
    "\n",
    "console.log(checkCashRegister(19.5, 20, [[\"PENNY\", 0.5], [\"NICKEL\", 0], [\"DIME\", 0], [\"QUARTER\", 0], [\"ONE\", 0], [\"FIVE\", 0], [\"TEN\", 0], [\"TWENTY\", 0], [\"ONE HUNDRED\", 0]]));"
   ]
  }
 ],
 "metadata": {
  "language_info": {
   "name": "python"
  },
  "orig_nbformat": 4
 },
 "nbformat": 4,
 "nbformat_minor": 2
}
