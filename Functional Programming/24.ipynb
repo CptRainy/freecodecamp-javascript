{
 "cells": [
  {
   "cell_type": "code",
   "execution_count": null,
   "metadata": {},
   "outputs": [],
   "source": [
    "function add(x) {\n",
    "  // Only change code below this line\n",
    "    return function(y){\n",
    "      return function (z){\n",
    "        return x + z + y;\n",
    "      }\n",
    "    }\n",
    "\n",
    "  // Only change code above this line\n",
    "}\n",
    "\n",
    "add(10)(20)(30);"
   ]
  }
 ],
 "metadata": {
  "language_info": {
   "name": "python"
  },
  "orig_nbformat": 4
 },
 "nbformat": 4,
 "nbformat_minor": 2
}
