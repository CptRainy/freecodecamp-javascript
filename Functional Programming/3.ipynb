{
 "cells": [
  {
   "cell_type": "code",
   "execution_count": null,
   "metadata": {
    "vscode": {
     "languageId": "javascript"
    }
   },
   "outputs": [],
   "source": [
    "// tabs is an array of titles of each site open within the window\n",
    "const Window = function(tabs) {\n",
    "    this.tabs = tabs; // We keep a record of the array inside the object\n",
    "  };\n",
    "  \n",
    "  // When you join two windows into one window\n",
    "  Window.prototype.join = function(otherWindow) {\n",
    "    this.tabs = this.tabs.concat(otherWindow.tabs);\n",
    "    return this;\n",
    "  };\n",
    "  \n",
    "  // When you open a new tab at the end\n",
    "  Window.prototype.tabOpen = function(tab) {\n",
    "    this.tabs.push('new tab'); // Let's open a new tab for now\n",
    "    return this;\n",
    "  };\n",
    "  \n",
    "  // When you close a tab\n",
    "  Window.prototype.tabClose = function(index) {\n",
    "  \n",
    "    // Only change code below this line\n",
    "  \n",
    "    const tabsBeforeIndex = this.tabs.splice(0, index); // Get the tabs before the tab\n",
    "    const tabsAfterIndex = this.tabs.splice(1); // Get the tabs after the tab\n",
    "  \n",
    "    this.tabs = tabsBeforeIndex.concat(tabsAfterIndex); // Join them together\n",
    "  \n",
    "    // Only change code above this line\n",
    "  \n",
    "    return this;\n",
    "   };\n",
    "  \n",
    "  // Let's create three browser windows\n",
    "  const workWindow = new Window(['GMail', 'Inbox', 'Work mail', 'Docs', 'freeCodeCamp']); // Your mailbox, drive, and other work sites\n",
    "  const socialWindow = new Window(['FB', 'Gitter', 'Reddit', 'Twitter', 'Medium']); // Social sites\n",
    "  const videoWindow = new Window(['Netflix', 'YouTube', 'Vimeo', 'Vine']); // Entertainment sites\n",
    "  \n",
    "  // Now perform the tab opening, closing, and other operations\n",
    "  const finalTabs = socialWindow\n",
    "    .tabOpen() // Open a new tab for cat memes\n",
    "    .join(videoWindow.tabClose(2)) // Close third tab in video window, and join\n",
    "    .join(workWindow.tabClose(1).tabOpen());\n",
    "  console.log(finalTabs.tabs);"
   ]
  }
 ],
 "metadata": {
  "language_info": {
   "name": "python"
  },
  "orig_nbformat": 4
 },
 "nbformat": 4,
 "nbformat_minor": 2
}
