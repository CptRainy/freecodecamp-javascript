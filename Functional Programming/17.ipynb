{
 "cells": [
  {
   "cell_type": "code",
   "execution_count": null,
   "metadata": {
    "vscode": {
     "languageId": "javascript"
    }
   },
   "outputs": [],
   "source": [
    "function alphabeticalOrder(arr) {\n",
    "    // Only change code below this line\n",
    "    return arr.sort(function(a, b) {\n",
    "      return a === b ? 0 : a > b ? 1 : -1;\n",
    "    });\n",
    "    // Only change code above this line\n",
    "  }\n",
    "  \n",
    "  console.log(alphabeticalOrder([\"a\", \"d\", \"c\", \"a\", \"z\", \"g\"]));"
   ]
  }
 ],
 "metadata": {
  "kernelspec": {
   "display_name": "Python 3",
   "language": "python",
   "name": "python3"
  },
  "language_info": {
   "name": "python",
   "version": "3.10.6 (tags/v3.10.6:9c7b4bd, Aug  1 2022, 21:53:49) [MSC v.1932 64 bit (AMD64)]"
  },
  "orig_nbformat": 4,
  "vscode": {
   "interpreter": {
    "hash": "2af6b4b8e7dc844f17d5955b4b91766577101cdd3d4def0405c89e7c4a589cca"
   }
  }
 },
 "nbformat": 4,
 "nbformat_minor": 2
}
