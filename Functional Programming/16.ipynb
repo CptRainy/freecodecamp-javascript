{
 "cells": [
  {
   "cell_type": "code",
   "execution_count": null,
   "metadata": {
    "vscode": {
     "languageId": "javascript"
    }
   },
   "outputs": [],
   "source": [
    "const squareList = arr => {\n",
    "  // Only change code below this line\n",
    "  let filterdList = arr.filter(num => num > 0 && Number.isInteger(num)); \n",
    "  let mappedList = filterdList.map(num => num * num);\n",
    "  return mappedList;\n",
    "  // Only change code above this line\n",
    "};\n",
    "\n",
    "const squaredIntegers = squareList([-3, 4.8, 5, 3, -3.2]);\n",
    "console.log(squaredIntegers);"
   ]
  }
 ],
 "metadata": {
  "kernelspec": {
   "display_name": "Python 3",
   "language": "python",
   "name": "python3"
  },
  "language_info": {
   "name": "python",
   "version": "3.10.6 (tags/v3.10.6:9c7b4bd, Aug  1 2022, 21:53:49) [MSC v.1932 64 bit (AMD64)]"
  },
  "orig_nbformat": 4,
  "vscode": {
   "interpreter": {
    "hash": "2af6b4b8e7dc844f17d5955b4b91766577101cdd3d4def0405c89e7c4a589cca"
   }
  }
 },
 "nbformat": 4,
 "nbformat_minor": 2
}
