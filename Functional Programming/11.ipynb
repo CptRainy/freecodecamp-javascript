{
 "cells": [
  {
   "cell_type": "code",
   "execution_count": null,
   "metadata": {},
   "outputs": [],
   "source": [
    "function sliceArray(anim, beginSlice, endSlice) {\n",
    "  // Only change code below this line\n",
    "  return anim.slice(beginSlice, endSlice);\n",
    "  // Only change code above this line\n",
    "}\n",
    "\n",
    "const inputAnim = [\"Cat\", \"Dog\", \"Tiger\", \"Zebra\", \"Ant\"];\n",
    "sliceArray(inputAnim, 1, 3);"
   ]
  }
 ],
 "metadata": {
  "language_info": {
   "name": "python"
  },
  "orig_nbformat": 4
 },
 "nbformat": 4,
 "nbformat_minor": 2
}
