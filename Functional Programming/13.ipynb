{
 "cells": [
  {
   "cell_type": "code",
   "execution_count": null,
   "metadata": {},
   "outputs": [],
   "source": [
    "function nonMutatingConcat(original, attach) {\n",
    "  // Only change code below this line\n",
    "  return original.concat(attach);\n",
    "\n",
    "  // Only change code above this line\n",
    "}\n",
    "\n",
    "const first = [1, 2, 3];\n",
    "const second = [4, 5];\n",
    "nonMutatingConcat(first, second);"
   ]
  }
 ],
 "metadata": {
  "language_info": {
   "name": "python"
  },
  "orig_nbformat": 4
 },
 "nbformat": 4,
 "nbformat_minor": 2
}
