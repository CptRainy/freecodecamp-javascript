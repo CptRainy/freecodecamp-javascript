{
 "cells": [
  {
   "cell_type": "code",
   "execution_count": null,
   "metadata": {},
   "outputs": [],
   "source": [
    "Array.prototype.myMap = function(callback) {\n",
    "  const newArray = [];\n",
    "  // Only change code below this line\n",
    "  for(let i = 0; i < this.length; i++){\n",
    "    newArray.push(callback(this[i],i,this));\n",
    "  }\n",
    "  // Only change code above this line\n",
    "  return newArray;\n",
    "};"
   ]
  }
 ],
 "metadata": {
  "language_info": {
   "name": "python"
  },
  "orig_nbformat": 4
 },
 "nbformat": 4,
 "nbformat_minor": 2
}
