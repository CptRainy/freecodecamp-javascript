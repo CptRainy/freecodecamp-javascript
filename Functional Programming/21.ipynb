{
 "cells": [
  {
   "cell_type": "code",
   "execution_count": null,
   "metadata": {
    "vscode": {
     "languageId": "javascript"
    }
   },
   "outputs": [],
   "source": [
    "// Only change code below this line\n",
    "function urlSlug(title) {\n",
    "    title = title.toLowerCase().trim().split(/\\W+/).join(\"-\");\n",
    "    return title;\n",
    "  }\n",
    "  // Only change code above this line\n",
    "  console.log(urlSlug(\" Winter Is  Coming\"));"
   ]
  }
 ],
 "metadata": {
  "language_info": {
   "name": "python"
  },
  "orig_nbformat": 4
 },
 "nbformat": 4,
 "nbformat_minor": 2
}
