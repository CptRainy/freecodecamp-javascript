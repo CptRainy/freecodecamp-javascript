{
 "cells": [
  {
   "cell_type": "code",
   "execution_count": null,
   "metadata": {
    "vscode": {
     "languageId": "javascript"
    }
   },
   "outputs": [],
   "source": [
    "// The global variable\n",
    "const bookList = [\"The Hound of the Baskervilles\", \"On The Electrodynamics of Moving Bodies\", \"Philosophiæ Naturalis Principia Mathematica\", \"Disquisitiones Arithmeticae\"];\n",
    "\n",
    "// Change code below this line\n",
    "function add(arr,bookName) {\n",
    "  let newarr = [...arr];\n",
    "  newarr.push(bookName);\n",
    "  return newarr;\n",
    "  \n",
    "  // Change code above this line\n",
    "}\n",
    "\n",
    "// Change code below this line\n",
    "function remove(arr,bookName) {\n",
    "  let newarr = [...arr];\n",
    "  const book_index = newarr.indexOf(bookName);\n",
    "  if (book_index >= 0) {\n",
    "\n",
    "    newarr.splice(book_index, 1);\n",
    "    return newarr;\n",
    "\n",
    "    // Change code above this line\n",
    "    }\n",
    "}"
   ]
  }
 ],
 "metadata": {
  "kernelspec": {
   "display_name": "Python 3",
   "language": "python",
   "name": "python3"
  },
  "language_info": {
   "name": "python",
   "version": "3.10.6 (tags/v3.10.6:9c7b4bd, Aug  1 2022, 21:53:49) [MSC v.1932 64 bit (AMD64)]"
  },
  "orig_nbformat": 4,
  "vscode": {
   "interpreter": {
    "hash": "2af6b4b8e7dc844f17d5955b4b91766577101cdd3d4def0405c89e7c4a589cca"
   }
  }
 },
 "nbformat": 4,
 "nbformat_minor": 2
}
