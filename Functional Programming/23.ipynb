{
 "cells": [
  {
   "cell_type": "code",
   "execution_count": null,
   "metadata": {},
   "outputs": [],
   "source": [
    "function checkPositive(arr) {\n",
    "  // Only change code below this line\n",
    "  return arr.some(function(num){\n",
    "    return num > 0;\n",
    "  });\n",
    "\n",
    "  // Only change code above this line\n",
    "}\n",
    "\n",
    "checkPositive([1, 2, 3, -4, 5]);"
   ]
  }
 ],
 "metadata": {
  "language_info": {
   "name": "python"
  },
  "orig_nbformat": 4
 },
 "nbformat": 4,
 "nbformat_minor": 2
}
