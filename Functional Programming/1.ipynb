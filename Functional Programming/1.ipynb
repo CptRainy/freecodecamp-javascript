{
 "cells": [
  {
   "cell_type": "code",
   "execution_count": null,
   "metadata": {
    "vscode": {
     "languageId": "javascript"
    }
   },
   "outputs": [],
   "source": [
    "// Function that returns a string representing a cup of green tea\n",
    "const prepareTea = () => 'greenTea';\n",
    "\n",
    "/*\n",
    "Given a function (representing the tea type) and number of cups needed, the\n",
    "following function returns an array of strings (each representing a cup of\n",
    "a specific type of tea).\n",
    "*/\n",
    "const getTea = (numOfCups) => {\n",
    "  const teaCups = [];\n",
    "\n",
    "  for(let cups = 1; cups <= numOfCups; cups += 1) {\n",
    "    const teaCup = prepareTea();\n",
    "    teaCups.push(teaCup);\n",
    "  }\n",
    "  return teaCups;\n",
    "};\n",
    "\n",
    "// Only change code below this line\n",
    "const tea4TeamFCC = getTea(40);\n",
    "// Only change code above this line"
   ]
  }
 ],
 "metadata": {
  "kernelspec": {
   "display_name": "Python 3",
   "language": "python",
   "name": "python3"
  },
  "language_info": {
   "name": "python",
   "version": "3.10.6 (tags/v3.10.6:9c7b4bd, Aug  1 2022, 21:53:49) [MSC v.1932 64 bit (AMD64)]"
  },
  "orig_nbformat": 4,
  "vscode": {
   "interpreter": {
    "hash": "2af6b4b8e7dc844f17d5955b4b91766577101cdd3d4def0405c89e7c4a589cca"
   }
  }
 },
 "nbformat": 4,
 "nbformat_minor": 2
}
