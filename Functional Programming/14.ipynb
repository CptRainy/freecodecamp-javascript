{
 "cells": [
  {
   "cell_type": "code",
   "execution_count": null,
   "metadata": {},
   "outputs": [],
   "source": [
    "function nonMutatingPush(original, newItem) {\n",
    "  // Only change code below this line\n",
    "  return original.concat(newItem);\n",
    "\n",
    "  // Only change code above this line\n",
    "}\n",
    "\n",
    "const first = [1, 2, 3];\n",
    "const second = [4, 5];\n",
    "nonMutatingPush(first, second);"
   ]
  }
 ],
 "metadata": {
  "language_info": {
   "name": "python"
  },
  "orig_nbformat": 4
 },
 "nbformat": 4,
 "nbformat_minor": 2
}
