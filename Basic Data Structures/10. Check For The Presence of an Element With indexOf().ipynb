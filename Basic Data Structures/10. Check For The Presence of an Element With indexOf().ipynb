{
 "cells": [
  {
   "attachments": {},
   "cell_type": "markdown",
   "metadata": {},
   "source": [
    "# Check For The Presence of an Element With indexOf()"
   ]
  },
  {
   "attachments": {},
   "cell_type": "markdown",
   "metadata": {},
   "source": [
    "Since arrays can be changed, or mutated, at any time, there's no guarantee about where a particular piece of data will be on a given array, or if that element even still exists. Luckily, JavaScript provides us with another built-in method, indexOf(), that allows us to quickly and easily check for the presence of an element on an array. indexOf() takes an element as a parameter, and when called, it returns the position, or index, of that element, or -1 if the element does not exist on the array.\n",
    "\n",
    "For example:\n",
    "```javascript\n",
    "let fruits = ['apples', 'pears', 'oranges', 'peaches', 'pears'];\n",
    "\n",
    "fruits.indexOf('dates');\n",
    "fruits.indexOf('oranges');\n",
    "fruits.indexOf('pears');\n",
    "```\n",
    "indexOf('dates') returns -1, indexOf('oranges') returns 2, and indexOf('pears') returns 1 (the first index at which each element exists)."
   ]
  },
  {
   "attachments": {},
   "cell_type": "markdown",
   "metadata": {},
   "source": [
    "## Task\n",
    "indexOf() can be incredibly useful for quickly checking for the presence of an element on an array. We have defined a function, quickCheck, that takes an array and an element as arguments. Modify the function using indexOf() so that it returns true if the passed element exists on the array, and false if it does not.\n",
    "\n",
    "```javascript\n",
    "function quickCheck(arr, elem) {\n",
    "  // Only change code below this line\n",
    "\n",
    "  // Only change code above this line\n",
    "}\n",
    "\n",
    "console.log(quickCheck(['squash', 'onions', 'shallots'], 'mushrooms'));\n",
    "```\n",
    "\n",
    "## Tests\n",
    "- The quickCheck function should return a boolean (true or false), not a string (\"true\" or \"false\")\n",
    "- quickCheck([\"squash\", \"onions\", \"shallots\"], \"mushrooms\") should return false\n",
    "- quickCheck([\"onions\", \"squash\", \"shallots\"], \"onions\") should return true\n",
    "- quickCheck([3, 5, 9, 125, 45, 2], 125) should return true\n",
    "- quickCheck([true, false, false], undefined) should return false\n",
    "- The quickCheck function should utilize the indexOf() method"
   ]
  },
  {
   "attachments": {},
   "cell_type": "markdown",
   "metadata": {},
   "source": [
    "## Solution"
   ]
  },
  {
   "cell_type": "code",
   "execution_count": null,
   "metadata": {
    "vscode": {
     "languageId": "javascript"
    }
   },
   "outputs": [],
   "source": [
    "function quickCheck(arr, elem) {\n",
    "  let result = arr.indexOf(elem);\n",
    "  if (result < 0){\n",
    "    return false;\n",
    "  } else {\n",
    "    return true;\n",
    "  }\n",
    "}\n",
    "\n",
    "console.log(quickCheck(['squash', 'onions', 'shallots'], 'mushrooms'));"
   ]
  }
 ],
 "metadata": {
  "kernelspec": {
   "display_name": "Python 3",
   "language": "python",
   "name": "python3"
  },
  "language_info": {
   "name": "python",
   "version": "3.10.6 (tags/v3.10.6:9c7b4bd, Aug  1 2022, 21:53:49) [MSC v.1932 64 bit (AMD64)]"
  },
  "orig_nbformat": 4,
  "vscode": {
   "interpreter": {
    "hash": "2af6b4b8e7dc844f17d5955b4b91766577101cdd3d4def0405c89e7c4a589cca"
   }
  }
 },
 "nbformat": 4,
 "nbformat_minor": 2
}
