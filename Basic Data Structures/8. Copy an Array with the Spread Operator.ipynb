{
 "cells": [
  {
   "attachments": {},
   "cell_type": "markdown",
   "metadata": {},
   "source": [
    "# Copy an Array with the Spread Operator"
   ]
  },
  {
   "attachments": {},
   "cell_type": "markdown",
   "metadata": {},
   "source": [
    "While slice() allows us to be selective about what elements of an array to copy, among several other useful tasks, ES6's new spread operator allows us to easily copy all of an array's elements, in order, with a simple and highly readable syntax. The spread syntax simply looks like this: ...\n",
    "\n",
    "In practice, we can use the spread operator to copy an array like so:\n",
    "```javascript\n",
    "let thisArray = [true, true, undefined, false, null];\n",
    "let thatArray = [...thisArray];\n",
    "```\n",
    "thatArray equals [true, true, undefined, false, null]. thisArray remains unchanged and thatArray contains the same elements as thisArray."
   ]
  },
  {
   "attachments": {},
   "cell_type": "markdown",
   "metadata": {},
   "source": [
    "## Task\n",
    "We have defined a function, copyMachine which takes arr (an array) and num (a number) as arguments. The function is supposed to return a new array made up of num copies of arr. We have done most of the work for you, but it doesn't work quite right yet. Modify the function using spread syntax so that it works correctly (hint: another method we have already covered might come in handy here!).\n",
    "\n",
    "```javascript\n",
    "function copyMachine(arr, num) {\n",
    "  let newArr = [];\n",
    "  while (num >= 1) {\n",
    "    // Only change code below this line\n",
    "\n",
    "    // Only change code above this line\n",
    "    num--;\n",
    "  }\n",
    "  return newArr;\n",
    "}\n",
    "\n",
    "console.log(copyMachine([true, false, true], 2));\n",
    "```\n",
    "\n",
    "## Tests\n",
    "- copyMachine([true, false, true], 2) should return [[true, false, true], [true, false, true]]\n",
    "- copyMachine([1, 2, 3], 5) should return [[1, 2, 3], [1, 2, 3], [1, 2, 3], [1, 2, 3], [1, 2, 3]]\n",
    "- copyMachine([true, true, null], 1) should return [[true, true, null]]\n",
    "- copyMachine([\"it works\"], 3) should return [[\"it works\"], [\"it works\"], [\"it works\"]]\n",
    "- The copyMachine function should utilize the spread operator with array arr"
   ]
  },
  {
   "attachments": {},
   "cell_type": "markdown",
   "metadata": {},
   "source": [
    "## Solution"
   ]
  },
  {
   "cell_type": "code",
   "execution_count": null,
   "metadata": {
    "vscode": {
     "languageId": "javascript"
    }
   },
   "outputs": [],
   "source": [
    "function copyMachine(arr, num) {\n",
    "  let newArr = [];\n",
    "  while (num >= 1) {\n",
    "    newArr[num-1] = [...arr];\n",
    "    num--;\n",
    "  }\n",
    "  return newArr;\n",
    "}\n",
    "\n",
    "console.log(copyMachine([true, false, true], 2));"
   ]
  }
 ],
 "metadata": {
  "kernelspec": {
   "display_name": "Python 3",
   "language": "python",
   "name": "python3"
  },
  "language_info": {
   "name": "python",
   "version": "3.10.6 (tags/v3.10.6:9c7b4bd, Aug  1 2022, 21:53:49) [MSC v.1932 64 bit (AMD64)]"
  },
  "orig_nbformat": 4,
  "vscode": {
   "interpreter": {
    "hash": "2af6b4b8e7dc844f17d5955b4b91766577101cdd3d4def0405c89e7c4a589cca"
   }
  }
 },
 "nbformat": 4,
 "nbformat_minor": 2
}
