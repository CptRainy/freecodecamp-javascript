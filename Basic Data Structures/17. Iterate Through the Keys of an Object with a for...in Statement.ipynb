{
 "cells": [
  {
   "attachments": {},
   "cell_type": "markdown",
   "metadata": {},
   "source": [
    "# Iterate Through the Keys of an Object with a for...in Statement"
   ]
  },
  {
   "attachments": {},
   "cell_type": "markdown",
   "metadata": {},
   "source": [
    "Sometimes you may need to iterate through all the keys within an object. This requires a specific syntax in JavaScript called a for...in statement. For our users object, this could look like:\n",
    "```javascript\n",
    "for (let user in users) {\n",
    "  console.log(user);\n",
    "}\n",
    "```\n",
    "This would log Alan, Jeff, and Sarah - each value on its own line.\n",
    "\n",
    "In this statement, we defined a variable user, and as you can see, this variable was reset during each iteration to each of the object's keys as the statement looped through the object, resulting in each user's name being printed to the console.\n",
    "\n",
    "NOTE: Objects do not maintain an ordering to stored keys like arrays do; thus a key's position on an object, or the relative order in which it appears, is irrelevant when referencing or accessing that key."
   ]
  },
  {
   "attachments": {},
   "cell_type": "markdown",
   "metadata": {},
   "source": [
    "## Task\n",
    "We've defined a function countOnline which accepts one argument (a users object). Use a for...in statement within this function to loop through the users object passed into the function and return the number of users whose online property is set to true. An example of a users object which could be passed to countOnline is shown below. Each user will have an online property with either a true or false value.\n",
    "```javascript\n",
    "{\n",
    "  Alan: {\n",
    "    online: false\n",
    "  },\n",
    "  Jeff: {\n",
    "    online: true\n",
    "  },\n",
    "  Sarah: {\n",
    "    online: false\n",
    "  }\n",
    "}\n",
    "```\n",
    "\n",
    "```javascript\n",
    "const users = {\n",
    "  Alan: {\n",
    "    online: false\n",
    "  },\n",
    "  Jeff: {\n",
    "    online: true\n",
    "  },\n",
    "  Sarah: {\n",
    "    online: false\n",
    "  }\n",
    "}\n",
    "\n",
    "function countOnline(usersObj) {\n",
    "  // Only change code below this line\n",
    "\n",
    "  // Only change code above this line\n",
    "}\n",
    "\n",
    "console.log(countOnline(users));\n",
    "```\n",
    "\n",
    "## Tests\n",
    "- The function countOnline should use a for in statement to iterate through the object keys of the object passed to it.\n",
    "- The function countOnline should return 1 when the object { Alan: { online: false }, Jeff: { online: true }, Sarah: { online: false } } is passed to it\n",
    "- The function countOnline should return 2 when the object { Alan: { online: true }, Jeff: { online: false }, Sarah: { online: true } } is passed to it\n",
    "- The function countOnline should return 0 when the object { Alan: { online: false }, Jeff: { online: false }, Sarah: { online: false } } is passed to it"
   ]
  },
  {
   "attachments": {},
   "cell_type": "markdown",
   "metadata": {},
   "source": [
    "## Solution"
   ]
  },
  {
   "cell_type": "code",
   "execution_count": null,
   "metadata": {
    "vscode": {
     "languageId": "javascript"
    }
   },
   "outputs": [],
   "source": [
    "const users = {\n",
    "  Alan: {\n",
    "    online: false\n",
    "  },\n",
    "  Jeff: {\n",
    "    online: true\n",
    "  },\n",
    "  Sarah: {\n",
    "    online: false\n",
    "  }\n",
    "}\n",
    "\n",
    "function countOnline(usersObj) {\n",
    "  let count = 0;\n",
    "  for (let user in usersObj){\n",
    "    if (usersObj[user].online == true){\n",
    "      count += 1;\n",
    "    } else {\n",
    "      count += 0;\n",
    "    }\n",
    "  }\n",
    "  return count;\n",
    "}\n",
    "\n",
    "console.log(countOnline(users));"
   ]
  }
 ],
 "metadata": {
  "kernelspec": {
   "display_name": "Python 3",
   "language": "python",
   "name": "python3"
  },
  "language_info": {
   "name": "python",
   "version": "3.10.6 (tags/v3.10.6:9c7b4bd, Aug  1 2022, 21:53:49) [MSC v.1932 64 bit (AMD64)]"
  },
  "orig_nbformat": 4,
  "vscode": {
   "interpreter": {
    "hash": "2af6b4b8e7dc844f17d5955b4b91766577101cdd3d4def0405c89e7c4a589cca"
   }
  }
 },
 "nbformat": 4,
 "nbformat_minor": 2
}
