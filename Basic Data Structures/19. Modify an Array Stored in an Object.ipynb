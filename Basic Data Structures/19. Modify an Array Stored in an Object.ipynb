{
 "cells": [
  {
   "attachments": {},
   "cell_type": "markdown",
   "metadata": {},
   "source": [
    "# Modify an Array Stored in an Object"
   ]
  },
  {
   "attachments": {},
   "cell_type": "markdown",
   "metadata": {},
   "source": [
    "Now you've seen all the basic operations for JavaScript objects. You can add, modify, and remove key-value pairs, check if keys exist, and iterate over all the keys in an object. As you continue learning JavaScript you will see even more versatile applications of objects. Additionally, the Data Structures lessons located in the Coding Interview Prep section of the curriculum also cover the ES6 Map and Set objects, both of which are similar to ordinary objects but provide some additional features. Now that you've learned the basics of arrays and objects, you're fully prepared to begin tackling more complex problems using JavaScript!"
   ]
  },
  {
   "attachments": {},
   "cell_type": "markdown",
   "metadata": {},
   "source": [
    "## Task\n",
    "Take a look at the object we've provided in the code editor. The user object contains three keys. The data key contains five keys, one of which contains an array of friends. From this, you can see how flexible objects are as data structures. We've started writing a function addFriend. Finish writing it so that it takes a user object and adds the name of the friend argument to the array stored in user.data.friends and returns that array.\n",
    "\n",
    "```javascript\n",
    "let user = {\n",
    "  name: 'Kenneth',\n",
    "  age: 28,\n",
    "  data: {\n",
    "    username: 'kennethCodesAllDay',\n",
    "    joinDate: 'March 26, 2016',\n",
    "    organization: 'freeCodeCamp',\n",
    "    friends: [\n",
    "      'Sam',\n",
    "      'Kira',\n",
    "      'Tomo'\n",
    "    ],\n",
    "    location: {\n",
    "      city: 'San Francisco',\n",
    "      state: 'CA',\n",
    "      country: 'USA'\n",
    "    }\n",
    "  }\n",
    "};\n",
    "\n",
    "function addFriend(userObj, friend) {\n",
    "  // Only change code below this line\n",
    "\n",
    "  // Only change code above this line\n",
    "}\n",
    "\n",
    "console.log(addFriend(user, 'Pete'));\n",
    "```\n",
    "\n",
    "## Tests\n",
    "- The user object should have name, age, and data keys.\n",
    "- The addFriend function should accept a user object and a friend string as arguments and add the friend to the array of friends in the user object.\n",
    "- addFriend(user, \"Pete\") should return [\"Sam\", \"Kira\", \"Tomo\", \"Pete\"]."
   ]
  },
  {
   "attachments": {},
   "cell_type": "markdown",
   "metadata": {},
   "source": [
    "## Solution"
   ]
  },
  {
   "cell_type": "code",
   "execution_count": null,
   "metadata": {
    "vscode": {
     "languageId": "javascript"
    }
   },
   "outputs": [],
   "source": [
    "let user = {\n",
    "  name: 'Kenneth',\n",
    "  age: 28,\n",
    "  data: {\n",
    "    username: 'kennethCodesAllDay',\n",
    "    joinDate: 'March 26, 2016',\n",
    "    organization: 'freeCodeCamp',\n",
    "    friends: [\n",
    "      'Sam',\n",
    "      'Kira',\n",
    "      'Tomo'\n",
    "    ],\n",
    "    location: {\n",
    "      city: 'San Francisco',\n",
    "      state: 'CA',\n",
    "      country: 'USA'\n",
    "    }\n",
    "  }\n",
    "};\n",
    "\n",
    "function addFriend(userObj, friend) {\n",
    "  userObj.data.friends.push(friend);\n",
    "  return userObj.data.friends;\n",
    "}\n",
    "\n",
    "console.log(addFriend(user, 'Pete'));"
   ]
  }
 ],
 "metadata": {
  "kernelspec": {
   "display_name": "Python 3",
   "language": "python",
   "name": "python3"
  },
  "language_info": {
   "name": "python",
   "version": "3.10.6 (tags/v3.10.6:9c7b4bd, Aug  1 2022, 21:53:49) [MSC v.1932 64 bit (AMD64)]"
  },
  "orig_nbformat": 4,
  "vscode": {
   "interpreter": {
    "hash": "2af6b4b8e7dc844f17d5955b4b91766577101cdd3d4def0405c89e7c4a589cca"
   }
  }
 },
 "nbformat": 4,
 "nbformat_minor": 2
}
