{
 "cells": [
  {
   "attachments": {},
   "cell_type": "markdown",
   "metadata": {},
   "source": [
    "# Modify an Object Nested Within an Object"
   ]
  },
  {
   "attachments": {},
   "cell_type": "markdown",
   "metadata": {},
   "source": [
    "Now let's take a look at a slightly more complex object. Object properties can be nested to an arbitrary depth, and their values can be any type of data supported by JavaScript, including arrays and even other objects. Consider the following:\n",
    "```javascript\n",
    "let nestedObject = {\n",
    "  id: 28802695164,\n",
    "  date: 'December 31, 2016',\n",
    "  data: {\n",
    "    totalUsers: 99,\n",
    "    online: 80,\n",
    "    onlineStatus: {\n",
    "      active: 67,\n",
    "      away: 13,\n",
    "      busy: 8\n",
    "    }\n",
    "  }\n",
    "};\n",
    "```\n",
    "nestedObject has three properties: id (value is a number), date (value is a string), and data (value is an object with its nested structure). While structures can quickly become complex, we can still use the same notations to access the information we need. To assign the value 10 to the busy property of the nested onlineStatus object, we use dot notation to reference the property:\n",
    "```javascript\n",
    "nestedObject.data.onlineStatus.busy = 10;\n",
    "```"
   ]
  },
  {
   "attachments": {},
   "cell_type": "markdown",
   "metadata": {},
   "source": [
    "## Task\n",
    "Here we've defined an object userActivity, which includes another object nested within it. Set the value of the online key to 45.\n",
    "\n",
    "```javascript\n",
    "let userActivity = {\n",
    "  id: 23894201352,\n",
    "  date: 'January 1, 2017',\n",
    "  data: {\n",
    "    totalUsers: 51,\n",
    "    online: 42\n",
    "  }\n",
    "};\n",
    "\n",
    "// Only change code below this line\n",
    "\n",
    "// Only change code above this line\n",
    "\n",
    "console.log(userActivity);\n",
    "```\n",
    "\n",
    "## Tests\n",
    "- userActivity should have id, date and data properties.\n",
    "- userActivity should have a data key set to an object with keys totalUsers and online.\n",
    "- The online property nested in the data key of userActivity should be set to 45\n",
    "- The online property should be set using dot or bracket notation."
   ]
  },
  {
   "attachments": {},
   "cell_type": "markdown",
   "metadata": {},
   "source": [
    "## Solution"
   ]
  },
  {
   "cell_type": "code",
   "execution_count": null,
   "metadata": {
    "vscode": {
     "languageId": "javascript"
    }
   },
   "outputs": [],
   "source": [
    "let userActivity = {\n",
    "  id: 23894201352,\n",
    "  date: 'January 1, 2017',\n",
    "  data: {\n",
    "    totalUsers: 51,\n",
    "    online: 42\n",
    "  }\n",
    "};\n",
    "\n",
    "userActivity.data.online = 45;\n",
    "\n",
    "console.log(userActivity);"
   ]
  }
 ],
 "metadata": {
  "kernelspec": {
   "display_name": "Python 3",
   "language": "python",
   "name": "python3"
  },
  "language_info": {
   "name": "python",
   "version": "3.10.6 (tags/v3.10.6:9c7b4bd, Aug  1 2022, 21:53:49) [MSC v.1932 64 bit (AMD64)]"
  },
  "orig_nbformat": 4,
  "vscode": {
   "interpreter": {
    "hash": "2af6b4b8e7dc844f17d5955b4b91766577101cdd3d4def0405c89e7c4a589cca"
   }
  }
 },
 "nbformat": 4,
 "nbformat_minor": 2
}
