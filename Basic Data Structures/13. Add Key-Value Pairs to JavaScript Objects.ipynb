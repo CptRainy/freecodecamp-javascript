{
 "cells": [
  {
   "attachments": {},
   "cell_type": "markdown",
   "metadata": {},
   "source": [
    "# Add Key-Value Pairs to JavaScript Objects"
   ]
  },
  {
   "attachments": {},
   "cell_type": "markdown",
   "metadata": {},
   "source": [
    "At their most basic, objects are just collections of key-value pairs. In other words, they are pieces of data (values) mapped to unique identifiers called properties (keys). Take a look at an example:\n",
    "```javascript\n",
    "const tekkenCharacter = {\n",
    "  player: 'Hwoarang',\n",
    "  fightingStyle: 'Tae Kwon Doe',\n",
    "  human: true\n",
    "};\n",
    "```\n",
    "The above code defines a Tekken video game character object called tekkenCharacter. It has three properties, each of which map to a specific value. If you want to add an additional property, such as \"origin\", it can be done by assigning origin to the object:\n",
    "```javascript\n",
    "tekkenCharacter.origin = 'South Korea';\n",
    "```\n",
    "This uses dot notation. If you were to observe the tekkenCharacter object, it will now include the origin property. Hwoarang also had distinct orange hair. You can add this property with bracket notation by doing:\n",
    "```javascript\n",
    "tekkenCharacter['hair color'] = 'dyed orange';\n",
    "```\n",
    "Bracket notation is required if your property has a space in it or if you want to use a variable to name the property. In the above case, the property is enclosed in quotes to denote it as a string and will be added exactly as shown. Without quotes, it will be evaluated as a variable and the name of the property will be whatever value the variable is. Here's an example with a variable:\n",
    "```javascript\n",
    "const eyes = 'eye color';\n",
    "\n",
    "tekkenCharacter[eyes] = 'brown';\n",
    "```\n",
    "After adding all the examples, the object will look like this:\n",
    "```javascript\n",
    "{\n",
    "  player: 'Hwoarang',\n",
    "  fightingStyle: 'Tae Kwon Doe',\n",
    "  human: true,\n",
    "  origin: 'South Korea',\n",
    "  'hair color': 'dyed orange',\n",
    "  'eye color': 'brown'\n",
    "};\n",
    "```"
   ]
  },
  {
   "attachments": {},
   "cell_type": "markdown",
   "metadata": {},
   "source": [
    "## Task\n",
    "A foods object has been created with three entries. Using the syntax of your choice, add three more entries to it: bananas with a value of 13, grapes with a value of 35, and strawberries with a value of 27.\n",
    "\n",
    "```javascript\n",
    "let foods = {\n",
    "  apples: 25,\n",
    "  oranges: 32,\n",
    "  plums: 28\n",
    "};\n",
    "\n",
    "// Only change code below this line\n",
    "\n",
    "// Only change code above this line\n",
    "\n",
    "console.log(foods);\n",
    "```\n",
    "\n",
    "## Tests\n",
    "- foods should be an object.\n",
    "- The foods object should have a key bananas with a value of 13.\n",
    "- The foods object should have a key grapes with a value of 35.\n",
    "- The foods object should have a key strawberries with a value of 27.\n",
    "- The key-value pairs should be set using dot or bracket notation."
   ]
  },
  {
   "attachments": {},
   "cell_type": "markdown",
   "metadata": {},
   "source": [
    "## Solution"
   ]
  },
  {
   "cell_type": "code",
   "execution_count": null,
   "metadata": {
    "vscode": {
     "languageId": "javascript"
    }
   },
   "outputs": [],
   "source": [
    "let foods = {\n",
    "  apples: 25,\n",
    "  oranges: 32,\n",
    "  plums: 28\n",
    "};\n",
    "\n",
    "foods[\"bananas\"] = 13;\n",
    "foods.grapes = 35;\n",
    "let fruit = \"strawberries\";\n",
    "foods[fruit] = 27;\n",
    "\n",
    "console.log(foods);"
   ]
  }
 ],
 "metadata": {
  "kernelspec": {
   "display_name": "Python 3",
   "language": "python",
   "name": "python3"
  },
  "language_info": {
   "name": "python",
   "version": "3.10.6 (tags/v3.10.6:9c7b4bd, Aug  1 2022, 21:53:49) [MSC v.1932 64 bit (AMD64)]"
  },
  "orig_nbformat": 4,
  "vscode": {
   "interpreter": {
    "hash": "2af6b4b8e7dc844f17d5955b4b91766577101cdd3d4def0405c89e7c4a589cca"
   }
  }
 },
 "nbformat": 4,
 "nbformat_minor": 2
}
