{
 "cells": [
  {
   "attachments": {},
   "cell_type": "markdown",
   "metadata": {},
   "source": [
    "# Remove Items Using splice()"
   ]
  },
  {
   "attachments": {},
   "cell_type": "markdown",
   "metadata": {},
   "source": [
    "Ok, so we've learned how to remove elements from the beginning and end of arrays using shift() and pop(), but what if we want to remove an element from somewhere in the middle? Or remove more than one element at once? Well, that's where splice() comes in. splice() allows us to do just that: remove any number of consecutive elements from anywhere in an array.\n",
    "\n",
    "splice() can take up to 3 parameters, but for now, we'll focus on just the first 2. The first two parameters of splice() are integers which represent indexes, or positions, of items in the array that splice() is being called upon. And remember, arrays are zero-indexed, so to indicate the first element of an array, we would use 0. splice()'s first parameter represents the index on the array from which to begin removing elements, while the second parameter indicates the number of elements to delete. For example:\n",
    "```javascript\n",
    "let array = ['today', 'was', 'not', 'so', 'great'];\n",
    "\n",
    "array.splice(2, 2);\n",
    "```\n",
    "Here we remove 2 elements, beginning with the third element (at index 2). array would have the value ['today', 'was', 'great'].\n",
    "\n",
    "splice() not only modifies the array it's being called on, but it also returns a new array containing the value of the removed elements:\n",
    "```javascript\n",
    "let array = ['I', 'am', 'feeling', 'really', 'happy'];\n",
    "\n",
    "let newArray = array.splice(3, 2);\n",
    "```\n",
    "newArray has the value ['really', 'happy']."
   ]
  },
  {
   "attachments": {},
   "cell_type": "markdown",
   "metadata": {},
   "source": [
    "## Task\n",
    "We've initialized an array arr. Use splice() to remove elements from arr, so that it only contains elements that sum to the value of 10.\n",
    "\n",
    "```javascript\n",
    "const arr = [2, 4, 5, 1, 7, 5, 2, 1];\n",
    "// Only change code below this line\n",
    "\n",
    "// Only change code above this line\n",
    "console.log(arr);\n",
    "```\n",
    "\n",
    "## Tests\n",
    "- You should not change the original line of const arr = [2, 4, 5, 1, 7, 5, 2, 1];.\n",
    "- arr should only contain elements that sum to 10.\n",
    "- Your code should utilize the splice() method on arr.\n",
    "- The splice should only remove elements from arr and not add any additional elements to arr."
   ]
  },
  {
   "attachments": {},
   "cell_type": "markdown",
   "metadata": {},
   "source": [
    "## Solution"
   ]
  },
  {
   "cell_type": "code",
   "execution_count": null,
   "metadata": {
    "vscode": {
     "languageId": "javascript"
    }
   },
   "outputs": [],
   "source": [
    "const arr = [2, 4, 5, 1, 7, 5, 2, 1];\n",
    "arr.splice(0,2);\n",
    "arr.splice(1,2);\n",
    "arr.splice(2,2);\n",
    "console.log(arr);"
   ]
  }
 ],
 "metadata": {
  "kernelspec": {
   "display_name": "Python 3",
   "language": "python",
   "name": "python3"
  },
  "language_info": {
   "name": "python",
   "version": "3.10.6 (tags/v3.10.6:9c7b4bd, Aug  1 2022, 21:53:49) [MSC v.1932 64 bit (AMD64)]"
  },
  "orig_nbformat": 4,
  "vscode": {
   "interpreter": {
    "hash": "2af6b4b8e7dc844f17d5955b4b91766577101cdd3d4def0405c89e7c4a589cca"
   }
  }
 },
 "nbformat": 4,
 "nbformat_minor": 2
}
