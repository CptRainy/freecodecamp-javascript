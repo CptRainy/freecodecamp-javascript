{
 "cells": [
  {
   "attachments": {},
   "cell_type": "markdown",
   "metadata": {},
   "source": [
    "# Use the delete Keyword to Remove Object Properties\n"
   ]
  },
  {
   "attachments": {},
   "cell_type": "markdown",
   "metadata": {},
   "source": [
    "Now you know what objects are and their basic features and advantages. In short, they are key-value stores which provide a flexible, intuitive way to structure data, and, they provide very fast lookup time. Throughout the rest of these challenges, we will describe several common operations you can perform on objects so you can become comfortable applying these useful data structures in your programs.\n",
    "\n",
    "In earlier challenges, we have both added to and modified an object's key-value pairs. Here we will see how we can remove a key-value pair from an object.\n",
    "\n",
    "Let's revisit our foods object example one last time. If we wanted to remove the apples key, we can remove it by using the delete keyword like this:\n",
    "```javascript\n",
    "delete foods.apples;\n",
    "```"
   ]
  },
  {
   "attachments": {},
   "cell_type": "markdown",
   "metadata": {},
   "source": [
    "## Task\n",
    "Use the delete keyword to remove the oranges, plums, and strawberries keys from the foods object.\n",
    "\n",
    "```javascript\n",
    "let foods = {\n",
    "  apples: 25,\n",
    "  oranges: 32,\n",
    "  plums: 28,\n",
    "  bananas: 13,\n",
    "  grapes: 35,\n",
    "  strawberries: 27\n",
    "};\n",
    "\n",
    "// Only change code below this line\n",
    "\n",
    "// Only change code above this line\n",
    "\n",
    "console.log(foods);\n",
    "```\n",
    "\n",
    "## Tests\n",
    "- The foods object should only have three keys: apples, grapes, and bananas.\n",
    "- The oranges, plums, and strawberries keys should be removed using delete."
   ]
  },
  {
   "attachments": {},
   "cell_type": "markdown",
   "metadata": {},
   "source": [
    "## Solution"
   ]
  },
  {
   "cell_type": "code",
   "execution_count": null,
   "metadata": {
    "vscode": {
     "languageId": "javascript"
    }
   },
   "outputs": [],
   "source": [
    "let foods = {\n",
    "  apples: 25,\n",
    "  oranges: 32,\n",
    "  plums: 28,\n",
    "  bananas: 13,\n",
    "  grapes: 35,\n",
    "  strawberries: 27\n",
    "};\n",
    "\n",
    "let deletearr = [\"oranges\",\"plums\",\"strawberries\"];\n",
    "for (let i = 0; i < deletearr.length; i++){\n",
    "  delete foods[deletearr[i]];\n",
    "}\n",
    "\n",
    "console.log(foods);"
   ]
  }
 ],
 "metadata": {
  "kernelspec": {
   "display_name": "Python 3",
   "language": "python",
   "name": "python3"
  },
  "language_info": {
   "name": "python",
   "version": "3.10.6 (tags/v3.10.6:9c7b4bd, Aug  1 2022, 21:53:49) [MSC v.1932 64 bit (AMD64)]"
  },
  "orig_nbformat": 4,
  "vscode": {
   "interpreter": {
    "hash": "2af6b4b8e7dc844f17d5955b4b91766577101cdd3d4def0405c89e7c4a589cca"
   }
  }
 },
 "nbformat": 4,
 "nbformat_minor": 2
}
