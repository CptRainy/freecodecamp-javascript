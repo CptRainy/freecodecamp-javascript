{
 "cells": [
  {
   "attachments": {},
   "cell_type": "markdown",
   "metadata": {},
   "source": [
    "# Combine Arrays with the Spread Operator"
   ]
  },
  {
   "attachments": {},
   "cell_type": "markdown",
   "metadata": {},
   "source": [
    "Another huge advantage of the spread operator is the ability to combine arrays, or to insert all the elements of one array into another, at any index. With more traditional syntaxes, we can concatenate arrays, but this only allows us to combine arrays at the end of one, and at the start of another. Spread syntax makes the following operation extremely simple:\n",
    "```javascript\n",
    "let thisArray = ['sage', 'rosemary', 'parsley', 'thyme'];\n",
    "\n",
    "let thatArray = ['basil', 'cilantro', ...thisArray, 'coriander'];\n",
    "```\n",
    "thatArray would have the value ['basil', 'cilantro', 'sage', 'rosemary', 'parsley', 'thyme', 'coriander'].\n",
    "\n",
    "Using spread syntax, we have just achieved an operation that would have been more complex and more verbose had we used traditional methods."
   ]
  },
  {
   "attachments": {},
   "cell_type": "markdown",
   "metadata": {},
   "source": [
    "## Task\n",
    "We have defined a function spreadOut that returns the variable sentence. Modify the function using the spread operator so that it returns the array ['learning', 'to', 'code', 'is', 'fun'].\n",
    "\n",
    "```javascript\n",
    "function spreadOut() {\n",
    "  let fragment = ['to', 'code'];\n",
    "  let sentence; // Change this line\n",
    "  return sentence;\n",
    "}\n",
    "\n",
    "console.log(spreadOut());\n",
    "```\n",
    "\n",
    "## Tests\n",
    "- spreadOut should return [\"learning\", \"to\", \"code\", \"is\", \"fun\"]\n",
    "- The spreadOut function should utilize spread syntax"
   ]
  },
  {
   "attachments": {},
   "cell_type": "markdown",
   "metadata": {},
   "source": [
    "## Solution"
   ]
  },
  {
   "cell_type": "code",
   "execution_count": null,
   "metadata": {
    "vscode": {
     "languageId": "javascript"
    }
   },
   "outputs": [],
   "source": [
    "function spreadOut() {\n",
    "  let fragment = ['to', 'code'];\n",
    "  let sentence = [\"learning\", ...fragment, \"is\", \"fun\"];\n",
    "  return sentence;\n",
    "}\n",
    "\n",
    "console.log(spreadOut());"
   ]
  }
 ],
 "metadata": {
  "kernelspec": {
   "display_name": "Python 3",
   "language": "python",
   "name": "python3"
  },
  "language_info": {
   "name": "python",
   "version": "3.10.6 (tags/v3.10.6:9c7b4bd, Aug  1 2022, 21:53:49) [MSC v.1932 64 bit (AMD64)]"
  },
  "orig_nbformat": 4,
  "vscode": {
   "interpreter": {
    "hash": "2af6b4b8e7dc844f17d5955b4b91766577101cdd3d4def0405c89e7c4a589cca"
   }
  }
 },
 "nbformat": 4,
 "nbformat_minor": 2
}
