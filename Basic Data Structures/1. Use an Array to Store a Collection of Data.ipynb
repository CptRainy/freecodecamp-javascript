{
 "cells": [
  {
   "attachments": {},
   "cell_type": "markdown",
   "metadata": {},
   "source": [
    "# Use an Array to Store a Collection of Data"
   ]
  },
  {
   "attachments": {},
   "cell_type": "markdown",
   "metadata": {},
   "source": [
    "The below is an example of the simplest implementation of an array data structure. This is known as a one-dimensional array, meaning it only has one level, or that it does not have any other arrays nested within it. Notice it contains booleans, strings, and numbers, among other valid JavaScript data types:\n",
    "```javascript\n",
    "let simpleArray = ['one', 2, 'three', true, false, undefined, null];\n",
    "console.log(simpleArray.length);\n",
    "The console.log call displays 7.\n",
    "```\n",
    "All arrays have a length property, which as shown above, can be very easily accessed with the syntax Array.length. A more complex implementation of an array can be seen below. This is known as a multi-dimensional array, or an array that contains other arrays. Notice that this array also contains JavaScript objects, which we will examine very closely in our next section, but for now, all you need to know is that arrays are also capable of storing complex objects.\n",
    "```javascript\n",
    "let complexArray = [\n",
    "  [\n",
    "    {\n",
    "      one: 1,\n",
    "      two: 2\n",
    "    },\n",
    "    {\n",
    "      three: 3,\n",
    "      four: 4\n",
    "    }\n",
    "  ],\n",
    "  [\n",
    "    {\n",
    "      a: \"a\",\n",
    "      b: \"b\"\n",
    "    },\n",
    "    {\n",
    "      c: \"c\",\n",
    "      d: \"d\"\n",
    "    }\n",
    "  ]\n",
    "];\n",
    "```"
   ]
  },
  {
   "attachments": {},
   "cell_type": "markdown",
   "metadata": {},
   "source": [
    "## Task\n",
    "We have defined a variable called yourArray. Complete the statement by assigning an array of at least 5 elements in length to the yourArray variable. Your array should contain at least one string, one number, and one boolean.\n",
    "\n",
    "```javascript\n",
    "let yourArray; // Change this line\n",
    "```\n",
    "\n",
    "## Tests\n",
    "- yourArray should be an array.\n",
    "- yourArray should be at least 5 elements long.\n",
    "- yourArray should contain at least one boolean.\n",
    "- yourArray should contain at least one number.\n",
    "- yourArray should contain at least one string."
   ]
  },
  {
   "attachments": {},
   "cell_type": "markdown",
   "metadata": {},
   "source": [
    "## Solution"
   ]
  },
  {
   "cell_type": "code",
   "execution_count": null,
   "metadata": {
    "vscode": {
     "languageId": "javascript"
    }
   },
   "outputs": [],
   "source": [
    "let yourArray = [true, 1, \"hi\", undefined, 25];"
   ]
  }
 ],
 "metadata": {
  "kernelspec": {
   "display_name": "Python 3",
   "language": "python",
   "name": "python3"
  },
  "language_info": {
   "name": "python",
   "version": "3.10.6 (tags/v3.10.6:9c7b4bd, Aug  1 2022, 21:53:49) [MSC v.1932 64 bit (AMD64)]"
  },
  "orig_nbformat": 4,
  "vscode": {
   "interpreter": {
    "hash": "2af6b4b8e7dc844f17d5955b4b91766577101cdd3d4def0405c89e7c4a589cca"
   }
  }
 },
 "nbformat": 4,
 "nbformat_minor": 2
}
