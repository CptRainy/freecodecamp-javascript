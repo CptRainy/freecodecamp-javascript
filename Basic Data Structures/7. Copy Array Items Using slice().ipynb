{
 "cells": [
  {
   "attachments": {},
   "cell_type": "markdown",
   "metadata": {},
   "source": [
    "# Copy Array Items Using slice()"
   ]
  },
  {
   "attachments": {},
   "cell_type": "markdown",
   "metadata": {},
   "source": [
    "The next method we will cover is slice(). Rather than modifying an array, slice() copies or extracts a given number of elements to a new array, leaving the array it is called upon untouched. slice() takes only 2 parameters — the first is the index at which to begin extraction, and the second is the index at which to stop extraction (extraction will occur up to, but not including the element at this index). Consider this:\n",
    "```javascript\n",
    "let weatherConditions = ['rain', 'snow', 'sleet', 'hail', 'clear'];\n",
    "\n",
    "let todaysWeather = weatherConditions.slice(1, 3);\n",
    "```\n",
    "todaysWeather would have the value ['snow', 'sleet'], while weatherConditions would still have ['rain', 'snow', 'sleet', 'hail', 'clear'].\n",
    "\n",
    "In effect, we have created a new array by extracting elements from an existing array.\n",
    "\n"
   ]
  },
  {
   "attachments": {},
   "cell_type": "markdown",
   "metadata": {},
   "source": [
    "## Task\n",
    "We have defined a function, forecast, that takes an array as an argument. Modify the function using slice() to extract information from the argument array and return a new array that contains the string elements warm and sunny.\n",
    "\n",
    "```javascript\n",
    "function forecast(arr) {\n",
    "  // Only change code below this line\n",
    "\n",
    "  return arr;\n",
    "}\n",
    "\n",
    "// Only change code above this line\n",
    "console.log(forecast(['cold', 'rainy', 'warm', 'sunny', 'cool', 'thunderstorms']));\n",
    "```\n",
    "\n",
    "## Tests\n",
    "- forecast should return [\"warm\", \"sunny\"]\n",
    "- The forecast function should utilize the slice() method"
   ]
  },
  {
   "attachments": {},
   "cell_type": "markdown",
   "metadata": {},
   "source": [
    "## Solution"
   ]
  },
  {
   "cell_type": "code",
   "execution_count": null,
   "metadata": {
    "vscode": {
     "languageId": "javascript"
    }
   },
   "outputs": [],
   "source": [
    "function forecast(arr) {\n",
    "  \n",
    "  return arr.slice(2,4);\n",
    "}\n",
    "\n",
    "console.log(forecast(['cold', 'rainy', 'warm', 'sunny', 'cool', 'thunderstorms']));"
   ]
  }
 ],
 "metadata": {
  "kernelspec": {
   "display_name": "Python 3",
   "language": "python",
   "name": "python3"
  },
  "language_info": {
   "name": "python",
   "version": "3.10.6 (tags/v3.10.6:9c7b4bd, Aug  1 2022, 21:53:49) [MSC v.1932 64 bit (AMD64)]"
  },
  "orig_nbformat": 4,
  "vscode": {
   "interpreter": {
    "hash": "2af6b4b8e7dc844f17d5955b4b91766577101cdd3d4def0405c89e7c4a589cca"
   }
  }
 },
 "nbformat": 4,
 "nbformat_minor": 2
}
