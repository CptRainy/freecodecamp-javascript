{
 "cells": [
  {
   "attachments": {},
   "cell_type": "markdown",
   "metadata": {},
   "source": [
    "# Access Property Names with Bracket Notation"
   ]
  },
  {
   "attachments": {},
   "cell_type": "markdown",
   "metadata": {},
   "source": [
    "In the first object challenge we mentioned the use of bracket notation as a way to access property values using the evaluation of a variable. For instance, imagine that our foods object is being used in a program for a supermarket cash register. We have some function that sets the selectedFood and we want to check our foods object for the presence of that food. This might look like:\n",
    "\n",
    "```javascript\n",
    "let selectedFood = getCurrentFood(scannedItem);\n",
    "let inventory = foods[selectedFood];\n",
    "```\n",
    "This code will evaluate the value stored in the selectedFood variable and return the value of that key in the foods object, or undefined if it is not present. Bracket notation is very useful because sometimes object properties are not known before runtime or we need to access them in a more dynamic way."
   ]
  },
  {
   "attachments": {},
   "cell_type": "markdown",
   "metadata": {},
   "source": [
    "## Task\n",
    "We've defined a function, checkInventory, which receives a scanned item as an argument. Return the current value of the scannedItem key in the foods object. You can assume that only valid keys will be provided as an argument to checkInventory.\n",
    "\n",
    "```javascript\n",
    "let foods = {\n",
    "  apples: 25,\n",
    "  oranges: 32,\n",
    "  plums: 28,\n",
    "  bananas: 13,\n",
    "  grapes: 35,\n",
    "  strawberries: 27\n",
    "};\n",
    "\n",
    "function checkInventory(scannedItem) {\n",
    "  // Only change code below this line\n",
    "\n",
    "  // Only change code above this line\n",
    "}\n",
    "\n",
    "console.log(checkInventory(\"apples\"));\n",
    "```\n",
    "\n",
    "## Tests\n",
    "- checkInventory should be a function.\n",
    "- The foods object should have only the following key-value pairs: apples: 25, oranges: 32, plums: 28, bananas: 13, grapes: 35, strawberries: 27.\n",
    "- checkInventory(\"apples\") should return 25.\n",
    "- checkInventory(\"bananas\") should return 13.\n",
    "- checkInventory(\"strawberries\") should return 27."
   ]
  },
  {
   "attachments": {},
   "cell_type": "markdown",
   "metadata": {},
   "source": [
    "## Solution"
   ]
  },
  {
   "cell_type": "code",
   "execution_count": null,
   "metadata": {
    "vscode": {
     "languageId": "javascript"
    }
   },
   "outputs": [],
   "source": [
    "let foods = {\n",
    "  apples: 25,\n",
    "  oranges: 32,\n",
    "  plums: 28,\n",
    "  bananas: 13,\n",
    "  grapes: 35,\n",
    "  strawberries: 27\n",
    "};\n",
    "\n",
    "function checkInventory(scannedItem) {\n",
    "  return foods[scannedItem];\n",
    "}\n",
    "\n",
    "console.log(checkInventory(\"apples\"));"
   ]
  }
 ],
 "metadata": {
  "kernelspec": {
   "display_name": "Python 3",
   "language": "python",
   "name": "python3"
  },
  "language_info": {
   "name": "python",
   "version": "3.10.6 (tags/v3.10.6:9c7b4bd, Aug  1 2022, 21:53:49) [MSC v.1932 64 bit (AMD64)]"
  },
  "orig_nbformat": 4,
  "vscode": {
   "interpreter": {
    "hash": "2af6b4b8e7dc844f17d5955b4b91766577101cdd3d4def0405c89e7c4a589cca"
   }
  }
 },
 "nbformat": 4,
 "nbformat_minor": 2
}
