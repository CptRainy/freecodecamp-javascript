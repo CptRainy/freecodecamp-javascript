{
 "cells": [
  {
   "attachments": {},
   "cell_type": "markdown",
   "metadata": {},
   "source": [
    "# Create complex multi-dimensional arrays"
   ]
  },
  {
   "attachments": {},
   "cell_type": "markdown",
   "metadata": {},
   "source": [
    "Awesome! You have just learned a ton about arrays! This has been a fairly high level overview, and there is plenty more to learn about working with arrays, much of which you will see in later sections. But before moving on to looking at Objects, let's take one more look, and see how arrays can become a bit more complex than what we have seen in previous challenges.\n",
    "\n",
    "One of the most powerful features when thinking of arrays as data structures, is that arrays can contain, or even be completely made up of other arrays. We have seen arrays that contain arrays in previous challenges, but fairly simple ones. However, arrays can contain an infinite depth of arrays that can contain other arrays, each with their own arbitrary levels of depth, and so on. In this way, an array can very quickly become a very complex data structure, known as a multi-dimensional, or nested array. Consider the following example:\n",
    "```javascript\n",
    "let nestedArray = [\n",
    "  ['deep'],\n",
    "  [\n",
    "    ['deeper'], ['deeper'] \n",
    "  ],\n",
    "  [\n",
    "    [\n",
    "      ['deepest'], ['deepest']\n",
    "    ],\n",
    "    [\n",
    "      [\n",
    "        ['deepest-est?']\n",
    "      ]\n",
    "    ]\n",
    "  ]\n",
    "];\n",
    "```\n",
    "The deep array is nested 2 levels deep. The deeper arrays are 3 levels deep. The deepest arrays are 4 levels, and the deepest-est? is 5.\n",
    "\n",
    "While this example may seem convoluted, this level of complexity is not unheard of, or even unusual, when dealing with large amounts of data. However, we can still very easily access the deepest levels of an array this complex with bracket notation:\n",
    "```javascript\n",
    "console.log(nestedArray[2][1][0][0][0]);\n",
    "```\n",
    "This logs the string deepest-est?. And now that we know where that piece of data is, we can reset it if we need to:\n",
    "```javascript\n",
    "nestedArray[2][1][0][0][0] = 'deeper still';\n",
    "\n",
    "console.log(nestedArray[2][1][0][0][0]);\n",
    "```\n",
    "Now it logs deeper still.\n",
    "\n"
   ]
  },
  {
   "attachments": {},
   "cell_type": "markdown",
   "metadata": {},
   "source": [
    "## Task\n",
    "We have defined a variable, myNestedArray, set equal to an array. Modify myNestedArray, using any combination of strings, numbers, and booleans for data elements, so that it has exactly five levels of depth (remember, the outer-most array is level 1). Somewhere on the third level, include the string deep, on the fourth level, include the string deeper, and on the fifth level, include the string deepest.\n",
    "\n",
    "```javascript\n",
    "let myNestedArray = [\n",
    "  // Only change code below this line\n",
    "  ['unshift', false, 1, 2, 3, 'complex', 'nested'],\n",
    "  ['loop', 'shift', 6, 7, 1000, 'method'],\n",
    "  ['concat', false, true, 'spread', 'array'],\n",
    "  ['mutate', 1327.98, 'splice', 'slice', 'push'],\n",
    "  ['iterate', 1.3849, 7, '8.4876', 'arbitrary', 'depth']\n",
    "  // Only change code above this line\n",
    "];\n",
    "```\n",
    "\n",
    "## Tests\n",
    "- myNestedArray should contain only numbers, booleans, and strings as data elements\n",
    "- myNestedArray should have exactly 5 levels of depth\n",
    "- myNestedArray should contain exactly one occurrence of the string deep on an array nested 3 levels deep\n",
    "- myNestedArray should contain exactly one occurrence of the string deeper on an array nested 4 levels deep\n",
    "- myNestedArray should contain exactly one occurrence of the string deepest on an array nested 5 levels deep"
   ]
  },
  {
   "attachments": {},
   "cell_type": "markdown",
   "metadata": {},
   "source": [
    "## Solution"
   ]
  },
  {
   "cell_type": "code",
   "execution_count": null,
   "metadata": {
    "vscode": {
     "languageId": "javascript"
    }
   },
   "outputs": [],
   "source": [
    "let myNestedArray = [\n",
    "  ['unshift', false, 1, 2, 3, 'complex', 'nested'],\n",
    "  [\n",
    "    ['loop', 'shift', 6, 7, 1000, 'method'],[\"deep\"],\n",
    "    ['iterate', 1.3849, 7, '8.4876', 'arbitrary', 'depth']\n",
    "  ],\n",
    "  [\n",
    "    [\n",
    "      ['concat', false, true, 'spread', 'array'], ['deeper']\n",
    "    ],\n",
    "    [\n",
    "      [\n",
    "        ['deepest'],['mutate', 1327.98, 'splice', 'slice', 'push']\n",
    "      ]\n",
    "    ]\n",
    "  ]\n",
    "];"
   ]
  }
 ],
 "metadata": {
  "kernelspec": {
   "display_name": "Python 3",
   "language": "python",
   "name": "python3"
  },
  "language_info": {
   "name": "python",
   "version": "3.10.6 (tags/v3.10.6:9c7b4bd, Aug  1 2022, 21:53:49) [MSC v.1932 64 bit (AMD64)]"
  },
  "orig_nbformat": 4,
  "vscode": {
   "interpreter": {
    "hash": "2af6b4b8e7dc844f17d5955b4b91766577101cdd3d4def0405c89e7c4a589cca"
   }
  }
 },
 "nbformat": 4,
 "nbformat_minor": 2
}
