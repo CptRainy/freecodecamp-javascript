{
 "cells": [
  {
   "attachments": {},
   "cell_type": "markdown",
   "metadata": {},
   "source": [
    "# Iterate Through All an Array's Items Using For Loops"
   ]
  },
  {
   "attachments": {},
   "cell_type": "markdown",
   "metadata": {},
   "source": [
    "Sometimes when working with arrays, it is very handy to be able to iterate through each item to find one or more elements that we might need, or to manipulate an array based on which data items meet a certain set of criteria. JavaScript offers several built in methods that each iterate over arrays in slightly different ways to achieve different results (such as every(), forEach(), map(), etc.), however the technique which is most flexible and offers us the greatest amount of control is a simple for loop.\n",
    "\n",
    "Consider the following:\n",
    "```javascript\n",
    "function greaterThanTen(arr) {\n",
    "  let newArr = [];\n",
    "  for (let i = 0; i < arr.length; i++) {\n",
    "    if (arr[i] > 10) {\n",
    "      newArr.push(arr[i]);\n",
    "    }\n",
    "  }\n",
    "  return newArr;\n",
    "}\n",
    "\n",
    "greaterThanTen([2, 12, 8, 14, 80, 0, 1]);\n",
    "```\n",
    "Using a for loop, this function iterates through and accesses each element of the array, and subjects it to a simple test that we have created. In this way, we have easily and programmatically determined which data items are greater than 10, and returned a new array, [12, 14, 80], containing those items."
   ]
  },
  {
   "attachments": {},
   "cell_type": "markdown",
   "metadata": {},
   "source": [
    "## Task\n",
    "We have defined a function, filteredArray, which takes arr, a nested array, and elem as arguments, and returns a new array. elem represents an element that may or may not be present on one or more of the arrays nested within arr. Modify the function, using a for loop, to return a filtered version of the passed array such that any array nested within arr containing elem has been removed.\n",
    "\n",
    "```javascript\n",
    "function filteredArray(arr, elem) {\n",
    "  let newArr = [];\n",
    "  // Only change code below this line\n",
    "\n",
    "  // Only change code above this line\n",
    "  return newArr;\n",
    "}\n",
    "\n",
    "console.log(filteredArray([[3, 2, 3], [1, 6, 3], [3, 13, 26], [19, 3, 9]], 3));\n",
    "```\n",
    "\n",
    "## Tests\n",
    "- filteredArray([[10, 8, 3], [14, 6, 23], [3, 18, 6]], 18) should return [[10, 8, 3], [14, 6, 23]]\n",
    "- filteredArray([[\"trumpets\", 2], [\"flutes\", 4], [\"saxophones\", 2]], 2) should return [[\"flutes\", 4]]\n",
    "- filteredArray([[\"amy\", \"beth\", \"sam\"], [\"dave\", \"sean\", \"peter\"]], \"peter\") should return [[\"amy\", \"beth\", \"sam\"]]\n",
    "- filteredArray([[3, 2, 3], [1, 6, 3], [3, 13, 26], [19, 3, 9]], 3) should return []\n",
    "- The filteredArray function should utilize a for loop"
   ]
  },
  {
   "attachments": {},
   "cell_type": "markdown",
   "metadata": {},
   "source": [
    "## Solution"
   ]
  },
  {
   "cell_type": "code",
   "execution_count": null,
   "metadata": {
    "vscode": {
     "languageId": "javascript"
    }
   },
   "outputs": [],
   "source": [
    "function filteredArray(arr, elem) {\n",
    "  let newArr = [];\n",
    "  for (let i = 0; i < arr.length; i++){\n",
    "    if(arr[i].indexOf(elem) == -1){\n",
    "      newArr.push(arr[i]);\n",
    "    }\n",
    "  }\n",
    "  return newArr;\n",
    "}\n",
    "\n",
    "console.log(filteredArray([[3, 2, 3], [1, 6, 3], [3, 13, 26], [19, 3, 9]], 3));"
   ]
  }
 ],
 "metadata": {
  "kernelspec": {
   "display_name": "Python 3",
   "language": "python",
   "name": "python3"
  },
  "language_info": {
   "name": "python",
   "version": "3.10.6 (tags/v3.10.6:9c7b4bd, Aug  1 2022, 21:53:49) [MSC v.1932 64 bit (AMD64)]"
  },
  "orig_nbformat": 4,
  "vscode": {
   "interpreter": {
    "hash": "2af6b4b8e7dc844f17d5955b4b91766577101cdd3d4def0405c89e7c4a589cca"
   }
  }
 },
 "nbformat": 4,
 "nbformat_minor": 2
}
