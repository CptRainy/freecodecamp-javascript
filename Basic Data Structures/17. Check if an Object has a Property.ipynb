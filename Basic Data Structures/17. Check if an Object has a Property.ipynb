{
 "cells": [
  {
   "attachments": {},
   "cell_type": "markdown",
   "metadata": {},
   "source": [
    "# Check if an Object has a Property"
   ]
  },
  {
   "attachments": {},
   "cell_type": "markdown",
   "metadata": {},
   "source": [
    "Now we can add, modify, and remove keys from objects. But what if we just wanted to know if an object has a specific property? JavaScript provides us with two different ways to do this. One uses the hasOwnProperty() method and the other uses the in keyword. If we have an object users with a property of Alan, we could check for its presence in either of the following ways:\n",
    "```javascript\n",
    "users.hasOwnProperty('Alan');\n",
    "'Alan' in users;\n",
    "```\n",
    "Both of these would return true."
   ]
  },
  {
   "attachments": {},
   "cell_type": "markdown",
   "metadata": {},
   "source": [
    "## Task\n",
    "Finish writing the function so that it returns true if the object passed to it contains all four names, Alan, Jeff, Sarah and Ryan and returns false otherwise.\n",
    "\n",
    "```javascript\n",
    "let users = {\n",
    "  Alan: {\n",
    "    age: 27,\n",
    "    online: true\n",
    "  },\n",
    "  Jeff: {\n",
    "    age: 32,\n",
    "    online: true\n",
    "  },\n",
    "  Sarah: {\n",
    "    age: 48,\n",
    "    online: true\n",
    "  },\n",
    "  Ryan: {\n",
    "    age: 19,\n",
    "    online: true\n",
    "  }\n",
    "};\n",
    "\n",
    "function isEveryoneHere(userObj) {\n",
    "  // Only change code below this line\n",
    "  \n",
    "  // Only change code above this line\n",
    "}\n",
    "\n",
    "console.log(isEveryoneHere(users));\n",
    "```\n",
    "\n",
    "## Tests\n",
    "- The users object should not be accessed directly\n",
    "- The users object should only contain the keys Alan, Jeff, Sarah, and Ryan\n",
    "- The function isEveryoneHere should return true if Alan, Jeff, Sarah, and Ryan are properties on the object passed to it.\n",
    "- The function isEveryoneHere should return false if Alan is not a property on the object passed to it.\n",
    "- The function isEveryoneHere should return false if Jeff is not a property on the object passed to it.\n",
    "- The function isEveryoneHere should return false if Sarah is not a property on the object passed to it.\n",
    "- The function isEveryoneHere should return false if Ryan is not a property on the object passed to it."
   ]
  },
  {
   "attachments": {},
   "cell_type": "markdown",
   "metadata": {},
   "source": [
    "## Solution"
   ]
  },
  {
   "cell_type": "code",
   "execution_count": null,
   "metadata": {
    "vscode": {
     "languageId": "javascript"
    }
   },
   "outputs": [],
   "source": [
    "let users = {\n",
    "  Alan: {\n",
    "    age: 27,\n",
    "    online: true\n",
    "  },\n",
    "  Jeff: {\n",
    "    age: 32,\n",
    "    online: true\n",
    "  },\n",
    "  Sarah: {\n",
    "    age: 48,\n",
    "    online: true\n",
    "  },\n",
    "  Ryan: {\n",
    "    age: 19,\n",
    "    online: true\n",
    "  }\n",
    "};\n",
    "\n",
    "function isEveryoneHere(userObj) {\n",
    "  let arr = ['Alan','Jeff','Sarah','Ryan'];\n",
    "  let counter = 0;\n",
    "  for (let i = 0; i < arr.length; i++){\n",
    "  if(userObj.hasOwnProperty(arr[i]) > 0){\n",
    "    counter += 1;\n",
    "  }else{\n",
    "    counter += 0;\n",
    "  }\n",
    "  }\n",
    "  if(counter == 4){\n",
    "    return true;\n",
    "  }else{\n",
    "    return false;\n",
    "  }\n",
    "\n",
    "}\n",
    "\n",
    "console.log(isEveryoneHere(users));"
   ]
  }
 ],
 "metadata": {
  "kernelspec": {
   "display_name": "Python 3",
   "language": "python",
   "name": "python3"
  },
  "language_info": {
   "name": "python",
   "version": "3.10.6 (tags/v3.10.6:9c7b4bd, Aug  1 2022, 21:53:49) [MSC v.1932 64 bit (AMD64)]"
  },
  "orig_nbformat": 4,
  "vscode": {
   "interpreter": {
    "hash": "2af6b4b8e7dc844f17d5955b4b91766577101cdd3d4def0405c89e7c4a589cca"
   }
  }
 },
 "nbformat": 4,
 "nbformat_minor": 2
}
