{
 "cells": [
  {
   "attachments": {},
   "cell_type": "markdown",
   "metadata": {},
   "source": [
    "# Add Items to an Array with push() and unshift()"
   ]
  },
  {
   "attachments": {},
   "cell_type": "markdown",
   "metadata": {},
   "source": [
    "An array's length, like the data types it can contain, is not fixed. Arrays can be defined with a length of any number of elements, and elements can be added or removed over time; in other words, arrays are mutable. In this challenge, we will look at two methods with which we can programmatically modify an array: Array.push() and Array.unshift().\n",
    "\n",
    "Both methods take one or more elements as parameters and add those elements to the array the method is being called on; the push() method adds elements to the end of an array, and unshift() adds elements to the beginning. Consider the following:\n",
    "```javascript\n",
    "let twentyThree = 'XXIII';\n",
    "let romanNumerals = ['XXI', 'XXII'];\n",
    "\n",
    "romanNumerals.unshift('XIX', 'XX');\n",
    "```\n",
    "romanNumerals would have the value ['XIX', 'XX', 'XXI', 'XXII'].\n",
    "```javascript\n",
    "romanNumerals.push(twentyThree);\n",
    "```\n",
    "romanNumerals would have the value ['XIX', 'XX', 'XXI', 'XXII', 'XXIII']. Notice that we can also pass variables, which allows us even greater flexibility in dynamically modifying our array's data."
   ]
  },
  {
   "attachments": {},
   "cell_type": "markdown",
   "metadata": {},
   "source": [
    "## Task\n",
    "We have defined a function, mixedNumbers, which we are passing an array as an argument. Modify the function by using push() and unshift() to add 'I', 2, 'three' to the beginning of the array and 7, 'VIII', 9 to the end so that the returned array contains representations of the numbers 1-9 in order.\n",
    "\n",
    "```javascript\n",
    "function mixedNumbers(arr) {\n",
    "  // Only change code below this line\n",
    "\n",
    "  // Only change code above this line\n",
    "  return arr;\n",
    "}\n",
    "\n",
    "console.log(mixedNumbers(['IV', 5, 'six']));\n",
    "```\n",
    "\n",
    "## Tests\n",
    "- mixedNumbers([\"IV\", 5, \"six\"]) should now return [\"I\", 2, \"three\", \"IV\", 5, \"six\", 7, \"VIII\", 9]\n",
    "- The mixedNumbers function should utilize the push() method\n",
    "- The mixedNumbers function should utilize the unshift() method"
   ]
  },
  {
   "attachments": {},
   "cell_type": "markdown",
   "metadata": {},
   "source": [
    "## Solution"
   ]
  },
  {
   "cell_type": "code",
   "execution_count": null,
   "metadata": {
    "vscode": {
     "languageId": "javascript"
    }
   },
   "outputs": [],
   "source": [
    "function mixedNumbers(arr) {\n",
    "    arr.unshift('I',2,'three');\n",
    "    arr.push(7,'VIII',9);\n",
    "    return arr;\n",
    "  }\n",
    "  \n",
    "  console.log(mixedNumbers(['IV', 5, 'six']));"
   ]
  }
 ],
 "metadata": {
  "kernelspec": {
   "display_name": "Python 3",
   "language": "python",
   "name": "python3"
  },
  "language_info": {
   "name": "python",
   "version": "3.10.6 (tags/v3.10.6:9c7b4bd, Aug  1 2022, 21:53:49) [MSC v.1932 64 bit (AMD64)]"
  },
  "orig_nbformat": 4,
  "vscode": {
   "interpreter": {
    "hash": "2af6b4b8e7dc844f17d5955b4b91766577101cdd3d4def0405c89e7c4a589cca"
   }
  }
 },
 "nbformat": 4,
 "nbformat_minor": 2
}
