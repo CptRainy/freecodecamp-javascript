{
 "cells": [
  {
   "attachments": {},
   "cell_type": "markdown",
   "metadata": {},
   "source": [
    "# Remove Items from an Array with pop() and shift()"
   ]
  },
  {
   "attachments": {},
   "cell_type": "markdown",
   "metadata": {},
   "source": [
    "Both push() and unshift() have corresponding methods that are nearly functional opposites: pop() and shift(). As you may have guessed by now, instead of adding, pop() removes an element from the end of an array, while shift() removes an element from the beginning. The key difference between pop() and shift() and their cousins push() and unshift(), is that neither method takes parameters, and each only allows an array to be modified by a single element at a time.\n",
    "\n",
    "Let's take a look:\n",
    "```javascript\n",
    "let greetings = ['whats up?', 'hello', 'see ya!'];\n",
    "\n",
    "greetings.pop();\n",
    "```\n",
    "greetings would have the value ['whats up?', 'hello'].\n",
    "```javascript\n",
    "greetings.shift();\n",
    "```\n",
    "greetings would have the value ['hello'].\n",
    "\n",
    "We can also return the value of the removed element with either method like this:\n",
    "```javascript\n",
    "let popped = greetings.pop();\n",
    "```\n",
    "greetings would have the value [], and popped would have the value hello."
   ]
  },
  {
   "attachments": {},
   "cell_type": "markdown",
   "metadata": {},
   "source": [
    "## Task\n",
    "We have defined a function, popShift, which takes an array as an argument and returns a new array. Modify the function, using pop() and shift(), to remove the first and last elements of the argument array, and assign the removed elements to their corresponding variables, so that the returned array contains their values.\n",
    "\n",
    "```javascript\n",
    "function popShift(arr) {\n",
    "  let popped; // Change this line\n",
    "  let shifted; // Change this line\n",
    "  return [shifted, popped];\n",
    "}\n",
    "\n",
    "console.log(popShift(['challenge', 'is', 'not', 'complete']));\n",
    "```\n",
    "\n",
    "## Tests\n",
    "- popShift([\"challenge\", \"is\", \"not\", \"complete\"]) should return [\"challenge\", \"complete\"]\n",
    "- The popShift function should utilize the pop() method\n",
    "- The popShift function should utilize the shift() method"
   ]
  },
  {
   "attachments": {},
   "cell_type": "markdown",
   "metadata": {},
   "source": [
    "## Solution"
   ]
  },
  {
   "cell_type": "code",
   "execution_count": null,
   "metadata": {
    "vscode": {
     "languageId": "javascript"
    }
   },
   "outputs": [],
   "source": [
    "function popShift(arr) {\n",
    "  let popped = arr.pop(); \n",
    "  let shifted = arr.shift(); \n",
    "  return [shifted, popped];\n",
    "}\n",
    "\n",
    "console.log(popShift(['challenge', 'is', 'not', 'complete']));"
   ]
  }
 ],
 "metadata": {
  "kernelspec": {
   "display_name": "Python 3",
   "language": "python",
   "name": "python3"
  },
  "language_info": {
   "name": "python",
   "version": "3.10.6 (tags/v3.10.6:9c7b4bd, Aug  1 2022, 21:53:49) [MSC v.1932 64 bit (AMD64)]"
  },
  "orig_nbformat": 4,
  "vscode": {
   "interpreter": {
    "hash": "2af6b4b8e7dc844f17d5955b4b91766577101cdd3d4def0405c89e7c4a589cca"
   }
  }
 },
 "nbformat": 4,
 "nbformat_minor": 2
}
