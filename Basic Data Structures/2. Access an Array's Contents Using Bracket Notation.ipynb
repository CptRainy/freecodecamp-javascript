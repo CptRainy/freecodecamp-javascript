{
 "cells": [
  {
   "attachments": {},
   "cell_type": "markdown",
   "metadata": {},
   "source": [
    "# Access an Array's Contents Using Bracket Notation"
   ]
  },
  {
   "attachments": {},
   "cell_type": "markdown",
   "metadata": {},
   "source": [
    "The fundamental feature of any data structure is, of course, the ability to not only store data, but to be able to retrieve that data on command. So, now that we've learned how to create an array, let's begin to think about how we can access that array's information.\n",
    "\n",
    "When we define a simple array as seen below, there are 3 items in it:\n",
    "```javascript\n",
    "let ourArray = [\"a\", \"b\", \"c\"];\n",
    "```\n",
    "In an array, each array item has an index. This index doubles as the position of that item in the array, and how you reference it. However, it is important to note, that JavaScript arrays are zero-indexed, meaning that the first element of an array is actually at the zeroth position, not the first. In order to retrieve an element from an array we can enclose an index in brackets and append it to the end of an array, or more commonly, to a variable which references an array object. This is known as bracket notation. For example, if we want to retrieve the a from ourArray and assign it to a variable, we can do so with the following code:\n",
    "```javascript\n",
    "let ourVariable = ourArray[0];\n",
    "Now ourVariable has the value of a.\n",
    "```\n",
    "In addition to accessing the value associated with an index, you can also set an index to a value using the same notation:\n",
    "```javascript\n",
    "ourArray[1] = \"not b anymore\";\n",
    "```\n",
    "Using bracket notation, we have now reset the item at index 1 from the string b, to not b anymore. Now ourArray is [\"a\", \"not b anymore\", \"c\"]."
   ]
  },
  {
   "attachments": {},
   "cell_type": "markdown",
   "metadata": {},
   "source": [
    "## Task\n",
    "In order to complete this challenge, set the 2nd position (index 1) of myArray to anything you want, besides the letter b.\n",
    "\n",
    "```javascript\n",
    "let myArray = [\"a\", \"b\", \"c\", \"d\"];\n",
    "// Only change code below this line\n",
    "\n",
    "// Only change code above this line\n",
    "console.log(myArray);\n",
    "```\n",
    "\n",
    "## Tests\n",
    "- myArray[0] should be equal to the letter a\n",
    "- myArray[1] should not be equal to the letter b\n",
    "- myArray[2] should be equal to the letter c\n",
    "- myArray[3] should be equal to the letter d"
   ]
  },
  {
   "attachments": {},
   "cell_type": "markdown",
   "metadata": {},
   "source": [
    "## Solution"
   ]
  },
  {
   "cell_type": "code",
   "execution_count": null,
   "metadata": {
    "vscode": {
     "languageId": "javascript"
    }
   },
   "outputs": [],
   "source": [
    "let myArray = [\"a\", \"b\", \"c\", \"d\"];\n",
    "myArray[1] = \"e\";\n",
    "console.log(myArray);"
   ]
  }
 ],
 "metadata": {
  "kernelspec": {
   "display_name": "Python 3",
   "language": "python",
   "name": "python3"
  },
  "language_info": {
   "name": "python",
   "version": "3.10.6 (tags/v3.10.6:9c7b4bd, Aug  1 2022, 21:53:49) [MSC v.1932 64 bit (AMD64)]"
  },
  "orig_nbformat": 4,
  "vscode": {
   "interpreter": {
    "hash": "2af6b4b8e7dc844f17d5955b4b91766577101cdd3d4def0405c89e7c4a589cca"
   }
  }
 },
 "nbformat": 4,
 "nbformat_minor": 2
}
