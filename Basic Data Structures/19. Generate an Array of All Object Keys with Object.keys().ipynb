{
 "cells": [
  {
   "attachments": {},
   "cell_type": "markdown",
   "metadata": {},
   "source": [
    "# Generate an Array of All Object Keys with Object.keys()"
   ]
  },
  {
   "attachments": {},
   "cell_type": "markdown",
   "metadata": {},
   "source": [
    "We can also generate an array which contains all the keys stored in an object with the Object.keys() method. This method takes an object as the argument and returns an array of strings representing each property in the object. Again, there will be no specific order to the entries in the array."
   ]
  },
  {
   "attachments": {},
   "cell_type": "markdown",
   "metadata": {},
   "source": [
    "## Task\n",
    "Finish writing the getArrayOfUsers function so that it returns an array containing all the properties in the object it receives as an argument.\n",
    "\n",
    "```javascript\n",
    "let users = {\n",
    "  Alan: {\n",
    "    age: 27,\n",
    "    online: false\n",
    "  },\n",
    "  Jeff: {\n",
    "    age: 32,\n",
    "    online: true\n",
    "  },\n",
    "  Sarah: {\n",
    "    age: 48,\n",
    "    online: false\n",
    "  },\n",
    "  Ryan: {\n",
    "    age: 19,\n",
    "    online: true\n",
    "  }\n",
    "};\n",
    "\n",
    "function getArrayOfUsers(obj) {\n",
    "  // Only change code below this line\n",
    "\n",
    "  // Only change code above this line\n",
    "}\n",
    "\n",
    "console.log(getArrayOfUsers(users));\n",
    "```\n",
    "\n",
    "## Tests\n",
    "- The users object should only contain the keys Alan, Jeff, Sarah, and Ryan\n",
    "- The getArrayOfUsers function should return an array which contains all the keys in the users object"
   ]
  },
  {
   "attachments": {},
   "cell_type": "markdown",
   "metadata": {},
   "source": [
    "## Solution"
   ]
  },
  {
   "cell_type": "code",
   "execution_count": null,
   "metadata": {
    "vscode": {
     "languageId": "javascript"
    }
   },
   "outputs": [],
   "source": [
    "let users = {\n",
    "  Alan: {\n",
    "    age: 27,\n",
    "    online: false\n",
    "  },\n",
    "  Jeff: {\n",
    "    age: 32,\n",
    "    online: true\n",
    "  },\n",
    "  Sarah: {\n",
    "    age: 48,\n",
    "    online: false\n",
    "  },\n",
    "  Ryan: {\n",
    "    age: 19,\n",
    "    online: true\n",
    "  }\n",
    "};\n",
    "\n",
    "function getArrayOfUsers(obj) {\n",
    "  return Object.keys(obj);\n",
    "}\n",
    "\n",
    "console.log(getArrayOfUsers(users));"
   ]
  }
 ],
 "metadata": {
  "kernelspec": {
   "display_name": "Python 3",
   "language": "python",
   "name": "python3"
  },
  "language_info": {
   "name": "python",
   "version": "3.10.6 (tags/v3.10.6:9c7b4bd, Aug  1 2022, 21:53:49) [MSC v.1932 64 bit (AMD64)]"
  },
  "orig_nbformat": 4,
  "vscode": {
   "interpreter": {
    "hash": "2af6b4b8e7dc844f17d5955b4b91766577101cdd3d4def0405c89e7c4a589cca"
   }
  }
 },
 "nbformat": 4,
 "nbformat_minor": 2
}
