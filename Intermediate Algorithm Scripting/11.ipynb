{
 "cells": [
  {
   "cell_type": "code",
   "execution_count": null,
   "metadata": {
    "vscode": {
     "languageId": "javascript"
    }
   },
   "outputs": [],
   "source": [
    "function convertHTML(str) {\n",
    "  let htmlAnd =  \"&amp;\";\n",
    "  let htmlLess = \"&lt;\";\n",
    "  let htmlGreat = \"&gt;\";\n",
    "  let htmlQuote = \"&quot;\";\n",
    "  let htmlApostrophe = \"&apos;\";\n",
    "\n",
    "  let arr = [...str];\n",
    "  for(let char in arr){\n",
    "    if(arr[char] === \"&\"){\n",
    "      arr[char] = htmlAnd;\n",
    "    }else if(arr[char] === \"<\"){\n",
    "      arr[char] = htmlLess;\n",
    "    }else if(arr[char] === \">\"){\n",
    "      arr[char] = htmlGreat;\n",
    "    }else if(arr[char] === \"\\\"\"){\n",
    "      arr[char] = htmlQuote;\n",
    "    }else if(arr[char] === \"'\"){\n",
    "      arr[char]  = htmlApostrophe;\n",
    "    }\n",
    "  } \n",
    "  return arr.join(\"\");\n",
    "}\n",
    "\n",
    "console.log(convertHTML(\"Dolce & Gabbana\"));"
   ]
  }
 ],
 "metadata": {
  "kernelspec": {
   "display_name": "Python 3",
   "language": "python",
   "name": "python3"
  },
  "language_info": {
   "name": "python",
   "version": "3.10.6"
  },
  "orig_nbformat": 4,
  "vscode": {
   "interpreter": {
    "hash": "2af6b4b8e7dc844f17d5955b4b91766577101cdd3d4def0405c89e7c4a589cca"
   }
  }
 },
 "nbformat": 4,
 "nbformat_minor": 2
}
