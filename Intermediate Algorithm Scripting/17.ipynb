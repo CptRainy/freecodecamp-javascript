{
 "cells": [
  {
   "cell_type": "code",
   "execution_count": null,
   "metadata": {
    "vscode": {
     "languageId": "javascript"
    }
   },
   "outputs": [],
   "source": [
    "function binaryAgent(str) {\n",
    "  let arr = [...str.split(' ')]\n",
    "  let result = [];\n",
    "  for(let i = 0; i < arr.length; i++){\n",
    "    arr[i] = '0b' + arr[i];\n",
    "    result.push(String.fromCharCode(arr[i]));\n",
    "  }\n",
    "  \n",
    "  return result.join('');\n",
    "}\n",
    "\n",
    "console.log(binaryAgent(\"01000001 01110010 01100101 01101110 00100111 01110100 00100000 01100010 01101111 01101110 01100110 01101001 01110010 01100101 01110011 00100000 01100110 01110101 01101110 00100001 00111111\"));"
   ]
  }
 ],
 "metadata": {
  "language_info": {
   "name": "python"
  },
  "orig_nbformat": 4
 },
 "nbformat": 4,
 "nbformat_minor": 2
}
