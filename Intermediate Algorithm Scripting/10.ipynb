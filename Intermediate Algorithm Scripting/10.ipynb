{
 "cells": [
  {
   "cell_type": "code",
   "execution_count": null,
   "metadata": {
    "vscode": {
     "languageId": "javascript"
    }
   },
   "outputs": [],
   "source": [
    "function uniteUnique(...arr) {\n",
    "  let newarr = [];\n",
    "  for (let array of arr) {\n",
    "    for (let value of array) {\n",
    "      if (!newarr.includes(value)){\n",
    "        newarr.push(value);\n",
    "      }\n",
    "    }\n",
    "  }\n",
    "  return newarr;\n",
    "}\n",
    "\n",
    "console.log(uniteUnique([1, 3, 2], [5, 2, 1, 4], [2, 1]));"
   ]
  }
 ],
 "metadata": {
  "kernelspec": {
   "display_name": "Python 3",
   "language": "python",
   "name": "python3"
  },
  "language_info": {
   "name": "python",
   "version": "3.10.6"
  },
  "orig_nbformat": 4,
  "vscode": {
   "interpreter": {
    "hash": "2af6b4b8e7dc844f17d5955b4b91766577101cdd3d4def0405c89e7c4a589cca"
   }
  }
 },
 "nbformat": 4,
 "nbformat_minor": 2
}
