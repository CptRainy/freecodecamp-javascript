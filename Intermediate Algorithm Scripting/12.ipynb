{
 "cells": [
  {
   "cell_type": "code",
   "execution_count": null,
   "metadata": {
    "vscode": {
     "languageId": "javascript"
    }
   },
   "outputs": [],
   "source": [
    "function sumFibs(num) {\n",
    "  let prev = 0;\n",
    "  let curr = 1;\n",
    "  let result = 0;\n",
    "  while(curr <= num){\n",
    "    if(curr % 2 !== 0){\n",
    "      result += curr;\n",
    "    }\n",
    "    let temp = curr;\n",
    "    curr += prev;\n",
    "    prev = temp;\n",
    "  }\n",
    "  return result;\n",
    "}\n",
    "\n",
    "console.log(sumFibs(4));"
   ]
  }
 ],
 "metadata": {
  "kernelspec": {
   "display_name": "Python 3",
   "language": "python",
   "name": "python3"
  },
  "language_info": {
   "name": "python",
   "version": "3.10.6"
  },
  "orig_nbformat": 4,
  "vscode": {
   "interpreter": {
    "hash": "2af6b4b8e7dc844f17d5955b4b91766577101cdd3d4def0405c89e7c4a589cca"
   }
  }
 },
 "nbformat": 4,
 "nbformat_minor": 2
}
