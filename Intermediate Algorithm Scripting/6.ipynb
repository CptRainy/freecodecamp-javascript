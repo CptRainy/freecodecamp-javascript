{
 "cells": [
  {
   "cell_type": "code",
   "execution_count": null,
   "metadata": {
    "vscode": {
     "languageId": "javascript"
    }
   },
   "outputs": [],
   "source": [
    "function translatePigLatin(str) {\n",
    "  const vowels = /[aeiou]/;\n",
    "  if(str[0].match(vowels)){\n",
    "      return str + \"way\";\n",
    "  }else if(vowels.test(str) === false){\n",
    "    return str + \"ay\";\n",
    "  }else{\n",
    "    let index = str.search(vowels);\n",
    "    let cluster = str.slice(0, index);\n",
    "    let rest = str.slice(index);\n",
    "    return rest + cluster + \"ay\";\n",
    "  }\n",
    "}\n",
    "\n",
    "console.log(translatePigLatin(\"rhythm\"));"
   ]
  }
 ],
 "metadata": {
  "language_info": {
   "name": "python"
  },
  "orig_nbformat": 4
 },
 "nbformat": 4,
 "nbformat_minor": 2
}
