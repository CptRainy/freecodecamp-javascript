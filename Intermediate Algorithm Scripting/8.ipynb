{
 "cells": [
  {
   "cell_type": "code",
   "execution_count": null,
   "metadata": {
    "vscode": {
     "languageId": "javascript"
    }
   },
   "outputs": [],
   "source": [
    "function pairElement(str) {\n",
    "  let arr = [];\n",
    "\n",
    "  for (let i = 0; i < str.length; i += 1){\n",
    "    if(str[i] == \"A\"){\n",
    "      arr.push([str[i], \"T\"]);\n",
    "    } else if(str[i] == \"T\"){\n",
    "      arr.push([str[i], \"A\"]);\n",
    "    } else if(str[i] == \"G\"){\n",
    "       arr.push([str[i], \"C\"]);\n",
    "    } else {\n",
    "      arr.push([str[i], \"G\"]);\n",
    "    }\n",
    "  }\n",
    "  \n",
    "\n",
    "  return arr;\n",
    "}\n",
    "\n",
    "console.log(pairElement(\"GCG\"));"
   ]
  }
 ],
 "metadata": {
  "kernelspec": {
   "display_name": "Python 3",
   "language": "python",
   "name": "python3"
  },
  "language_info": {
   "name": "python",
   "version": "3.10.6"
  },
  "orig_nbformat": 4,
  "vscode": {
   "interpreter": {
    "hash": "2af6b4b8e7dc844f17d5955b4b91766577101cdd3d4def0405c89e7c4a589cca"
   }
  }
 },
 "nbformat": 4,
 "nbformat_minor": 2
}
