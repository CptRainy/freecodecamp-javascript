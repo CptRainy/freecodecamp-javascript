{
 "cells": [
  {
   "cell_type": "code",
   "execution_count": null,
   "metadata": {
    "vscode": {
     "languageId": "javascript"
    }
   },
   "outputs": [],
   "source": [
    "function spinalCase(str) {\n",
    "  return str.replace(/([a-z])([A-Z])/g, \"$1-$2\").replace(/\\s+|_+/g, \"-\").toLowerCase();\n",
    "}\n",
    "\n",
    "console.log(spinalCase('The_Andy_Griffith_Show'));"
   ]
  }
 ],
 "metadata": {
  "language_info": {
   "name": "python"
  },
  "orig_nbformat": 4
 },
 "nbformat": 4,
 "nbformat_minor": 2
}
