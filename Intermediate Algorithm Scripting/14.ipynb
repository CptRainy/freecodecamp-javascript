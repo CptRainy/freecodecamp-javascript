{
 "cells": [
  {
   "cell_type": "code",
   "execution_count": null,
   "metadata": {},
   "outputs": [],
   "source": [
    "function smallestCommons(arr) {\n",
    "  let min = arr[0];\n",
    "  let max = arr[1];\n",
    "  let range = [];\n",
    "  let allprod = 1;\n",
    "\n",
    "  if (min > max){\n",
    "    let temp = max;\n",
    "    max = min;\n",
    "    min = temp;\n",
    "  }\n",
    "\n",
    "  for(let i = min; i <= max; i++){\n",
    "    range.push(i);  \n",
    "    allprod *= i;\n",
    "  }\n",
    "\n",
    "  for(let j = max; j <= allprod; j += max){\n",
    "    let scm = range.every((num) => j % num === 0);\n",
    "    if (scm) {\n",
    "      return j;\n",
    "    }\n",
    "  }\n",
    "}\n",
    "\n",
    "console.log(smallestCommons([18, 23]));"
   ]
  }
 ],
 "metadata": {
  "kernelspec": {
   "display_name": "Python 3",
   "language": "python",
   "name": "python3"
  },
  "language_info": {
   "name": "python",
   "version": "3.10.6"
  },
  "orig_nbformat": 4,
  "vscode": {
   "interpreter": {
    "hash": "2af6b4b8e7dc844f17d5955b4b91766577101cdd3d4def0405c89e7c4a589cca"
   }
  }
 },
 "nbformat": 4,
 "nbformat_minor": 2
}
