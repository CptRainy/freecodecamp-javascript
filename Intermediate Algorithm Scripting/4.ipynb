{
 "cells": [
  {
   "cell_type": "code",
   "execution_count": null,
   "metadata": {
    "vscode": {
     "languageId": "javascript"
    }
   },
   "outputs": [],
   "source": [
    "\n",
    "function whatIsInAName(collection, source) {\n",
    "  let keys = Object.keys(source);\n",
    "  let filtered = collection.filter(name => keys.every(key => name.hasOwnProperty(key) && name[key] == source[key]));\n",
    "  return filtered;\n",
    "}\n",
    "\n",
    "whatIsInAName([{ first: \"Romeo\", last: \"Montague\" }, { first: \"Mercutio\", last: null }, { first: \"Tybalt\", last: \"Capulet\" }], { last: \"Capulet\" });"
   ]
  }
 ],
 "metadata": {
  "language_info": {
   "name": "python"
  },
  "orig_nbformat": 4
 },
 "nbformat": 4,
 "nbformat_minor": 2
}
