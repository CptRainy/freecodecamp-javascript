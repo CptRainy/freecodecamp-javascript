{
 "cells": [
  {
   "cell_type": "code",
   "execution_count": null,
   "metadata": {
    "vscode": {
     "languageId": "javascript"
    }
   },
   "outputs": [],
   "source": [
    "function sumAll(arr) {\n",
    "  let sum = 0;\n",
    "  let big;\n",
    "  let small;\n",
    "\n",
    "  if(arr[0] > arr[1]){\n",
    "    big = arr[0];\n",
    "    small = arr[1];\n",
    "  } else{\n",
    "    big = arr[1];\n",
    "    small = arr[0];\n",
    "  }\n",
    "  \n",
    "  for(let i = small; i <= big; i++ ){\n",
    "    sum += i;\n",
    "  }\n",
    "  return sum;\n",
    "}\n",
    "\n",
    "sumAll([1, 4]);"
   ]
  }
 ],
 "metadata": {
  "kernelspec": {
   "display_name": "Python 3",
   "language": "python",
   "name": "python3"
  },
  "language_info": {
   "name": "python",
   "version": "3.10.6 (tags/v3.10.6:9c7b4bd, Aug  1 2022, 21:53:49) [MSC v.1932 64 bit (AMD64)]"
  },
  "orig_nbformat": 4,
  "vscode": {
   "interpreter": {
    "hash": "2af6b4b8e7dc844f17d5955b4b91766577101cdd3d4def0405c89e7c4a589cca"
   }
  }
 },
 "nbformat": 4,
 "nbformat_minor": 2
}
