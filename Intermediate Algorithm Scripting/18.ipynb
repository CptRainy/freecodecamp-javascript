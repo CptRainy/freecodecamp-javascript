{
 "cells": [
  {
   "cell_type": "code",
   "execution_count": null,
   "metadata": {},
   "outputs": [],
   "source": [
    "function truthCheck(collection, pre) {\n",
    "  for(let i = 0; i < collection.length; i++){\n",
    "    if(!collection[i][pre]){\n",
    "      return false;\n",
    "    }\n",
    "  }\n",
    "  return true;\n",
    "}\n",
    "\n",
    "\n",
    "console.log(truthCheck([{name: \"Quincy\", role: \"Founder\", isBot: false}, {name: \"Naomi\", role: \"\", isBot: false}, {name: \"Camperbot\", role: \"Bot\", isBot: true}], \"isBot\"));"
   ]
  }
 ],
 "metadata": {
  "language_info": {
   "name": "python"
  },
  "orig_nbformat": 4
 },
 "nbformat": 4,
 "nbformat_minor": 2
}
