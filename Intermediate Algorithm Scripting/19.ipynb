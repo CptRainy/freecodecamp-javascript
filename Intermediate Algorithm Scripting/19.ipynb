{
 "cells": [
  {
   "cell_type": "code",
   "execution_count": null,
   "metadata": {
    "vscode": {
     "languageId": "javascript"
    }
   },
   "outputs": [],
   "source": [
    "function addTogether(...args) {\n",
    "  let num = [...args];\n",
    "  let sum = 0;\n",
    "\n",
    "  if (num.length === 1 && typeof num[0] === \"number\") {\n",
    "    return function(val) {\n",
    "      if (typeof val !== \"number\") {\n",
    "        return undefined;\n",
    "      }\n",
    "      return num[0] + val;\n",
    "    };\n",
    "  }\n",
    "\n",
    "  for (let i = 0; i < num.length; i++) {\n",
    "    if (typeof num[i] !== \"number\") {\n",
    "      return undefined;\n",
    "    }\n",
    "    sum += num[i];\n",
    "  }\n",
    "  return sum;\n",
    "}\n",
    "\n",
    "console.log(addTogether(5)(7));\n",
    "console.log(addTogether(2)([3]));"
   ]
  }
 ],
 "metadata": {
  "language_info": {
   "name": "python"
  },
  "orig_nbformat": 4
 },
 "nbformat": 4,
 "nbformat_minor": 2
}
