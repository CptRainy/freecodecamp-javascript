{
 "cells": [
  {
   "cell_type": "code",
   "execution_count": null,
   "metadata": {
    "vscode": {
     "languageId": "javascript"
    }
   },
   "outputs": [],
   "source": [
    "function sumPrimes(num) {\n",
    "  let arr = [];\n",
    "  let sum = 0;\n",
    "  for(let i = 2; i <= num; i++){ //to get the numbers\n",
    "    let checker = true;\n",
    "    for(let j = 2; j < i; j++){ //to check if prime\n",
    "      if(i % j === 0){\n",
    "        checker = false; //if not prime it breaks\n",
    "        break;\n",
    "      }\n",
    "    }\n",
    "    if (checker){\n",
    "      arr.push(i);\n",
    "    }\n",
    "  }\n",
    "  for(let k = 0; k < arr.length; k++){\n",
    "    sum += arr[k];\n",
    "  }\n",
    "  return sum;\n",
    "}\n",
    "\n",
    "console.log(sumPrimes(10));"
   ]
  }
 ],
 "metadata": {
  "kernelspec": {
   "display_name": "Python 3",
   "language": "python",
   "name": "python3"
  },
  "language_info": {
   "name": "python",
   "version": "3.10.6"
  },
  "orig_nbformat": 4,
  "vscode": {
   "interpreter": {
    "hash": "2af6b4b8e7dc844f17d5955b4b91766577101cdd3d4def0405c89e7c4a589cca"
   }
  }
 },
 "nbformat": 4,
 "nbformat_minor": 2
}
