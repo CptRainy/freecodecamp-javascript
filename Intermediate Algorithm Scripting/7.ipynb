{
 "cells": [
  {
   "cell_type": "code",
   "execution_count": null,
   "metadata": {
    "vscode": {
     "languageId": "javascript"
    }
   },
   "outputs": [],
   "source": [
    "function myReplace(str, before, after) {\n",
    "  let b = [...before];\n",
    "  let a = [...after];\n",
    "  if(b[0] == b[0].toUpperCase()){\n",
    "    a[0] = a[0].toUpperCase();\n",
    "  }else if(b[0] == b[0].toLowerCase()){\n",
    "    a[0] = a[0].toLowerCase();\n",
    "  }\n",
    "  return str.replace(b.join(\"\"),a.join(\"\"));\n",
    "}\n",
    "\n",
    "console.log(myReplace(\"He is Sleeping on the couch\", \"Sleeping\", \"sitting\"));"
   ]
  }
 ],
 "metadata": {
  "language_info": {
   "name": "python"
  },
  "orig_nbformat": 4
 },
 "nbformat": 4,
 "nbformat_minor": 2
}
