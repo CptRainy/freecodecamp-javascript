{
 "cells": [
  {
   "cell_type": "code",
   "execution_count": null,
   "metadata": {
    "vscode": {
     "languageId": "javascript"
    }
   },
   "outputs": [],
   "source": [
    "const Person = function(firstAndLast) {\n",
    "  let firstName = firstAndLast.split(\" \")[0];\n",
    "  let lastName = firstAndLast.split(\" \")[1];\n",
    "\n",
    "  this.getFirstName = function() {\n",
    "    return firstName;\n",
    "  };\n",
    "\n",
    "  this.getLastName = function() {\n",
    "    return lastName;\n",
    "  };\n",
    "\n",
    "  this.getFullName = function() {\n",
    "    return firstName + \" \" + lastName;\n",
    "  };\n",
    "\n",
    "  this.setFirstName = function(first) {\n",
    "    firstName = first;\n",
    "  };\n",
    "\n",
    "  this.setLastName = function(last) {\n",
    "    lastName = last;\n",
    "  };\n",
    "\n",
    "  this.setFullName = function(firstAndLast) {\n",
    "    firstName = firstAndLast.split(\" \")[0];\n",
    "    lastName = firstAndLast.split(\" \")[1];\n",
    "  };\n",
    "};\n",
    "\n",
    "const bob = new Person('Bob Ross');\n",
    "console.log(bob.getFullName());"
   ]
  }
 ],
 "metadata": {
  "language_info": {
   "name": "python"
  },
  "orig_nbformat": 4
 },
 "nbformat": 4,
 "nbformat_minor": 2
}
