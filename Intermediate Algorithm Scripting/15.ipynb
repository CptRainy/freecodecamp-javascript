{
 "cells": [
  {
   "cell_type": "code",
   "execution_count": null,
   "metadata": {
    "vscode": {
     "languageId": "javascript"
    }
   },
   "outputs": [],
   "source": [
    "function dropElements(arr, func) {\n",
    "  let arrlength = arr.length;\n",
    "\n",
    "  for(let i = 0; i < arrlength; i++){\n",
    "    if(func(arr[0])){\n",
    "      return arr;\n",
    "    }else{\n",
    "      arr.shift();\n",
    "    }\n",
    "  }\n",
    "  return arr;\n",
    "}\n",
    "\n",
    "console.log(dropElements([1, 2, 3, 4], function(n) {return n >= 3;}));"
   ]
  }
 ],
 "metadata": {
  "kernelspec": {
   "display_name": "Python 3",
   "language": "python",
   "name": "python3"
  },
  "language_info": {
   "name": "python",
   "version": "3.10.6"
  },
  "orig_nbformat": 4,
  "vscode": {
   "interpreter": {
    "hash": "2af6b4b8e7dc844f17d5955b4b91766577101cdd3d4def0405c89e7c4a589cca"
   }
  }
 },
 "nbformat": 4,
 "nbformat_minor": 2
}
