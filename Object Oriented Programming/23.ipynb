{
 "cells": [
  {
   "cell_type": "code",
   "execution_count": null,
   "metadata": {},
   "outputs": [],
   "source": [
    "let bird = {\n",
    "  name: \"Donald\",\n",
    "  numLegs: 2\n",
    "};\n",
    "\n",
    "let boat = {\n",
    "  name: \"Warrior\",\n",
    "  type: \"race-boat\"\n",
    "};\n",
    "\n",
    "// Only change code below this line\n",
    "let glideMixin = function(obj) {\n",
    "  obj.glide = function(){\n",
    "    console.log(\"I can glide!\");\n",
    "  }\n",
    "};\n",
    "\n",
    "glideMixin(bird);\n",
    "glideMixin(boat);"
   ]
  }
 ],
 "metadata": {
  "kernelspec": {
   "display_name": "Python 3",
   "language": "python",
   "name": "python3"
  },
  "language_info": {
   "name": "python",
   "version": "3.10.6 (tags/v3.10.6:9c7b4bd, Aug  1 2022, 21:53:49) [MSC v.1932 64 bit (AMD64)]"
  },
  "orig_nbformat": 4,
  "vscode": {
   "interpreter": {
    "hash": "2af6b4b8e7dc844f17d5955b4b91766577101cdd3d4def0405c89e7c4a589cca"
   }
  }
 },
 "nbformat": 4,
 "nbformat_minor": 2
}
