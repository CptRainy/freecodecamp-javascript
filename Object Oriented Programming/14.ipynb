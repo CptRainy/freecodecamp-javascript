{
 "cells": [
  {
   "cell_type": "code",
   "execution_count": null,
   "metadata": {
    "vscode": {
     "languageId": "javascript"
    }
   },
   "outputs": [],
   "source": [
    "function Dog(name) {\n",
    "    this.name = name;\n",
    "  }\n",
    "  \n",
    "  // Only change code below this line\n",
    "  Dog.prototype = {\n",
    "    constructor: Dog,\n",
    "    numLegs: 4,\n",
    "    eat: function() {\n",
    "      console.log(\"nom nom nom\");\n",
    "    },\n",
    "    describe: function() {\n",
    "      console.log(\"My name is \" + this.name);\n",
    "    }\n",
    "  };"
   ]
  }
 ],
 "metadata": {
  "language_info": {
   "name": "python"
  },
  "orig_nbformat": 4
 },
 "nbformat": 4,
 "nbformat_minor": 2
}
