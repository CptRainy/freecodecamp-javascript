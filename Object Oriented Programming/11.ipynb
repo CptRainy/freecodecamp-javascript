{
 "cells": [
  {
   "cell_type": "code",
   "execution_count": null,
   "metadata": {
    "vscode": {
     "languageId": "javascript"
    }
   },
   "outputs": [],
   "source": [
    "function Dog(name) {\n",
    "    this.name = name;\n",
    "  }\n",
    "  \n",
    "  Dog.prototype.numLegs = 4;\n",
    "  \n",
    "  let beagle = new Dog(\"Snoopy\");\n",
    "  \n",
    "  let ownProps = [];\n",
    "  let prototypeProps = [];\n",
    "  \n",
    "  // Only change code below this line\n",
    "  for (let property in beagle){\n",
    "    if(beagle.hasOwnProperty(property)){\n",
    "      ownProps.push(property);\n",
    "    } else {\n",
    "      prototypeProps.push(property);\n",
    "    }\n",
    "  }"
   ]
  }
 ],
 "metadata": {
  "language_info": {
   "name": "python"
  },
  "orig_nbformat": 4
 },
 "nbformat": 4,
 "nbformat_minor": 2
}
