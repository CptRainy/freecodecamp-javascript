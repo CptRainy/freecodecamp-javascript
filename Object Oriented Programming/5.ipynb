{
 "cells": [
  {
   "cell_type": "code",
   "execution_count": null,
   "metadata": {
    "vscode": {
     "languageId": "javascript"
    }
   },
   "outputs": [],
   "source": [
    "function Dog(){\n",
    "    this.name = \"Choconut\";\n",
    "    this.color = \"brown\";\n",
    "    this.numLegs = 4;\n",
    "  }"
   ]
  }
 ],
 "metadata": {
  "language_info": {
   "name": "python"
  },
  "orig_nbformat": 4
 },
 "nbformat": 4,
 "nbformat_minor": 2
}
