{
 "cells": [
  {
   "cell_type": "code",
   "execution_count": null,
   "metadata": {},
   "outputs": [],
   "source": [
    "function Animal() { }\n",
    "\n",
    "Animal.prototype = {\n",
    "  constructor: Animal,\n",
    "  eat: function() {\n",
    "    console.log(\"nom nom nom\");\n",
    "  }\n",
    "};\n",
    "\n",
    "function Dog() { }\n",
    "\n",
    "// Only change code below this line\n",
    "Dog.prototype = Object.create(Animal.prototype);\n",
    "\n",
    "let beagle = new Dog();"
   ]
  }
 ],
 "metadata": {
  "kernelspec": {
   "display_name": "Python 3",
   "language": "python",
   "name": "python3"
  },
  "language_info": {
   "name": "python",
   "version": "3.10.6 (tags/v3.10.6:9c7b4bd, Aug  1 2022, 21:53:49) [MSC v.1932 64 bit (AMD64)]"
  },
  "orig_nbformat": 4,
  "vscode": {
   "interpreter": {
    "hash": "2af6b4b8e7dc844f17d5955b4b91766577101cdd3d4def0405c89e7c4a589cca"
   }
  }
 },
 "nbformat": 4,
 "nbformat_minor": 2
}
