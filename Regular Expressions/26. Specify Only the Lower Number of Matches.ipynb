{
 "cells": [
  {
   "attachments": {},
   "cell_type": "markdown",
   "metadata": {},
   "source": [
    "# Specify Only the Lower Number of Matches"
   ]
  },
  {
   "attachments": {},
   "cell_type": "markdown",
   "metadata": {},
   "source": [
    "You can specify the lower and upper number of patterns with quantity specifiers using curly brackets. Sometimes you only want to specify the lower number of patterns with no upper limit.\n",
    "\n",
    "To only specify the lower number of patterns, keep the first number followed by a comma.\n",
    "\n",
    "For example, to match only the string hah with the letter a appearing at least 3 times, your regex would be /ha{3,}h/.\n",
    "```javascript\n",
    "let A4 = \"haaaah\";\n",
    "let A2 = \"haah\";\n",
    "let A100 = \"h\" + \"a\".repeat(100) + \"h\";\n",
    "let multipleA = /ha{3,}h/;\n",
    "multipleA.test(A4);\n",
    "multipleA.test(A2);\n",
    "multipleA.test(A100);\n",
    "```\n",
    "In order, the three test calls would return true, false, and true."
   ]
  },
  {
   "attachments": {},
   "cell_type": "markdown",
   "metadata": {},
   "source": [
    "## Task\n",
    "Change the regex haRegex to match the word Hazzah only when it has four or more letter z's.\n",
    "\n",
    "```javascript\n",
    "let haStr = \"Hazzzzah\";\n",
    "let haRegex = /change/; // Change this line\n",
    "let result = haRegex.test(haStr);\n",
    "```\n",
    "\n",
    "## Tests\n",
    "- Your regex should use curly brackets.\n",
    "- Your regex should not match the string Hazzah\n",
    "- Your regex should not match the string Hazzzah\n",
    "- Your regex should match the string Hazzzzah\n",
    "- Your regex should match the string Hazzzzzah\n",
    "- Your regex should match the string Hazzzzzzah\n",
    "- Your regex should match the string Hazzah with 30 z's in it."
   ]
  },
  {
   "attachments": {},
   "cell_type": "markdown",
   "metadata": {},
   "source": [
    "## Solution"
   ]
  },
  {
   "cell_type": "code",
   "execution_count": null,
   "metadata": {
    "vscode": {
     "languageId": "javascript"
    }
   },
   "outputs": [],
   "source": [
    "let haStr = \"Hazzzzah\";\n",
    "let haRegex = /Haz{4,}ah/; \n",
    "let result = haRegex.test(haStr);"
   ]
  }
 ],
 "metadata": {
  "kernelspec": {
   "display_name": "Python 3",
   "language": "python",
   "name": "python3"
  },
  "language_info": {
   "name": "python",
   "version": "3.10.6 (tags/v3.10.6:9c7b4bd, Aug  1 2022, 21:53:49) [MSC v.1932 64 bit (AMD64)]"
  },
  "orig_nbformat": 4,
  "vscode": {
   "interpreter": {
    "hash": "2af6b4b8e7dc844f17d5955b4b91766577101cdd3d4def0405c89e7c4a589cca"
   }
  }
 },
 "nbformat": 4,
 "nbformat_minor": 2
}
