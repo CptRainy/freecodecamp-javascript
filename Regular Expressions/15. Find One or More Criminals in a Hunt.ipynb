{
 "cells": [
  {
   "attachments": {},
   "cell_type": "markdown",
   "metadata": {},
   "source": [
    "# Find One or More Criminals in a Hunt"
   ]
  },
  {
   "attachments": {},
   "cell_type": "markdown",
   "metadata": {},
   "source": [
    "ime to pause and test your new regex writing skills. A group of criminals escaped from jail and ran away, but you don't know how many. However, you do know that they stay close together when they are around other people. You are responsible for finding all of the criminals at once.\n",
    "\n",
    "Here's an example to review how to do this:\n",
    "\n",
    "The regex /z+/ matches the letter z when it appears one or more times in a row. It would find matches in all of the following strings:\n",
    "\n",
    "\"z\"\n",
    "\n",
    "\"zzzzzz\"\n",
    "\n",
    "\"ABCzzzz\"\n",
    "\n",
    "\"zzzzABC\"\n",
    "\n",
    "\"abczzzzzzzzzzzzzzzzzzzzzabc\"\n",
    "\n",
    "But it does not find matches in the following strings since there are no letter z characters:\n",
    "\n",
    "\"\"\n",
    "\n",
    "\"ABC\"\n",
    "\n",
    "\"abcabc\"\n"
   ]
  },
  {
   "attachments": {},
   "cell_type": "markdown",
   "metadata": {},
   "source": [
    "## Task\n",
    "Write a greedy regex that finds one or more criminals within a group of other people. A criminal is represented by the capital letter C.\n",
    "\n",
    "```javascript\n",
    "let reCriminals = /./; // Change this line\n",
    "```\n",
    "\n",
    "## Tests\n",
    "- Your regex should match one criminal (C) in the string C\n",
    "- Your regex should match two criminals (CC) in the string CC\n",
    "- Your regex should match three criminals (CCC) in the string P1P5P4CCCcP2P6P3.\n",
    "- Your regex should match five criminals (CCCCC) in the string P6P2P7P4P5CCCCCP3P1\n",
    "- Your regex should not match any criminals in the empty string \"\"\n",
    "- Your regex should not match any criminals in the string P1P2P3\n",
    "- Your regex should match fifty criminals (CCCCCCCCCCCCCCCCCCCCCCCCCCCCCCCCCCCCCCCCCCCCCCCCCC) in the string P2P1P5P4CCCCCCCCCCCCCCCCCCCCCCCCCCCCCCCCCCCCCCCCCCCCCCCCCCP3."
   ]
  },
  {
   "attachments": {},
   "cell_type": "markdown",
   "metadata": {},
   "source": [
    "## Solution"
   ]
  },
  {
   "cell_type": "code",
   "execution_count": null,
   "metadata": {
    "vscode": {
     "languageId": "javascript"
    }
   },
   "outputs": [],
   "source": [
    "let reCriminals = /C+/;"
   ]
  }
 ],
 "metadata": {
  "kernelspec": {
   "display_name": "Python 3",
   "language": "python",
   "name": "python3"
  },
  "language_info": {
   "name": "python",
   "version": "3.10.6 (tags/v3.10.6:9c7b4bd, Aug  1 2022, 21:53:49) [MSC v.1932 64 bit (AMD64)]"
  },
  "orig_nbformat": 4,
  "vscode": {
   "interpreter": {
    "hash": "2af6b4b8e7dc844f17d5955b4b91766577101cdd3d4def0405c89e7c4a589cca"
   }
  }
 },
 "nbformat": 4,
 "nbformat_minor": 2
}
