{
 "cells": [
  {
   "attachments": {},
   "cell_type": "markdown",
   "metadata": {},
   "source": [
    "# Match All Letters and Numbers"
   ]
  },
  {
   "attachments": {},
   "cell_type": "markdown",
   "metadata": {},
   "source": [
    "Using character classes, you were able to search for all letters of the alphabet with [a-z]. This kind of character class is common enough that there is a shortcut for it, although it includes a few extra characters as well.\n",
    "\n",
    "The closest character class in JavaScript to match the alphabet is \\w. This shortcut is equal to [A-Za-z0-9_]. This character class matches upper and lowercase letters plus numbers. Note, this character class also includes the underscore character (_).\n",
    "```javascript\n",
    "let longHand = /[A-Za-z0-9_]+/;\n",
    "let shortHand = /\\w+/;\n",
    "let numbers = \"42\";\n",
    "let varNames = \"important_var\";\n",
    "longHand.test(numbers);\n",
    "shortHand.test(numbers);\n",
    "longHand.test(varNames);\n",
    "shortHand.test(varNames);\n",
    "```\n",
    "All four of these test calls would return true.\n",
    "\n",
    "These shortcut character classes are also known as shorthand character classes."
   ]
  },
  {
   "attachments": {},
   "cell_type": "markdown",
   "metadata": {},
   "source": [
    "## Task\n",
    "Use the shorthand character class \\w to count the number of alphanumeric characters in various quotes and strings.\n",
    "\n",
    "```javascript\n",
    "let quoteSample = \"The five boxing wizards jump quickly.\";\n",
    "let alphabetRegexV2 = /change/; // Change this line\n",
    "let result = quoteSample.match(alphabetRegexV2).length;\n",
    "```\n",
    "\n",
    "## Tests\n",
    "- Your regex should use the global flag.\n",
    "- Your regex should use the shorthand character \\w to match all characters which are alphanumeric.\n",
    "- Your regex should find 31 alphanumeric characters in the string The five boxing wizards jump quickly.\n",
    "- Your regex should find 32 alphanumeric characters in the string Pack my box with five dozen liquor jugs.\n",
    "- Your regex should find 30 alphanumeric characters in the string How vexingly quick daft zebras jump!\n",
    "- Your regex should find 36 alphanumeric characters in the string 123 456 7890 ABC def GHI jkl MNO pqr STU vwx YZ."
   ]
  },
  {
   "attachments": {},
   "cell_type": "markdown",
   "metadata": {},
   "source": [
    "## Solution"
   ]
  },
  {
   "cell_type": "code",
   "execution_count": null,
   "metadata": {
    "vscode": {
     "languageId": "javascript"
    }
   },
   "outputs": [],
   "source": [
    "let quoteSample = \"The five boxing wizards jump quickly.\";\n",
    "let alphabetRegexV2 = /\\w/g;\n",
    "let result = quoteSample.match(alphabetRegexV2).length;"
   ]
  }
 ],
 "metadata": {
  "kernelspec": {
   "display_name": "Python 3",
   "language": "python",
   "name": "python3"
  },
  "language_info": {
   "name": "python",
   "version": "3.10.6 (tags/v3.10.6:9c7b4bd, Aug  1 2022, 21:53:49) [MSC v.1932 64 bit (AMD64)]"
  },
  "orig_nbformat": 4,
  "vscode": {
   "interpreter": {
    "hash": "2af6b4b8e7dc844f17d5955b4b91766577101cdd3d4def0405c89e7c4a589cca"
   }
  }
 },
 "nbformat": 4,
 "nbformat_minor": 2
}
