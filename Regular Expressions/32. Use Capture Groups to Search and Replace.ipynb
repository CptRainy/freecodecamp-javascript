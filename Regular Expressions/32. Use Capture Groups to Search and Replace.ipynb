{
 "cells": [
  {
   "attachments": {},
   "cell_type": "markdown",
   "metadata": {},
   "source": [
    "# Use Capture Groups to Search and Replace"
   ]
  },
  {
   "attachments": {},
   "cell_type": "markdown",
   "metadata": {},
   "source": [
    "Searching is useful. However, you can make searching even more powerful when it also changes (or replaces) the text you match.\n",
    "\n",
    "You can search and replace text in a string using .replace() on a string. The inputs for .replace() is first the regex pattern you want to search for. The second parameter is the string to replace the match or a function to do something.\n",
    "```javascript\n",
    "let wrongText = \"The sky is silver.\";\n",
    "let silverRegex = /silver/;\n",
    "wrongText.replace(silverRegex, \"blue\");\n",
    "```\n",
    "The replace call would return the string The sky is blue..\n",
    "\n",
    "You can also access capture groups in the replacement string with dollar signs ($).\n",
    "```javascript\n",
    "\"Code Camp\".replace(/(\\w+)\\s(\\w+)/, '$2 $1');\n",
    "```\n",
    "The replace call would return the string Camp Code.\n",
    "\n"
   ]
  },
  {
   "attachments": {},
   "cell_type": "markdown",
   "metadata": {},
   "source": [
    "## Task\n",
    "Write a regex fixRegex using three capture groups that will search for each word in the string one two three. Then update the replaceText variable to replace one two three with the string three two one and assign the result to the result variable. Make sure you are utilizing capture groups in the replacement string using the dollar sign ($) syntax.\n",
    "\n",
    "```javascript\n",
    "let str = \"one two three\";\n",
    "let fixRegex = /change/; // Change this line\n",
    "let replaceText = \"\"; // Change this line\n",
    "let result = str.replace(fixRegex, replaceText);\n",
    "```\n",
    "\n",
    "## Tests\n",
    "- You should use .replace() to search and replace.\n",
    "- Your regex should change the string one two three to the string three two one\n",
    "- You should not change the last line.\n",
    "- fixRegex should use at least three capture groups.\n",
    "- replaceText should use parenthesized submatch string(s) (i.e. the nth parenthesized submatch string, $n, corresponds to the nth capture group)."
   ]
  },
  {
   "attachments": {},
   "cell_type": "markdown",
   "metadata": {},
   "source": [
    "## Solution"
   ]
  },
  {
   "cell_type": "code",
   "execution_count": null,
   "metadata": {
    "vscode": {
     "languageId": "javascript"
    }
   },
   "outputs": [],
   "source": [
    "let str = \"one two three\";\n",
    "let fixRegex = /(one)\\s(two)\\s(three)/; \n",
    "let replaceText = \"$3 $2 $1\"; \n",
    "let result = str.replace(fixRegex, replaceText);"
   ]
  }
 ],
 "metadata": {
  "kernelspec": {
   "display_name": "Python 3",
   "language": "python",
   "name": "python3"
  },
  "language_info": {
   "name": "python",
   "version": "3.10.6 (tags/v3.10.6:9c7b4bd, Aug  1 2022, 21:53:49) [MSC v.1932 64 bit (AMD64)]"
  },
  "orig_nbformat": 4,
  "vscode": {
   "interpreter": {
    "hash": "2af6b4b8e7dc844f17d5955b4b91766577101cdd3d4def0405c89e7c4a589cca"
   }
  }
 },
 "nbformat": 4,
 "nbformat_minor": 2
}
