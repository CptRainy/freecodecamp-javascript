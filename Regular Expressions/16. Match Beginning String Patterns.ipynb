{
 "cells": [
  {
   "attachments": {},
   "cell_type": "markdown",
   "metadata": {},
   "source": [
    "# Match Beginning String Patterns"
   ]
  },
  {
   "attachments": {},
   "cell_type": "markdown",
   "metadata": {},
   "source": [
    "Prior challenges showed that regular expressions can be used to look for a number of matches. They are also used to search for patterns in specific positions in strings.\n",
    "\n",
    "In an earlier challenge, you used the caret character (^) inside a character set to create a negated character set in the form [^thingsThatWillNotBeMatched]. Outside of a character set, the caret is used to search for patterns at the beginning of strings.\n",
    "```javascript\n",
    "let firstString = \"Ricky is first and can be found.\";\n",
    "let firstRegex = /^Ricky/;\n",
    "firstRegex.test(firstString);\n",
    "let notFirst = \"You can't find Ricky now.\";\n",
    "firstRegex.test(notFirst);\n",
    "```\n",
    "The first test call would return true, while the second would return false."
   ]
  },
  {
   "attachments": {},
   "cell_type": "markdown",
   "metadata": {},
   "source": [
    "## Task\n",
    "Use the caret character in a regex to find Cal only in the beginning of the string rickyAndCal.\n",
    "\n",
    "```javascript\n",
    "let rickyAndCal = \"Cal and Ricky both like racing.\";\n",
    "let calRegex = /change/; // Change this line\n",
    "let result = calRegex.test(rickyAndCal);\n",
    "```\n",
    "\n",
    "## Tests\n",
    "- Your regex should search for the string Cal with a capital letter.\n",
    "- Your regex should not use any flags.\n",
    "- Your regex should match the string Cal at the beginning of the string.\n",
    "- Your regex should not match the string Cal in the middle of a string."
   ]
  },
  {
   "attachments": {},
   "cell_type": "markdown",
   "metadata": {},
   "source": [
    "## Solution"
   ]
  },
  {
   "cell_type": "code",
   "execution_count": null,
   "metadata": {
    "vscode": {
     "languageId": "javascript"
    }
   },
   "outputs": [],
   "source": [
    "let rickyAndCal = \"Cal and Ricky both like racing.\";\n",
    "let calRegex = /^Cal/;\n",
    "let result = calRegex.test(rickyAndCal);"
   ]
  }
 ],
 "metadata": {
  "kernelspec": {
   "display_name": "Python 3",
   "language": "python",
   "name": "python3"
  },
  "language_info": {
   "name": "python",
   "version": "3.10.6 (tags/v3.10.6:9c7b4bd, Aug  1 2022, 21:53:49) [MSC v.1932 64 bit (AMD64)]"
  },
  "orig_nbformat": 4,
  "vscode": {
   "interpreter": {
    "hash": "2af6b4b8e7dc844f17d5955b4b91766577101cdd3d4def0405c89e7c4a589cca"
   }
  }
 },
 "nbformat": 4,
 "nbformat_minor": 2
}
