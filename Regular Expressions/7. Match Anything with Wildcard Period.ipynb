{
 "cells": [
  {
   "attachments": {},
   "cell_type": "markdown",
   "metadata": {},
   "source": [
    "# Match Anything with Wildcard Period"
   ]
  },
  {
   "attachments": {},
   "cell_type": "markdown",
   "metadata": {},
   "source": [
    "Sometimes you won't (or don't need to) know the exact characters in your patterns. Thinking of all words that match, say, a misspelling would take a long time. Luckily, you can save time using the wildcard character: .\n",
    "\n",
    "The wildcard character . will match any one character. The wildcard is also called dot and period. You can use the wildcard character just like any other character in the regex. For example, if you wanted to match hug, huh, hut, and hum, you can use the regex /hu./ to match all four words.\n",
    "```javascript\n",
    "let humStr = \"I'll hum a song\";\n",
    "let hugStr = \"Bear hug\";\n",
    "let huRegex = /hu./;\n",
    "huRegex.test(humStr);\n",
    "huRegex.test(hugStr);\n",
    "```\n",
    "Both of these test calls would return true."
   ]
  },
  {
   "attachments": {},
   "cell_type": "markdown",
   "metadata": {},
   "source": [
    "## Task\n",
    "Complete the regex unRegex so that it matches the strings run, sun, fun, pun, nun, and bun. Your regex should use the wildcard character.\n",
    "\n",
    "```javascript\n",
    "let exampleStr = \"Let's have fun with regular expressions!\";\n",
    "let unRegex = /change/; // Change this line\n",
    "let result = unRegex.test(exampleStr);\n",
    "```\n",
    "\n",
    "## Tests\n",
    "- You should use the .test() method.\n",
    "- You should use the wildcard character in your regex unRegex\n",
    "- Your regex unRegex should match run in the string Let us go on a run.\n",
    "- Your regex unRegex should match sun in the string The sun is out today.\n",
    "- Your regex unRegex should match fun in the string Coding is a lot of fun.\n",
    "- Your regex unRegex should match pun in the string Seven days without a pun makes one weak.\n",
    "- Your regex unRegex should match nun in the string One takes a vow to be a nun.\n",
    "- Your regex unRegex should match bun in the string She got fired from the hot dog stand for putting her hair in a bun.\n",
    "- Your regex unRegex should not match the string There is a bug in my code.\n",
    "- Your regex unRegex should not match the string Catch me if you can."
   ]
  },
  {
   "attachments": {},
   "cell_type": "markdown",
   "metadata": {},
   "source": [
    "## Solution"
   ]
  },
  {
   "cell_type": "code",
   "execution_count": null,
   "metadata": {
    "vscode": {
     "languageId": "javascript"
    }
   },
   "outputs": [],
   "source": [
    "let exampleStr = \"Let's have fun with regular expressions!\";\n",
    "let unRegex = /.un/;\n",
    "let result = unRegex.test(exampleStr);"
   ]
  }
 ],
 "metadata": {
  "kernelspec": {
   "display_name": "Python 3",
   "language": "python",
   "name": "python3"
  },
  "language_info": {
   "name": "python",
   "version": "3.10.6 (tags/v3.10.6:9c7b4bd, Aug  1 2022, 21:53:49) [MSC v.1932 64 bit (AMD64)]"
  },
  "orig_nbformat": 4,
  "vscode": {
   "interpreter": {
    "hash": "2af6b4b8e7dc844f17d5955b4b91766577101cdd3d4def0405c89e7c4a589cca"
   }
  }
 },
 "nbformat": 4,
 "nbformat_minor": 2
}
