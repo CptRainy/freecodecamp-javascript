{
 "cells": [
  {
   "attachments": {},
   "cell_type": "markdown",
   "metadata": {},
   "source": [
    "# Find More Than the First Match\n"
   ]
  },
  {
   "attachments": {},
   "cell_type": "markdown",
   "metadata": {},
   "source": [
    "So far, you have only been able to extract or search a pattern once.\n",
    "```javascript\n",
    "let testStr = \"Repeat, Repeat, Repeat\";\n",
    "let ourRegex = /Repeat/;\n",
    "testStr.match(ourRegex);\n",
    "```\n",
    "Here match would return [\"Repeat\"].\n",
    "\n",
    "To search or extract a pattern more than once, you can use the global search flag: g.\n",
    "```javascript\n",
    "let repeatRegex = /Repeat/g;\n",
    "testStr.match(repeatRegex);\n",
    "```\n",
    "And here match returns the value [\"Repeat\", \"Repeat\", \"Repeat\"]"
   ]
  },
  {
   "attachments": {},
   "cell_type": "markdown",
   "metadata": {},
   "source": [
    "## Task\n",
    "Using the regex starRegex, find and extract both Twinkle words from the string twinkleStar.\n",
    "\n",
    "Note\n",
    "You can have multiple flags on your regex like /search/gi\n",
    "\n",
    "```javascript\n",
    "let twinkleStar = \"Twinkle, twinkle, little star\";\n",
    "let starRegex = /change/; // Change this line\n",
    "let result = twinkleStar; // Change this line\n",
    "```\n",
    "\n",
    "## Tests\n",
    "- Your regex starRegex should use the global flag g\n",
    "- Your regex starRegex should use the case insensitive flag i\n",
    "- Your match should match both occurrences of the word Twinkle\n",
    "- Your match result should have two elements in it."
   ]
  },
  {
   "attachments": {},
   "cell_type": "markdown",
   "metadata": {},
   "source": [
    "## Solution"
   ]
  },
  {
   "cell_type": "code",
   "execution_count": null,
   "metadata": {
    "vscode": {
     "languageId": "javascript"
    }
   },
   "outputs": [],
   "source": [
    "let twinkleStar = \"Twinkle, twinkle, little star\";\n",
    "let starRegex = /Twinkle/gi; \n",
    "let result = twinkleStar.match(starRegex); "
   ]
  }
 ],
 "metadata": {
  "kernelspec": {
   "display_name": "Python 3",
   "language": "python",
   "name": "python3"
  },
  "language_info": {
   "name": "python",
   "version": "3.10.6 (tags/v3.10.6:9c7b4bd, Aug  1 2022, 21:53:49) [MSC v.1932 64 bit (AMD64)]"
  },
  "orig_nbformat": 4,
  "vscode": {
   "interpreter": {
    "hash": "2af6b4b8e7dc844f17d5955b4b91766577101cdd3d4def0405c89e7c4a589cca"
   }
  }
 },
 "nbformat": 4,
 "nbformat_minor": 2
}
