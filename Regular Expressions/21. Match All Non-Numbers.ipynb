{
 "cells": [
  {
   "attachments": {},
   "cell_type": "markdown",
   "metadata": {},
   "source": [
    "# Match All Non-Numbers"
   ]
  },
  {
   "attachments": {},
   "cell_type": "markdown",
   "metadata": {},
   "source": [
    "The last challenge showed how to search for digits using the shortcut \\d with a lowercase d. You can also search for non-digits using a similar shortcut that uses an uppercase D instead.\n",
    "\n",
    "The shortcut to look for non-digit characters is \\D. This is equal to the character class [^0-9], which looks for a single character that is not a number between zero and nine."
   ]
  },
  {
   "attachments": {},
   "cell_type": "markdown",
   "metadata": {},
   "source": [
    "## Task\n",
    "Use the shorthand character class for non-digits \\D to count how many non-digits are in movie titles.\n",
    "\n",
    "```javascript\n",
    "let movieName = \"2001: A Space Odyssey\";\n",
    "let noNumRegex = /change/; // Change this line\n",
    "let result = movieName.match(noNumRegex).length;\n",
    "```\n",
    "\n",
    "## Tests\n",
    "- Your regex should use the shortcut character to match non-digit characters\n",
    "- Your regex should use the global flag.\n",
    "- Your regex should find no non-digits in the string 9.\n",
    "- Your regex should find 6 non-digits in the string Catch 22.\n",
    "- Your regex should find 11 non-digits in the string 101 Dalmatians.\n",
    "- Your regex should find 15 non-digits in the string One, Two, Three.\n",
    "- Your regex should find 12 non-digits in the string 21 Jump Street.\n",
    "- Your regex should find 17 non-digits in the string 2001: A Space Odyssey."
   ]
  },
  {
   "attachments": {},
   "cell_type": "markdown",
   "metadata": {},
   "source": [
    "## Solution"
   ]
  },
  {
   "cell_type": "code",
   "execution_count": null,
   "metadata": {
    "vscode": {
     "languageId": "javascript"
    }
   },
   "outputs": [],
   "source": [
    "let movieName = \"2001: A Space Odyssey\";\n",
    "let noNumRegex = /\\D/g;\n",
    "let result = movieName.match(noNumRegex).length;"
   ]
  }
 ],
 "metadata": {
  "kernelspec": {
   "display_name": "Python 3",
   "language": "python",
   "name": "python3"
  },
  "language_info": {
   "name": "python",
   "version": "3.10.6 (tags/v3.10.6:9c7b4bd, Aug  1 2022, 21:53:49) [MSC v.1932 64 bit (AMD64)]"
  },
  "orig_nbformat": 4,
  "vscode": {
   "interpreter": {
    "hash": "2af6b4b8e7dc844f17d5955b4b91766577101cdd3d4def0405c89e7c4a589cca"
   }
  }
 },
 "nbformat": 4,
 "nbformat_minor": 2
}
