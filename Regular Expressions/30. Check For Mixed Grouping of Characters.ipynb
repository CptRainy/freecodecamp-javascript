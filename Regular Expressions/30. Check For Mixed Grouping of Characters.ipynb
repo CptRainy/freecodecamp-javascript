{
 "cells": [
  {
   "attachments": {},
   "cell_type": "markdown",
   "metadata": {},
   "source": [
    "# Check For Mixed Grouping of Characters"
   ]
  },
  {
   "attachments": {},
   "cell_type": "markdown",
   "metadata": {},
   "source": [
    "Sometimes we want to check for groups of characters using a Regular Expression and to achieve that we use parentheses ().\n",
    "\n",
    "If you want to find either Penguin or Pumpkin in a string, you can use the following Regular Expression: /P(engu|umpk)in/g\n",
    "\n",
    "Then check whether the desired string groups are in the test string by using the test() method.\n",
    "```javascript\n",
    "let testStr = \"Pumpkin\";\n",
    "let testRegex = /P(engu|umpk)in/;\n",
    "testRegex.test(testStr);\n",
    "```\n",
    "The test method here would return true."
   ]
  },
  {
   "attachments": {},
   "cell_type": "markdown",
   "metadata": {},
   "source": [
    "## Task\n",
    "Fix the regex so that it checks for the names of Franklin Roosevelt or Eleanor Roosevelt in a case sensitive manner and it should make concessions for middle names.\n",
    "\n",
    "Then fix the code so that the regex that you have created is checked against myString and either true or false is returned depending on whether the regex matches.\n",
    "\n",
    "```javascript\n",
    "let myString = \"Eleanor Roosevelt\";\n",
    "let myRegex = /False/; // Change this line\n",
    "let result = false; // Change this line\n",
    "// After passing the challenge experiment with myString and see how the grouping works\n",
    "```\n",
    "\n",
    "## Tests\n",
    "- Your regex myRegex should return true for the string Franklin D. Roosevelt\n",
    "- Your regex myRegex should return true for the string Eleanor Roosevelt\n",
    "- Your regex myRegex should return false for the string Franklin Rosevelt\n",
    "- Your regex myRegex should return false for the string Frank Roosevelt\n",
    "- Your regex myRegex should return false for the string FranklinRoosevelt\n",
    "- Your regex myRegex should return false for the string EleanorRoosevelt\n",
    "- You should use .test() to test the regex.\n",
    "- Your result should return true."
   ]
  },
  {
   "attachments": {},
   "cell_type": "markdown",
   "metadata": {},
   "source": [
    "## Solution"
   ]
  },
  {
   "cell_type": "code",
   "execution_count": null,
   "metadata": {
    "vscode": {
     "languageId": "javascript"
    }
   },
   "outputs": [],
   "source": [
    "let myString = \"Eleanor Roosevelt\";\n",
    "let myRegex = /(Franklin|Eleanor)(\\s|.*\\s)Roosevelt$/gi; \n",
    "let result = myRegex.test(myString); "
   ]
  }
 ],
 "metadata": {
  "kernelspec": {
   "display_name": "Python 3",
   "language": "python",
   "name": "python3"
  },
  "language_info": {
   "name": "python",
   "version": "3.10.6 (tags/v3.10.6:9c7b4bd, Aug  1 2022, 21:53:49) [MSC v.1932 64 bit (AMD64)]"
  },
  "orig_nbformat": 4,
  "vscode": {
   "interpreter": {
    "hash": "2af6b4b8e7dc844f17d5955b4b91766577101cdd3d4def0405c89e7c4a589cca"
   }
  }
 },
 "nbformat": 4,
 "nbformat_minor": 2
}
