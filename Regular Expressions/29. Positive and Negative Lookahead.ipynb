{
 "cells": [
  {
   "attachments": {},
   "cell_type": "markdown",
   "metadata": {},
   "source": [
    "# Positive and Negative Lookahead"
   ]
  },
  {
   "attachments": {},
   "cell_type": "markdown",
   "metadata": {},
   "source": [
    "Lookaheads are patterns that tell JavaScript to look-ahead in your string to check for patterns further along. This can be useful when you want to search for multiple patterns over the same string.\n",
    "\n",
    "There are two kinds of lookaheads: positive lookahead and negative lookahead.\n",
    "\n",
    "A positive lookahead will look to make sure the element in the search pattern is there, but won't actually match it. A positive lookahead is used as (?=...) where the ... is the required part that is not matched.\n",
    "\n",
    "On the other hand, a negative lookahead will look to make sure the element in the search pattern is not there. A negative lookahead is used as (?!...) where the ... is the pattern that you do not want to be there. The rest of the pattern is returned if the negative lookahead part is not present.\n",
    "\n",
    "Lookaheads are a bit confusing but some examples will help.\n",
    "```javascript\n",
    "let quit = \"qu\";\n",
    "let noquit = \"qt\";\n",
    "let quRegex= /q(?=u)/;\n",
    "let qRegex = /q(?!u)/;\n",
    "quit.match(quRegex);\n",
    "noquit.match(qRegex);\n",
    "```\n",
    "Both of these match calls would return [\"q\"].\n",
    "\n",
    "A more practical use of lookaheads is to check two or more patterns in one string. Here is a (naively) simple password checker that looks for between 3 and 6 characters and at least one number:\n",
    "```javascript\n",
    "let password = \"abc123\";\n",
    "let checkPass = /(?=\\w{3,6})(?=\\D*\\d)/;\n",
    "checkPass.test(password);\\\n",
    "```"
   ]
  },
  {
   "attachments": {},
   "cell_type": "markdown",
   "metadata": {},
   "source": [
    "## Task\n",
    "Use lookaheads in the pwRegex to match passwords that are greater than 5 characters long, and have two consecutive digits.\n",
    "\n",
    "```javascript\n",
    "let sampleWord = \"astronaut\";\n",
    "let pwRegex = /change/; // Change this line\n",
    "let result = pwRegex.test(sampleWord);\n",
    "```\n",
    "\n",
    "## Tests\n",
    "- Your regex should use two positive lookaheads.\n",
    "- Your regex should not match the string astronaut\n",
    "- Your regex should not match the string banan1\n",
    "- Your regex should match the string bana12\n",
    "- Your regex should match the string abc123\n",
    "- Your regex should not match the string 12345\n",
    "- Your regex should match the string 8pass99\n",
    "- Your regex should not match the string 1a2bcde\n",
    "- Your regex should match the string astr1on11aut"
   ]
  },
  {
   "attachments": {},
   "cell_type": "markdown",
   "metadata": {},
   "source": [
    "## Solution"
   ]
  },
  {
   "cell_type": "code",
   "execution_count": null,
   "metadata": {
    "vscode": {
     "languageId": "javascript"
    }
   },
   "outputs": [],
   "source": [
    "let sampleWord = \"astronaut\";\n",
    "let pwRegex = /(?=\\w{6})(?=\\w*\\d{2})/;\n",
    "let result = pwRegex.test(sampleWord);"
   ]
  }
 ],
 "metadata": {
  "kernelspec": {
   "display_name": "Python 3",
   "language": "python",
   "name": "python3"
  },
  "language_info": {
   "name": "python",
   "version": "3.10.6 (tags/v3.10.6:9c7b4bd, Aug  1 2022, 21:53:49) [MSC v.1932 64 bit (AMD64)]"
  },
  "orig_nbformat": 4,
  "vscode": {
   "interpreter": {
    "hash": "2af6b4b8e7dc844f17d5955b4b91766577101cdd3d4def0405c89e7c4a589cca"
   }
  }
 },
 "nbformat": 4,
 "nbformat_minor": 2
}
