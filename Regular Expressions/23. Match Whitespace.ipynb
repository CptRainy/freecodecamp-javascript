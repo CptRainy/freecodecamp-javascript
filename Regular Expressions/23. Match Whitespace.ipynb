{
 "cells": [
  {
   "attachments": {},
   "cell_type": "markdown",
   "metadata": {},
   "source": [
    "# Match Whitespace"
   ]
  },
  {
   "attachments": {},
   "cell_type": "markdown",
   "metadata": {},
   "source": [
    "The challenges so far have covered matching letters of the alphabet and numbers. You can also match the whitespace or spaces between letters.\n",
    "\n",
    "You can search for whitespace using \\s, which is a lowercase s. This pattern not only matches whitespace, but also carriage return, tab, form feed, and new line characters. You can think of it as similar to the character class [ \\r\\t\\f\\n\\v].\n",
    "```javascript\n",
    "let whiteSpace = \"Whitespace. Whitespace everywhere!\"\n",
    "let spaceRegex = /\\s/g;\n",
    "whiteSpace.match(spaceRegex);\n",
    "```\n",
    "This match call would return [\" \", \" \"]."
   ]
  },
  {
   "attachments": {},
   "cell_type": "markdown",
   "metadata": {},
   "source": [
    "## Task\n",
    "Change the regex countWhiteSpace to look for multiple whitespace characters in a string.\n",
    "\n",
    "```javascript\n",
    "let sample = \"Whitespace is important in separating words\";\n",
    "let countWhiteSpace = /change/; // Change this line\n",
    "let result = sample.match(countWhiteSpace);\n",
    "```\n",
    "\n",
    "## Tests\n",
    "- Your regex should use the global flag.\n",
    "- Your regex should use the shorthand character \\s to match all whitespace characters.\n",
    "- Your regex should find eight spaces in the string Men are from Mars and women are from Venus.\n",
    "- Your regex should find three spaces in the string Space: the final frontier.\n",
    "- Your regex should find no spaces in the string MindYourPersonalSpace"
   ]
  },
  {
   "attachments": {},
   "cell_type": "markdown",
   "metadata": {},
   "source": [
    "## Solution"
   ]
  },
  {
   "cell_type": "code",
   "execution_count": null,
   "metadata": {
    "vscode": {
     "languageId": "javascript"
    }
   },
   "outputs": [],
   "source": [
    "let sample = \"Whitespace is important in separating words\";\n",
    "let countWhiteSpace = /\\s/g; \n",
    "let result = sample.match(countWhiteSpace);"
   ]
  }
 ],
 "metadata": {
  "kernelspec": {
   "display_name": "Python 3",
   "language": "python",
   "name": "python3"
  },
  "language_info": {
   "name": "python",
   "version": "3.10.6 (tags/v3.10.6:9c7b4bd, Aug  1 2022, 21:53:49) [MSC v.1932 64 bit (AMD64)]"
  },
  "orig_nbformat": 4,
  "vscode": {
   "interpreter": {
    "hash": "2af6b4b8e7dc844f17d5955b4b91766577101cdd3d4def0405c89e7c4a589cca"
   }
  }
 },
 "nbformat": 4,
 "nbformat_minor": 2
}
