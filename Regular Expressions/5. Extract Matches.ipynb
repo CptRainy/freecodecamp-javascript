{
 "cells": [
  {
   "attachments": {},
   "cell_type": "markdown",
   "metadata": {},
   "source": [
    "# Extract Matches\n"
   ]
  },
  {
   "attachments": {},
   "cell_type": "markdown",
   "metadata": {},
   "source": [
    "So far, you have only been checking if a pattern exists or not within a string. You can also extract the actual matches you found with the .match() method.\n",
    "\n",
    "To use the .match() method, apply the method on a string and pass in the regex inside the parentheses.\n",
    "\n",
    "Here's an example:\n",
    "```javascript\n",
    "\"Hello, World!\".match(/Hello/);\n",
    "let ourStr = \"Regular expressions\";\n",
    "let ourRegex = /expressions/;\n",
    "ourStr.match(ourRegex);\n",
    "```\n",
    "Here the first match would return [\"Hello\"] and the second would return [\"expressions\"].\n",
    "\n",
    "Note that the .match syntax is the \"opposite\" of the .test method you have been using thus far:\n",
    "```javascript\n",
    "'string'.match(/regex/);\n",
    "/regex/.test('string');\n",
    "```"
   ]
  },
  {
   "attachments": {},
   "cell_type": "markdown",
   "metadata": {},
   "source": [
    "## Task\n",
    "Apply the .match() method to extract the string coding.\n",
    "\n",
    "```javascript\n",
    "let extractStr = \"Extract the word 'coding' from this string.\";\n",
    "let codingRegex = /change/; // Change this line\n",
    "let result = extractStr; // Change this line\n",
    "```\n",
    "\n",
    "## Tests\n",
    "- The result should have the string coding\n",
    "- Your regex codingRegex should search for the string coding\n",
    "- You should use the .match() method."
   ]
  },
  {
   "attachments": {},
   "cell_type": "markdown",
   "metadata": {},
   "source": [
    "## Solution"
   ]
  },
  {
   "cell_type": "code",
   "execution_count": null,
   "metadata": {
    "vscode": {
     "languageId": "javascript"
    }
   },
   "outputs": [],
   "source": [
    "let extractStr = \"Extract the word 'coding' from this string.\";\n",
    "let codingRegex = /coding/; \n",
    "let result = extractStr.match(codingRegex); "
   ]
  }
 ],
 "metadata": {
  "kernelspec": {
   "display_name": "Python 3",
   "language": "python",
   "name": "python3"
  },
  "language_info": {
   "name": "python",
   "version": "3.10.6 (tags/v3.10.6:9c7b4bd, Aug  1 2022, 21:53:49) [MSC v.1932 64 bit (AMD64)]"
  },
  "orig_nbformat": 4,
  "vscode": {
   "interpreter": {
    "hash": "2af6b4b8e7dc844f17d5955b4b91766577101cdd3d4def0405c89e7c4a589cca"
   }
  }
 },
 "nbformat": 4,
 "nbformat_minor": 2
}
