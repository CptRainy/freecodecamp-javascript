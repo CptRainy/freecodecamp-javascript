{
 "cells": [
  {
   "attachments": {},
   "cell_type": "markdown",
   "metadata": {},
   "source": [
    "# Match Non-Whitespace Characters"
   ]
  },
  {
   "attachments": {},
   "cell_type": "markdown",
   "metadata": {},
   "source": [
    "You learned about searching for whitespace using \\s, with a lowercase s. You can also search for everything except whitespace.\n",
    "\n",
    "Search for non-whitespace using \\S, which is an uppercase s. This pattern will not match whitespace, carriage return, tab, form feed, and new line characters. You can think of it being similar to the character class [^ \\r\\t\\f\\n\\v].\n",
    "```javascript\n",
    "let whiteSpace = \"Whitespace. Whitespace everywhere!\"\n",
    "let nonSpaceRegex = /\\S/g;\n",
    "whiteSpace.match(nonSpaceRegex).length;\n",
    "```\n",
    "The value returned by the .length method would be 32."
   ]
  },
  {
   "attachments": {},
   "cell_type": "markdown",
   "metadata": {},
   "source": [
    "## Task\n",
    "Change the regex countNonWhiteSpace to look for multiple non-whitespace characters in a string.\n",
    "\n",
    "```javascript\n",
    "let sample = \"Whitespace is important in separating words\";\n",
    "let countNonWhiteSpace = /change/; // Change this line\n",
    "let result = sample.match(countNonWhiteSpace);\n",
    "```\n",
    "\n",
    "## Tests\n",
    "- Your regex should use the global flag.\n",
    "- Your regex should use the shorthand character \\S to match all non-whitespace characters.\n",
    "- Your regex should find 35 non-spaces in the string Men are from Mars and women are from Venus.\n",
    "- Your regex should find 23 non-spaces in the string Space: the final frontier.\n",
    "- Your regex should find 21 non-spaces in the string MindYourPersonalSpace"
   ]
  },
  {
   "attachments": {},
   "cell_type": "markdown",
   "metadata": {},
   "source": [
    "## Solution"
   ]
  },
  {
   "cell_type": "code",
   "execution_count": null,
   "metadata": {
    "vscode": {
     "languageId": "javascript"
    }
   },
   "outputs": [],
   "source": [
    "let sample = \"Whitespace is important in separating words\";\n",
    "let countNonWhiteSpace = /\\S/g; \n",
    "let result = sample.match(countNonWhiteSpace);"
   ]
  }
 ],
 "metadata": {
  "kernelspec": {
   "display_name": "Python 3",
   "language": "python",
   "name": "python3"
  },
  "language_info": {
   "name": "python",
   "version": "3.10.6 (tags/v3.10.6:9c7b4bd, Aug  1 2022, 21:53:49) [MSC v.1932 64 bit (AMD64)]"
  },
  "orig_nbformat": 4,
  "vscode": {
   "interpreter": {
    "hash": "2af6b4b8e7dc844f17d5955b4b91766577101cdd3d4def0405c89e7c4a589cca"
   }
  }
 },
 "nbformat": 4,
 "nbformat_minor": 2
}
