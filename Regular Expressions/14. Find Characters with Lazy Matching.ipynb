{
 "cells": [
  {
   "attachments": {},
   "cell_type": "markdown",
   "metadata": {},
   "source": [
    "# Find Characters with Lazy Matching"
   ]
  },
  {
   "attachments": {},
   "cell_type": "markdown",
   "metadata": {},
   "source": [
    "In regular expressions, a greedy match finds the longest possible part of a string that fits the regex pattern and returns it as a match. The alternative is called a lazy match, which finds the smallest possible part of the string that satisfies the regex pattern.\n",
    "\n",
    "You can apply the regex /t[a-z]*i/ to the string \"titanic\". This regex is basically a pattern that starts with t, ends with i, and has some letters in between.\n",
    "\n",
    "Regular expressions are by default greedy, so the match would return [\"titani\"]. It finds the largest sub-string possible to fit the pattern.\n",
    "\n",
    "However, you can use the ? character to change it to lazy matching. \"titanic\" matched against the adjusted regex of /t[a-z]*?i/ returns [\"ti\"].\n",
    "\n",
    "Note: Parsing HTML with regular expressions should be avoided, but pattern matching an HTML string with regular expressions is completely fine."
   ]
  },
  {
   "attachments": {},
   "cell_type": "markdown",
   "metadata": {},
   "source": [
    "## Task\n",
    "Fix the regex /<.*>/ to return the HTML tag <(remove this parenthesis)h1> and not the text \"<(remove this parenthesis)h1>Winter is coming</(remove this parenthesis)h1>\". Remember the wildcard . in a regular expression matches any character.\n",
    "\n",
    "```javascript\n",
    "let text = \"<h1>Winter is coming</h1>\";\n",
    "let myRegex = /<.*>/; // Change this line\n",
    "let result = text.match(myRegex);\n",
    "\n",
    "let result = chewieQuote.match(chewieRegex);\n",
    "```\n",
    "\n",
    "## Tests\n",
    "- The result variable should be an array with <(remove this parenthesis)h1> in it\n",
    "- myRegex should use lazy matching\n",
    "- myRegex should not include the string h1"
   ]
  },
  {
   "attachments": {},
   "cell_type": "markdown",
   "metadata": {},
   "source": [
    "## Solution"
   ]
  },
  {
   "cell_type": "code",
   "execution_count": null,
   "metadata": {
    "vscode": {
     "languageId": "javascript"
    }
   },
   "outputs": [],
   "source": [
    "let text = \"<h1>Winter is coming</h1>\";\n",
    "let myRegex = /<.*?>/; \n",
    "let result = text.match(myRegex);"
   ]
  }
 ],
 "metadata": {
  "kernelspec": {
   "display_name": "Python 3",
   "language": "python",
   "name": "python3"
  },
  "language_info": {
   "name": "python",
   "version": "3.10.6 (tags/v3.10.6:9c7b4bd, Aug  1 2022, 21:53:49) [MSC v.1932 64 bit (AMD64)]"
  },
  "orig_nbformat": 4,
  "vscode": {
   "interpreter": {
    "hash": "2af6b4b8e7dc844f17d5955b4b91766577101cdd3d4def0405c89e7c4a589cca"
   }
  }
 },
 "nbformat": 4,
 "nbformat_minor": 2
}
