{
 "cells": [
  {
   "attachments": {},
   "cell_type": "markdown",
   "metadata": {},
   "source": [
    "# Match Ending String Patterns"
   ]
  },
  {
   "attachments": {},
   "cell_type": "markdown",
   "metadata": {},
   "source": [
    "In the last challenge, you learned to use the caret character to search for patterns at the beginning of strings. There is also a way to search for patterns at the end of strings.\n",
    "\n",
    "You can search the end of strings using the dollar sign character $ at the end of the regex.\n",
    "```javascript\n",
    "let theEnding = \"This is a never ending story\";\n",
    "let storyRegex = /story$/;\n",
    "storyRegex.test(theEnding);\n",
    "let noEnding = \"Sometimes a story will have to end\";\n",
    "storyRegex.test(noEnding);\n",
    "```\n",
    "The first test call would return true, while the second would return false."
   ]
  },
  {
   "attachments": {},
   "cell_type": "markdown",
   "metadata": {},
   "source": [
    "## Task\n",
    "Use the anchor character ($) to match the string caboose at the end of the string caboose.\n",
    "\n",
    "```javascript\n",
    "let caboose = \"The last car on a train is the caboose\";\n",
    "let lastRegex = /change/; // Change this line\n",
    "let result = lastRegex.test(caboose);\n",
    "```\n",
    "\n",
    "## Tests\n",
    "- You should search for caboose with the dollar sign $ anchor in your regex.\n",
    "- Your regex should not use any flags.\n",
    "- You should match caboose at the end of the string The last car on a train is the caboose"
   ]
  },
  {
   "attachments": {},
   "cell_type": "markdown",
   "metadata": {},
   "source": [
    "## Solution"
   ]
  },
  {
   "cell_type": "code",
   "execution_count": null,
   "metadata": {
    "vscode": {
     "languageId": "javascript"
    }
   },
   "outputs": [],
   "source": [
    "let caboose = \"The last car on a train is the caboose\";\n",
    "let lastRegex = /caboose$/;\n",
    "let result = lastRegex.test(caboose);"
   ]
  }
 ],
 "metadata": {
  "kernelspec": {
   "display_name": "Python 3",
   "language": "python",
   "name": "python3"
  },
  "language_info": {
   "name": "python",
   "version": "3.10.6 (tags/v3.10.6:9c7b4bd, Aug  1 2022, 21:53:49) [MSC v.1932 64 bit (AMD64)]"
  },
  "orig_nbformat": 4,
  "vscode": {
   "interpreter": {
    "hash": "2af6b4b8e7dc844f17d5955b4b91766577101cdd3d4def0405c89e7c4a589cca"
   }
  }
 },
 "nbformat": 4,
 "nbformat_minor": 2
}
