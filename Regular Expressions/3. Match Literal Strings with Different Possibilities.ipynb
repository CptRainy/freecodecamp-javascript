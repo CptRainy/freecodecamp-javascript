{
 "cells": [
  {
   "attachments": {},
   "cell_type": "markdown",
   "metadata": {},
   "source": [
    "# Match Literal Strings with Different Possibilities\n"
   ]
  },
  {
   "attachments": {},
   "cell_type": "markdown",
   "metadata": {},
   "source": [
    "Using regexes like /coding/, you can look for the pattern coding in another string.\n",
    "\n",
    "This is powerful to search single strings, but it's limited to only one pattern. You can search for multiple patterns using the alternation or OR operator: |.\n",
    "\n",
    "This operator matches patterns either before or after it. For example, if you wanted to match the strings yes or no, the regex you want is /yes|no/.\n",
    "\n",
    "You can also search for more than just two patterns. You can do this by adding more patterns with more OR operators separating them, like /yes|no|maybe/."
   ]
  },
  {
   "attachments": {},
   "cell_type": "markdown",
   "metadata": {},
   "source": [
    "## Task\n",
    "Complete the regex petRegex to match the pets dog, cat, bird, or fish.\n",
    "\n",
    "```javascript\n",
    "let petString = \"James has a pet cat.\";\n",
    "let petRegex = /change/; // Change this line\n",
    "let result = petRegex.test(petString);\n",
    "```\n",
    "\n",
    "## Tests\n",
    "- Your regex petRegex should return true for the string John has a pet dog.\n",
    "- Your regex petRegex should return false for the string Emma has a pet rock.\n",
    "- Your regex petRegex should return true for the string Emma has a pet bird.\n",
    "- Your regex petRegex should return true for the string Liz has a pet cat.\n",
    "- Your regex petRegex should return false for the string Kara has a pet dolphin.\n",
    "- Your regex petRegex should return true for the string Alice has a pet fish.\n",
    "- Your regex petRegex should return false for the string Jimmy has a pet computer."
   ]
  },
  {
   "attachments": {},
   "cell_type": "markdown",
   "metadata": {},
   "source": [
    "## Solution"
   ]
  },
  {
   "cell_type": "code",
   "execution_count": null,
   "metadata": {
    "vscode": {
     "languageId": "javascript"
    }
   },
   "outputs": [],
   "source": [
    "let petString = \"James has a pet cat.\";\n",
    "let petRegex = /dog|cat|bird|fish/; \n",
    "let result = petRegex.test(petString);"
   ]
  }
 ],
 "metadata": {
  "kernelspec": {
   "display_name": "Python 3",
   "language": "python",
   "name": "python3"
  },
  "language_info": {
   "name": "python",
   "version": "3.10.6 (tags/v3.10.6:9c7b4bd, Aug  1 2022, 21:53:49) [MSC v.1932 64 bit (AMD64)]"
  },
  "orig_nbformat": 4,
  "vscode": {
   "interpreter": {
    "hash": "2af6b4b8e7dc844f17d5955b4b91766577101cdd3d4def0405c89e7c4a589cca"
   }
  }
 },
 "nbformat": 4,
 "nbformat_minor": 2
}
