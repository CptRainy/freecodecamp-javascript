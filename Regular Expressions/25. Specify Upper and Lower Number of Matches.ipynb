{
 "cells": [
  {
   "attachments": {},
   "cell_type": "markdown",
   "metadata": {},
   "source": [
    "# Specify Upper and Lower Number of Matches"
   ]
  },
  {
   "attachments": {},
   "cell_type": "markdown",
   "metadata": {},
   "source": [
    "Recall that you use the plus sign + to look for one or more characters and the asterisk * to look for zero or more characters. These are convenient but sometimes you want to match a certain range of patterns.\n",
    "\n",
    "You can specify the lower and upper number of patterns with quantity specifiers. Quantity specifiers are used with curly brackets ({ and }). You put two numbers between the curly brackets - for the lower and upper number of patterns.\n",
    "\n",
    "For example, to match only the letter a appearing between 3 and 5 times in the string ah, your regex would be /a{3,5}h/.\n",
    "```javascript\n",
    "let A4 = \"aaaah\";\n",
    "let A2 = \"aah\";\n",
    "let multipleA = /a{3,5}h/;\n",
    "multipleA.test(A4);\n",
    "multipleA.test(A2);\n",
    "```\n",
    "The first test call would return true, while the second would return false.\n",
    "\n"
   ]
  },
  {
   "attachments": {},
   "cell_type": "markdown",
   "metadata": {},
   "source": [
    "## Task\n",
    "Change the regex ohRegex to match the entire phrase Oh no only when it has 3 to 6 letter h's.\n",
    "\n",
    "```javascript\n",
    "let ohStr = \"Ohhh no\";\n",
    "let ohRegex = /change/; // Change this line\n",
    "let result = ohRegex.test(ohStr);\n",
    "```\n",
    "\n",
    "## Tests\n",
    "- Your regex should use curly brackets.\n",
    "- Your regex should not match the string Ohh no\n",
    "- Your regex should match the string Ohhh no\n",
    "- Your regex should match the string Ohhhh no\n",
    "- Your regex should match the string Ohhhhh no\n",
    "- Your regex should match the string Ohhhhhh no\n",
    "- Your regex should not match the string Ohhhhhhh no"
   ]
  },
  {
   "attachments": {},
   "cell_type": "markdown",
   "metadata": {},
   "source": [
    "## Solution"
   ]
  },
  {
   "cell_type": "code",
   "execution_count": null,
   "metadata": {
    "vscode": {
     "languageId": "javascript"
    }
   },
   "outputs": [],
   "source": [
    "let ohStr = \"Ohhh no\";\n",
    "let ohRegex = /Oh{3,6} no/;\n",
    "let result = ohRegex.test(ohStr);"
   ]
  }
 ],
 "metadata": {
  "kernelspec": {
   "display_name": "Python 3",
   "language": "python",
   "name": "python3"
  },
  "language_info": {
   "name": "python",
   "version": "3.10.6 (tags/v3.10.6:9c7b4bd, Aug  1 2022, 21:53:49) [MSC v.1932 64 bit (AMD64)]"
  },
  "orig_nbformat": 4,
  "vscode": {
   "interpreter": {
    "hash": "2af6b4b8e7dc844f17d5955b4b91766577101cdd3d4def0405c89e7c4a589cca"
   }
  }
 },
 "nbformat": 4,
 "nbformat_minor": 2
}
