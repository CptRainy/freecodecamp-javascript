{
 "cells": [
  {
   "attachments": {},
   "cell_type": "markdown",
   "metadata": {},
   "source": [
    "# Match Characters that Occur One or More Times"
   ]
  },
  {
   "attachments": {},
   "cell_type": "markdown",
   "metadata": {},
   "source": [
    "Sometimes, you need to match a character (or group of characters) that appears one or more times in a row. This means it occurs at least once, and may be repeated.\n",
    "\n",
    "You can use the + character to check if that is the case. Remember, the character or pattern has to be present consecutively. That is, the character has to repeat one after the other.\n",
    "\n",
    "For example, /a+/g would find one match in abc and return [\"a\"]. Because of the +, it would also find a single match in aabc and return [\"aa\"].\n",
    "\n",
    "If it were instead checking the string abab, it would find two matches and return [\"a\", \"a\"] because the a characters are not in a row - there is a b between them. Finally, since there is no a in the string bcd, it wouldn't find a match."
   ]
  },
  {
   "attachments": {},
   "cell_type": "markdown",
   "metadata": {},
   "source": [
    "## Task\n",
    "You want to find matches when the letter s occurs one or more times in Mississippi. Write a regex that uses the + sign.\n",
    "\n",
    "```javascript\n",
    "let difficultSpelling = \"Mississippi\";\n",
    "let myRegex = /change/; // Change this line\n",
    "let result = difficultSpelling.match(myRegex);\n",
    "```\n",
    "\n",
    "## Tests\n",
    "- Your regex myRegex should use the + sign to match one or more s characters.\n",
    "- Your regex myRegex should match 2 items.\n",
    "- The result variable should be an array with two matches of ss"
   ]
  },
  {
   "attachments": {},
   "cell_type": "markdown",
   "metadata": {},
   "source": [
    "## Solution"
   ]
  },
  {
   "cell_type": "code",
   "execution_count": null,
   "metadata": {
    "vscode": {
     "languageId": "javascript"
    }
   },
   "outputs": [],
   "source": [
    "let difficultSpelling = \"Mississippi\";\n",
    "let myRegex = /s+/gi;\n",
    "let result = difficultSpelling.match(myRegex);"
   ]
  }
 ],
 "metadata": {
  "kernelspec": {
   "display_name": "Python 3",
   "language": "python",
   "name": "python3"
  },
  "language_info": {
   "name": "python",
   "version": "3.10.6 (tags/v3.10.6:9c7b4bd, Aug  1 2022, 21:53:49) [MSC v.1932 64 bit (AMD64)]"
  },
  "orig_nbformat": 4,
  "vscode": {
   "interpreter": {
    "hash": "2af6b4b8e7dc844f17d5955b4b91766577101cdd3d4def0405c89e7c4a589cca"
   }
  }
 },
 "nbformat": 4,
 "nbformat_minor": 2
}
