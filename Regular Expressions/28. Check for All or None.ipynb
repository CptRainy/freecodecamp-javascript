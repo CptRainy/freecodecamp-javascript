{
 "cells": [
  {
   "attachments": {},
   "cell_type": "markdown",
   "metadata": {},
   "source": [
    "# Check for All or None"
   ]
  },
  {
   "attachments": {},
   "cell_type": "markdown",
   "metadata": {},
   "source": [
    "Sometimes the patterns you want to search for may have parts of it that may or may not exist. However, it may be important to check for them nonetheless.\n",
    "\n",
    "You can specify the possible existence of an element with a question mark, ?. This checks for zero or one of the preceding element. You can think of this symbol as saying the previous element is optional.\n",
    "\n",
    "For example, there are slight differences in American and British English and you can use the question mark to match both spellings.\n",
    "```javascript\n",
    "let american = \"color\";\n",
    "let british = \"colour\";\n",
    "let rainbowRegex= /colou?r/;\n",
    "rainbowRegex.test(american);\n",
    "rainbowRegex.test(british);\n",
    "```\n",
    "Both uses of the test method would return true.\n",
    "\n"
   ]
  },
  {
   "attachments": {},
   "cell_type": "markdown",
   "metadata": {},
   "source": [
    "## Task\n",
    "Change the regex favRegex to match both the American English (favorite) and the British English (favourite) version of the word.\n",
    "\n",
    "```javascript\n",
    "let favWord = \"favorite\";\n",
    "let favRegex = /change/; // Change this line\n",
    "let result = favRegex.test(favWord);\n",
    "```\n",
    "\n",
    "## Tests\n",
    "- Your regex should use the optional symbol, ?.\n",
    "- Your regex should match the string favorite\n",
    "- Your regex should match the string favourite\n",
    "- Your regex should not match the string fav"
   ]
  },
  {
   "attachments": {},
   "cell_type": "markdown",
   "metadata": {},
   "source": [
    "## Solution"
   ]
  },
  {
   "cell_type": "code",
   "execution_count": null,
   "metadata": {
    "vscode": {
     "languageId": "javascript"
    }
   },
   "outputs": [],
   "source": [
    "let favWord = \"favorite\";\n",
    "let favRegex = /favou?rite/; \n",
    "let result = favRegex.test(favWord);"
   ]
  }
 ],
 "metadata": {
  "kernelspec": {
   "display_name": "Python 3",
   "language": "python",
   "name": "python3"
  },
  "language_info": {
   "name": "python",
   "version": "3.10.6 (tags/v3.10.6:9c7b4bd, Aug  1 2022, 21:53:49) [MSC v.1932 64 bit (AMD64)]"
  },
  "orig_nbformat": 4,
  "vscode": {
   "interpreter": {
    "hash": "2af6b4b8e7dc844f17d5955b4b91766577101cdd3d4def0405c89e7c4a589cca"
   }
  }
 },
 "nbformat": 4,
 "nbformat_minor": 2
}
