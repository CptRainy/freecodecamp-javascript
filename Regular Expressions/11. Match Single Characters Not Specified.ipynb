{
 "cells": [
  {
   "attachments": {},
   "cell_type": "markdown",
   "metadata": {},
   "source": [
    "# Match Single Characters Not Specified"
   ]
  },
  {
   "attachments": {},
   "cell_type": "markdown",
   "metadata": {},
   "source": [
    "So far, you have created a set of characters that you want to match, but you could also create a set of characters that you do not want to match. These types of character sets are called negated character sets.\n",
    "\n",
    "To create a negated character set, you place a caret character (^) after the opening bracket and before the characters you do not want to match.\n",
    "\n",
    "For example, /[^aeiou]/gi matches all characters that are not a vowel. Note that characters like ., !, [, @, / and white space are matched - the negated vowel character set only excludes the vowel characters."
   ]
  },
  {
   "attachments": {},
   "cell_type": "markdown",
   "metadata": {},
   "source": [
    "## Task\n",
    "Create a single regex that matches all characters that are not a number or a vowel. Remember to include the appropriate flags in the regex.\n",
    "\n",
    "```javascript\n",
    "let quoteSample = \"3 blind mice.\";\n",
    "let myRegex = /change/; // Change this line\n",
    "let result = myRegex; // Change this line\n",
    "```\n",
    "\n",
    "## Tests\n",
    "- Your regex myRegex should match 9 items.\n",
    "- Your regex myRegex should use the global flag.\n",
    "- Your regex myRegex should use the case insensitive flag."
   ]
  },
  {
   "attachments": {},
   "cell_type": "markdown",
   "metadata": {},
   "source": [
    "## Solution"
   ]
  },
  {
   "cell_type": "code",
   "execution_count": null,
   "metadata": {
    "vscode": {
     "languageId": "javascript"
    }
   },
   "outputs": [],
   "source": [
    "let quoteSample = \"3 blind mice.\";\n",
    "let myRegex = /[^aeiou0-9]/gi; \n",
    "let result = quoteSample.match(myRegex);\n",
    "console.log(result);"
   ]
  }
 ],
 "metadata": {
  "kernelspec": {
   "display_name": "Python 3",
   "language": "python",
   "name": "python3"
  },
  "language_info": {
   "name": "python",
   "version": "3.10.6 (tags/v3.10.6:9c7b4bd, Aug  1 2022, 21:53:49) [MSC v.1932 64 bit (AMD64)]"
  },
  "orig_nbformat": 4,
  "vscode": {
   "interpreter": {
    "hash": "2af6b4b8e7dc844f17d5955b4b91766577101cdd3d4def0405c89e7c4a589cca"
   }
  }
 },
 "nbformat": 4,
 "nbformat_minor": 2
}
