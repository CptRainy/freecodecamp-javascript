{
 "cells": [
  {
   "attachments": {},
   "cell_type": "markdown",
   "metadata": {},
   "source": [
    "# Restrict Possible Usernames"
   ]
  },
  {
   "attachments": {},
   "cell_type": "markdown",
   "metadata": {},
   "source": [
    "Usernames are used everywhere on the internet. They are what give users a unique identity on their favorite sites.\n",
    "\n",
    "You need to check all the usernames in a database. Here are some simple rules that users have to follow when creating their username.\n",
    "\n",
    "1. Usernames can only use alpha-numeric characters.\n",
    "2. The only numbers in the username have to be at the end. There can be zero or more of them at the end. Username cannot start with the number.\n",
    "3. Username letters can be lowercase and uppercase.\n",
    "4. Usernames have to be at least two characters long. A two-character username can only use alphabet letters as characters."
   ]
  },
  {
   "attachments": {},
   "cell_type": "markdown",
   "metadata": {},
   "source": [
    "## Task\n",
    "Change the regex userCheck to fit the constraints listed above.\n",
    "\n",
    "```javascript\n",
    "let username = \"JackOfAllTrades\";\n",
    "let userCheck = /change/; // Change this line\n",
    "let result = userCheck.test(username);\n",
    "```\n",
    "\n",
    "## Tests\n",
    "- Your regex should match the string JACK\n",
    "- Your regex should not match the string J\n",
    "- Your regex should match the string Jo\n",
    "- Your regex should match the string Oceans11\n",
    "- Your regex should match the string RegexGuru\n",
    "- Your regex should not match the string 007\n",
    "- Your regex should not match the string 9\n",
    "- Your regex should not match the string A1\n",
    "- Your regex should not match the string BadUs3rnam3\n",
    "- Your regex should match the string Z97\n",
    "- Your regex should not match the string c57bT3\n",
    "- Your regex should match the string AB1\n",
    "- Your regex should not match the string J%4"
   ]
  },
  {
   "attachments": {},
   "cell_type": "markdown",
   "metadata": {},
   "source": [
    "## Solution"
   ]
  },
  {
   "cell_type": "code",
   "execution_count": null,
   "metadata": {
    "vscode": {
     "languageId": "javascript"
    }
   },
   "outputs": [],
   "source": [
    "let username = \"JackOfAllTrades\";\n",
    "let userCheck = /(^[A-Z][A-Z]+)\\d*$|(^[A-Z])([0-9][0-9]+$)/i;\n",
    "let result = userCheck.test(username);"
   ]
  }
 ],
 "metadata": {
  "kernelspec": {
   "display_name": "Python 3",
   "language": "python",
   "name": "python3"
  },
  "language_info": {
   "name": "python",
   "version": "3.10.6 (tags/v3.10.6:9c7b4bd, Aug  1 2022, 21:53:49) [MSC v.1932 64 bit (AMD64)]"
  },
  "orig_nbformat": 4,
  "vscode": {
   "interpreter": {
    "hash": "2af6b4b8e7dc844f17d5955b4b91766577101cdd3d4def0405c89e7c4a589cca"
   }
  }
 },
 "nbformat": 4,
 "nbformat_minor": 2
}
