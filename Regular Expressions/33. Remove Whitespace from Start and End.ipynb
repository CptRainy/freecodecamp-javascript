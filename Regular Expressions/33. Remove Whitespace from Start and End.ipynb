{
 "cells": [
  {
   "attachments": {},
   "cell_type": "markdown",
   "metadata": {},
   "source": [
    "# Remove Whitespace from Start and End"
   ]
  },
  {
   "attachments": {},
   "cell_type": "markdown",
   "metadata": {},
   "source": [
    "Sometimes whitespace characters around strings are not wanted but are there. Typical processing of strings is to remove the whitespace at the start and end of it.\n",
    "\n"
   ]
  },
  {
   "attachments": {},
   "cell_type": "markdown",
   "metadata": {},
   "source": [
    "## Task\n",
    "Write a regex and use the appropriate string methods to remove whitespace at the beginning and end of strings.\n",
    "\n",
    "Note: The String.prototype.trim() method would work here, but you'll need to complete this challenge using regular expressions.\n",
    "\n",
    "```javascript\n",
    "let hello = \"   Hello, World!  \";\n",
    "let wsRegex = /change/; // Change this line\n",
    "let result = hello; // Change this line\n",
    "```\n",
    "\n",
    "## Tests\n",
    "- result should be equal to the string Hello, World!\n",
    "- Your solution should not use the String.prototype.trim() method.\n",
    "- The result variable should not directly be set to a string\n",
    "- The value of the hello variable should not be changed."
   ]
  },
  {
   "attachments": {},
   "cell_type": "markdown",
   "metadata": {},
   "source": [
    "## Solution"
   ]
  },
  {
   "cell_type": "code",
   "execution_count": null,
   "metadata": {
    "vscode": {
     "languageId": "javascript"
    }
   },
   "outputs": [],
   "source": [
    "let str = \"one two three\";\n",
    "let fixRegex = /(one)\\s(two)\\s(three)/; \n",
    "let replaceText = \"$3 $2 $1\"; \n",
    "let result = str.replace(fixRegex, replaceText);"
   ]
  }
 ],
 "metadata": {
  "kernelspec": {
   "display_name": "Python 3",
   "language": "python",
   "name": "python3"
  },
  "language_info": {
   "name": "python",
   "version": "3.10.6 (tags/v3.10.6:9c7b4bd, Aug  1 2022, 21:53:49) [MSC v.1932 64 bit (AMD64)]"
  },
  "orig_nbformat": 4,
  "vscode": {
   "interpreter": {
    "hash": "2af6b4b8e7dc844f17d5955b4b91766577101cdd3d4def0405c89e7c4a589cca"
   }
  }
 },
 "nbformat": 4,
 "nbformat_minor": 2
}
