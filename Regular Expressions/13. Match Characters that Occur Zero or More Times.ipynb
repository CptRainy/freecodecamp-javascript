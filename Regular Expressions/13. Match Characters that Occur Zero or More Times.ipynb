{
 "cells": [
  {
   "attachments": {},
   "cell_type": "markdown",
   "metadata": {},
   "source": [
    "# Match Characters that Occur Zero or More Times"
   ]
  },
  {
   "attachments": {},
   "cell_type": "markdown",
   "metadata": {},
   "source": [
    "The last challenge used the plus + sign to look for characters that occur one or more times. There's also an option that matches characters that occur zero or more times.\n",
    "\n",
    "The character to do this is the asterisk or star: *.\n",
    "```javascript\n",
    "let soccerWord = \"gooooooooal!\";\n",
    "let gPhrase = \"gut feeling\";\n",
    "let oPhrase = \"over the moon\";\n",
    "let goRegex = /go*/;\n",
    "soccerWord.match(goRegex);\n",
    "gPhrase.match(goRegex);\n",
    "oPhrase.match(goRegex);\n",
    "```\n",
    "In order, the three match calls would return the values [\"goooooooo\"], [\"g\"], and null."
   ]
  },
  {
   "attachments": {},
   "cell_type": "markdown",
   "metadata": {},
   "source": [
    "## Task\n",
    "For this challenge, chewieQuote has been initialized as the string Aaaaaaaaaaaaaaaarrrgh! behind the scenes. Create a regex chewieRegex that uses the * character to match an uppercase A character immediately followed by zero or more lowercase a characters in chewieQuote. Your regex does not need flags or character classes, and it should not match any of the other quotes.\n",
    "\n",
    "```javascript\n",
    "// Only change code below this line\n",
    "let chewieRegex = /change/; // Change this line\n",
    "// Only change code above this line\n",
    "\n",
    "let result = chewieQuote.match(chewieRegex);\n",
    "```\n",
    "\n",
    "## Tests\n",
    "- Your regex chewieRegex should use the * character to match zero or more a characters.\n",
    "- Your regex should match the string A in chewieQuote.\n",
    "- Your regex should match the string Aaaaaaaaaaaaaaaa in chewieQuote.\n",
    "- Your regex chewieRegex should match 16 characters in chewieQuote.\n",
    "- Your regex should not match any characters in the string He made a fair move. Screaming about it can't help you.\n",
    "- Your regex should not match any characters in the string Let him have it. It's not wise to upset a Wookiee."
   ]
  },
  {
   "attachments": {},
   "cell_type": "markdown",
   "metadata": {},
   "source": [
    "## Solution"
   ]
  },
  {
   "cell_type": "code",
   "execution_count": null,
   "metadata": {
    "vscode": {
     "languageId": "javascript"
    }
   },
   "outputs": [],
   "source": [
    "let chewieRegex = /Aa*/; \n",
    "\n",
    "let result = chewieQuote.match(chewieRegex);"
   ]
  }
 ],
 "metadata": {
  "kernelspec": {
   "display_name": "Python 3",
   "language": "python",
   "name": "python3"
  },
  "language_info": {
   "name": "python",
   "version": "3.10.6 (tags/v3.10.6:9c7b4bd, Aug  1 2022, 21:53:49) [MSC v.1932 64 bit (AMD64)]"
  },
  "orig_nbformat": 4,
  "vscode": {
   "interpreter": {
    "hash": "2af6b4b8e7dc844f17d5955b4b91766577101cdd3d4def0405c89e7c4a589cca"
   }
  }
 },
 "nbformat": 4,
 "nbformat_minor": 2
}
