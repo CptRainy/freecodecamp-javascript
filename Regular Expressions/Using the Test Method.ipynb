{
 "cells": [
  {
   "attachments": {},
   "cell_type": "markdown",
   "metadata": {},
   "source": [
    "# Using the Test Method\n"
   ]
  },
  {
   "attachments": {},
   "cell_type": "markdown",
   "metadata": {},
   "source": [
    "Regular expressions are used in programming languages to match parts of strings. You create patterns to help you do that matching.\n",
    "\n",
    "If you want to find the word the in the string The dog chased the cat, you could use the following regular expression: /the/. Notice that quote marks are not required within the regular expression.\n",
    "\n",
    "JavaScript has multiple ways to use regexes. One way to test a regex is using the .test() method. The .test() method takes the regex, applies it to a string (which is placed inside the parentheses), and returns true or false if your pattern finds something or not.\n",
    "```javascript\n",
    "let testStr = \"freeCodeCamp\";\n",
    "let testRegex = /Code/;\n",
    "testRegex.test(testStr);\n",
    "```\n",
    "The test method here returns true."
   ]
  },
  {
   "attachments": {},
   "cell_type": "markdown",
   "metadata": {},
   "source": [
    "## Task\n",
    "Apply the regex myRegex on the string myString using the .test() method.\n",
    "\n",
    "```javascript\n",
    "let myString = \"Hello, World!\";\n",
    "let myRegex = /Hello/;\n",
    "let result = myRegex; // Change this line\n",
    "```\n",
    "\n",
    "## Tests\n",
    "- You should use .test() to test the regex.\n",
    "- Your result should return true."
   ]
  },
  {
   "attachments": {},
   "cell_type": "markdown",
   "metadata": {},
   "source": [
    "## Solution"
   ]
  },
  {
   "cell_type": "code",
   "execution_count": null,
   "metadata": {
    "vscode": {
     "languageId": "javascript"
    }
   },
   "outputs": [],
   "source": [
    "let myString = \"Hello, World!\";\n",
    "let myRegex = /Hello/;\n",
    "let result = myRegex.test(myString);"
   ]
  }
 ],
 "metadata": {
  "kernelspec": {
   "display_name": "Python 3",
   "language": "python",
   "name": "python3"
  },
  "language_info": {
   "name": "python",
   "version": "3.10.6 (tags/v3.10.6:9c7b4bd, Aug  1 2022, 21:53:49) [MSC v.1932 64 bit (AMD64)]"
  },
  "orig_nbformat": 4,
  "vscode": {
   "interpreter": {
    "hash": "2af6b4b8e7dc844f17d5955b4b91766577101cdd3d4def0405c89e7c4a589cca"
   }
  }
 },
 "nbformat": 4,
 "nbformat_minor": 2
}
