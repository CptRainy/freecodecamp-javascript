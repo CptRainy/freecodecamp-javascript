{
 "cells": [
  {
   "attachments": {},
   "cell_type": "markdown",
   "metadata": {},
   "source": [
    "# Match Single Character with Multiple Possibilities"
   ]
  },
  {
   "attachments": {},
   "cell_type": "markdown",
   "metadata": {},
   "source": [
    "You learned how to match literal patterns (/literal/) and wildcard character (/./). Those are the extremes of regular expressions, where one finds exact matches and the other matches everything. There are options that are a balance between the two extremes.\n",
    "\n",
    "You can search for a literal pattern with some flexibility with character classes. Character classes allow you to define a group of characters you wish to match by placing them inside square ([ and ]) brackets.\n",
    "\n",
    "For example, you want to match bag, big, and bug but not bog. You can create the regex /b[aiu]g/ to do this. The [aiu] is the character class that will only match the characters a, i, or u.\n",
    "```javascript\n",
    "let bigStr = \"big\";\n",
    "let bagStr = \"bag\";\n",
    "let bugStr = \"bug\";\n",
    "let bogStr = \"bog\";\n",
    "let bgRegex = /b[aiu]g/;\n",
    "bigStr.match(bgRegex);\n",
    "bagStr.match(bgRegex);\n",
    "bugStr.match(bgRegex);\n",
    "bogStr.match(bgRegex);\n",
    "```\n",
    "In order, the four match calls would return the values [\"big\"], [\"bag\"], [\"bug\"], and null."
   ]
  },
  {
   "attachments": {},
   "cell_type": "markdown",
   "metadata": {},
   "source": [
    "## Task\n",
    "Use a character class with vowels (a, e, i, o, u) in your regex vowelRegex to find all the vowels in the string quoteSample.\n",
    "\n",
    "Note: Be sure to match both upper- and lowercase vowels.\n",
    "\n",
    "```javascript\n",
    "let quoteSample = \"Beware of bugs in the above code; I have only proved it correct, not tried it.\";\n",
    "let vowelRegex = /change/; // Change this line\n",
    "let result = vowelRegex; // Change this line\n",
    "```\n",
    "\n",
    "## Tests\n",
    "- You should find all 25 vowels.\n",
    "- Your regex vowelRegex should use a character class.\n",
    "- Your regex vowelRegex should use the global flag.\n",
    "- Your regex vowelRegex should use the case insensitive flag.\n",
    "- Your regex should not match any consonants."
   ]
  },
  {
   "attachments": {},
   "cell_type": "markdown",
   "metadata": {},
   "source": [
    "## Solution"
   ]
  },
  {
   "cell_type": "code",
   "execution_count": null,
   "metadata": {
    "vscode": {
     "languageId": "javascript"
    }
   },
   "outputs": [],
   "source": [
    "let quoteSample = \"Beware of bugs in the above code; I have only proved it correct, not tried it.\";\n",
    "let vowelRegex = /[aeiou]/gi; \n",
    "let result = quoteSample.match(vowelRegex);"
   ]
  }
 ],
 "metadata": {
  "kernelspec": {
   "display_name": "Python 3",
   "language": "python",
   "name": "python3"
  },
  "language_info": {
   "name": "python",
   "version": "3.10.6 (tags/v3.10.6:9c7b4bd, Aug  1 2022, 21:53:49) [MSC v.1932 64 bit (AMD64)]"
  },
  "orig_nbformat": 4,
  "vscode": {
   "interpreter": {
    "hash": "2af6b4b8e7dc844f17d5955b4b91766577101cdd3d4def0405c89e7c4a589cca"
   }
  }
 },
 "nbformat": 4,
 "nbformat_minor": 2
}
