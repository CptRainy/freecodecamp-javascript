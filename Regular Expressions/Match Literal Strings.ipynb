{
 "cells": [
  {
   "attachments": {},
   "cell_type": "markdown",
   "metadata": {},
   "source": [
    "# Match Literal Strings\n"
   ]
  },
  {
   "attachments": {},
   "cell_type": "markdown",
   "metadata": {},
   "source": [
    "In the last challenge, you searched for the word Hello using the regular expression /Hello/. That regex searched for a literal match of the string Hello. Here's another example searching for a literal match of the string Kevin:\n",
    "```javascript\n",
    "let testStr = \"Hello, my name is Kevin.\";\n",
    "let testRegex = /Kevin/;\n",
    "testRegex.test(testStr);\n",
    "```\n",
    "This test call will return true.\n",
    "\n",
    "Any other forms of Kevin will not match. For example, the regex /Kevin/ will not match kevin or KEVIN.\n",
    "```javascript\n",
    "let wrongRegex = /kevin/;\n",
    "wrongRegex.test(testStr);\n",
    "```\n",
    "This test call will return false.\n",
    "\n",
    "A future challenge will show how to match those other forms as well."
   ]
  },
  {
   "attachments": {},
   "cell_type": "markdown",
   "metadata": {},
   "source": [
    "## Task\n",
    "Complete the regex waldoRegex to find \"Waldo\" in the string waldoIsHiding with a literal match.\n",
    "\n",
    "```javascript\n",
    "let waldoIsHiding = \"Somewhere Waldo is hiding in this text.\";\n",
    "let waldoRegex = /search/; // Change this line\n",
    "let result = waldoRegex.test(waldoIsHiding);\n",
    "```\n",
    "\n",
    "## Tests\n",
    "- Your regex waldoRegex should find the string Waldo\n",
    "- Your regex waldoRegex should not search for anything else.\n",
    "- You should perform a literal string match with your regex."
   ]
  },
  {
   "attachments": {},
   "cell_type": "markdown",
   "metadata": {},
   "source": [
    "## Solution"
   ]
  },
  {
   "cell_type": "code",
   "execution_count": null,
   "metadata": {
    "vscode": {
     "languageId": "javascript"
    }
   },
   "outputs": [],
   "source": [
    "let waldoIsHiding = \"Somewhere Waldo is hiding in this text.\";\n",
    "let waldoRegex = /Waldo/;\n",
    "let result = waldoRegex.test(waldoIsHiding);"
   ]
  }
 ],
 "metadata": {
  "kernelspec": {
   "display_name": "Python 3",
   "language": "python",
   "name": "python3"
  },
  "language_info": {
   "name": "python",
   "version": "3.10.6 (tags/v3.10.6:9c7b4bd, Aug  1 2022, 21:53:49) [MSC v.1932 64 bit (AMD64)]"
  },
  "orig_nbformat": 4,
  "vscode": {
   "interpreter": {
    "hash": "2af6b4b8e7dc844f17d5955b4b91766577101cdd3d4def0405c89e7c4a589cca"
   }
  }
 },
 "nbformat": 4,
 "nbformat_minor": 2
}
