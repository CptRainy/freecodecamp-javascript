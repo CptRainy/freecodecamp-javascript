{
 "cells": [
  {
   "attachments": {},
   "cell_type": "markdown",
   "metadata": {},
   "source": [
    "# Match Everything But Letters and Numbers"
   ]
  },
  {
   "attachments": {},
   "cell_type": "markdown",
   "metadata": {},
   "source": [
    "You've learned that you can use a shortcut to match alphanumerics [A-Za-z0-9_] using \\w. A natural pattern you might want to search for is the opposite of alphanumerics.\n",
    "\n",
    "You can search for the opposite of the \\w with \\W. Note, the opposite pattern uses a capital letter. This shortcut is the same as [^A-Za-z0-9_].\n",
    "```javascript\n",
    "let shortHand = /\\W/;\n",
    "let numbers = \"42%\";\n",
    "let sentence = \"Coding!\";\n",
    "numbers.match(shortHand);\n",
    "sentence.match(shortHand);\n",
    "```\n",
    "The first match call would return the value [\"%\"] and the second would return [\"!\"]."
   ]
  },
  {
   "attachments": {},
   "cell_type": "markdown",
   "metadata": {},
   "source": [
    "## Task\n",
    "Use the shorthand character class \\W to count the number of non-alphanumeric characters in various quotes and strings.\n",
    "\n",
    "```javascript\n",
    "let quoteSample = \"The five boxing wizards jump quickly.\";\n",
    "let nonAlphabetRegex = /change/; // Change this line\n",
    "let result = quoteSample.match(nonAlphabetRegex).length;\n",
    "```\n",
    "\n",
    "## Tests\n",
    "- Your regex should use the global flag.\n",
    "- Your regex should find 6 non-alphanumeric characters in the string The five boxing wizards jump quickly..\n",
    "- Your regex should use the shorthand character to match characters which are non-alphanumeric.\n",
    "- Your regex should find 8 non-alphanumeric characters in the string Pack my box with five dozen liquor jugs.\n",
    "- Your regex should find 6 non-alphanumeric characters in the string How vexingly quick daft zebras jump!\n",
    "- Your regex should find 12 non-alphanumeric characters in the string 123 456 7890 ABC def GHI jkl MNO pqr STU vwx YZ."
   ]
  },
  {
   "attachments": {},
   "cell_type": "markdown",
   "metadata": {},
   "source": [
    "## Solution"
   ]
  },
  {
   "cell_type": "code",
   "execution_count": null,
   "metadata": {
    "vscode": {
     "languageId": "javascript"
    }
   },
   "outputs": [],
   "source": [
    "let quoteSample = \"The five boxing wizards jump quickly.\";\n",
    "let nonAlphabetRegex = /\\W/g;\n",
    "let result = quoteSample.match(nonAlphabetRegex).length;"
   ]
  }
 ],
 "metadata": {
  "kernelspec": {
   "display_name": "Python 3",
   "language": "python",
   "name": "python3"
  },
  "language_info": {
   "name": "python",
   "version": "3.10.6 (tags/v3.10.6:9c7b4bd, Aug  1 2022, 21:53:49) [MSC v.1932 64 bit (AMD64)]"
  },
  "orig_nbformat": 4,
  "vscode": {
   "interpreter": {
    "hash": "2af6b4b8e7dc844f17d5955b4b91766577101cdd3d4def0405c89e7c4a589cca"
   }
  }
 },
 "nbformat": 4,
 "nbformat_minor": 2
}
