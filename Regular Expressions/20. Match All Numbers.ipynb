{
 "cells": [
  {
   "attachments": {},
   "cell_type": "markdown",
   "metadata": {},
   "source": [
    "# Match All Numbers"
   ]
  },
  {
   "attachments": {},
   "cell_type": "markdown",
   "metadata": {},
   "source": [
    "You've learned shortcuts for common string patterns like alphanumerics. Another common pattern is looking for just digits or numbers.\n",
    "\n",
    "The shortcut to look for digit characters is \\d, with a lowercase d. This is equal to the character class [0-9], which looks for a single character of any number between zero and nine."
   ]
  },
  {
   "attachments": {},
   "cell_type": "markdown",
   "metadata": {},
   "source": [
    "## Task\n",
    "Use the shorthand character class \\d to count how many digits are in movie titles. Written out numbers (\"six\" instead of 6) do not count.\n",
    "\n",
    "```javascript\n",
    "let movieName = \"2001: A Space Odyssey\";\n",
    "let numRegex = /change/; // Change this line\n",
    "let result = movieName.match(numRegex).length;\n",
    "```\n",
    "\n",
    "## Tests\n",
    "- Your regex should use the shortcut character to match digit characters\n",
    "- Your regex should use the global flag.\n",
    "- Your regex should find 1 digit in the string 9.\n",
    "- Your regex should find 2 digits in the string Catch 22.\n",
    "- Your regex should find 3 digits in the string 101 Dalmatians.\n",
    "- Your regex should find no digits in the string One, Two, Three.\n",
    "- Your regex should find 2 digits in the string 21 Jump Street.\n",
    "- Your regex should find 4 digits in the string 2001: A Space Odyssey."
   ]
  },
  {
   "attachments": {},
   "cell_type": "markdown",
   "metadata": {},
   "source": [
    "## Solution"
   ]
  },
  {
   "cell_type": "code",
   "execution_count": null,
   "metadata": {
    "vscode": {
     "languageId": "javascript"
    }
   },
   "outputs": [],
   "source": [
    "let movieName = \"2001: A Space Odyssey\";\n",
    "let numRegex = /\\d/g;\n",
    "let result = movieName.match(numRegex).length;"
   ]
  }
 ],
 "metadata": {
  "kernelspec": {
   "display_name": "Python 3",
   "language": "python",
   "name": "python3"
  },
  "language_info": {
   "name": "python",
   "version": "3.10.6 (tags/v3.10.6:9c7b4bd, Aug  1 2022, 21:53:49) [MSC v.1932 64 bit (AMD64)]"
  },
  "orig_nbformat": 4,
  "vscode": {
   "interpreter": {
    "hash": "2af6b4b8e7dc844f17d5955b4b91766577101cdd3d4def0405c89e7c4a589cca"
   }
  }
 },
 "nbformat": 4,
 "nbformat_minor": 2
}
