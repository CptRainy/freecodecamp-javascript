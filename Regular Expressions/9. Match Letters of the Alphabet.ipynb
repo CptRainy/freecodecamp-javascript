{
 "cells": [
  {
   "attachments": {},
   "cell_type": "markdown",
   "metadata": {},
   "source": [
    "# Match Letters of the Alphabet"
   ]
  },
  {
   "attachments": {},
   "cell_type": "markdown",
   "metadata": {},
   "source": [
    "You saw how you can use character sets to specify a group of characters to match, but that's a lot of typing when you need to match a large range of characters (for example, every letter in the alphabet). Fortunately, there is a built-in feature that makes this short and simple.\n",
    "\n",
    "Inside a character set, you can define a range of characters to match using a hyphen character: -.\n",
    "\n",
    "For example, to match lowercase letters a through e you would use [a-e].\n",
    "```javascript\n",
    "let catStr = \"cat\";\n",
    "let batStr = \"bat\";\n",
    "let matStr = \"mat\";\n",
    "let bgRegex = /[a-e]at/;\n",
    "catStr.match(bgRegex);\n",
    "batStr.match(bgRegex);\n",
    "matStr.match(bgRegex);\n",
    "```\n",
    "In order, the three match calls would return the values [\"cat\"], [\"bat\"], and null."
   ]
  },
  {
   "attachments": {},
   "cell_type": "markdown",
   "metadata": {},
   "source": [
    "## Task\n",
    "Match all the letters in the string quoteSample.\n",
    "\n",
    "Note: Be sure to match both uppercase and lowercase letters.\n",
    "\n",
    "```javascript\n",
    "let quoteSample = \"The quick brown fox jumps over the lazy dog.\";\n",
    "let alphabetRegex = /change/; // Change this line\n",
    "let result = alphabetRegex; // Change this line\n",
    "```\n",
    "\n",
    "## Tests\n",
    "- Your regex alphabetRegex should match 35 items.\n",
    "- Your regex alphabetRegex should use the global flag.\n",
    "- Your regex alphabetRegex should use the case insensitive flag."
   ]
  },
  {
   "attachments": {},
   "cell_type": "markdown",
   "metadata": {},
   "source": [
    "## Solution"
   ]
  },
  {
   "cell_type": "code",
   "execution_count": null,
   "metadata": {
    "vscode": {
     "languageId": "javascript"
    }
   },
   "outputs": [],
   "source": [
    "let quoteSample = \"The quick brown fox jumps over the lazy dog.\";\n",
    "let alphabetRegex = /[a-z]/gi; \n",
    "let result = quoteSample.match(alphabetRegex);"
   ]
  }
 ],
 "metadata": {
  "kernelspec": {
   "display_name": "Python 3",
   "language": "python",
   "name": "python3"
  },
  "language_info": {
   "name": "python",
   "version": "3.10.6 (tags/v3.10.6:9c7b4bd, Aug  1 2022, 21:53:49) [MSC v.1932 64 bit (AMD64)]"
  },
  "orig_nbformat": 4,
  "vscode": {
   "interpreter": {
    "hash": "2af6b4b8e7dc844f17d5955b4b91766577101cdd3d4def0405c89e7c4a589cca"
   }
  }
 },
 "nbformat": 4,
 "nbformat_minor": 2
}
