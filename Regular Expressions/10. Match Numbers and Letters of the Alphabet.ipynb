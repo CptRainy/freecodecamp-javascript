{
 "cells": [
  {
   "attachments": {},
   "cell_type": "markdown",
   "metadata": {},
   "source": [
    "# Match Numbers and Letters of the Alphabet"
   ]
  },
  {
   "attachments": {},
   "cell_type": "markdown",
   "metadata": {},
   "source": [
    "Using the hyphen (-) to match a range of characters is not limited to letters. It also works to match a range of numbers.\n",
    "\n",
    "For example, /[0-5]/ matches any number between 0 and 5, including the 0 and 5.\n",
    "\n",
    "Also, it is possible to combine a range of letters and numbers in a single character set.\n",
    "\n",
    "```javascript\n",
    "let jennyStr = \"Jenny8675309\";\n",
    "let myRegex = /[a-z0-9]/ig;\n",
    "jennyStr.match(myRegex);\n",
    "```"
   ]
  },
  {
   "attachments": {},
   "cell_type": "markdown",
   "metadata": {},
   "source": [
    "## Task\n",
    "Create a single regex that matches a range of letters between h and s, and a range of numbers between 2 and 6. Remember to include the appropriate flags in the regex.\n",
    "\n",
    "```javascript\n",
    "let quoteSample = \"Blueberry 3.141592653s are delicious.\";\n",
    "let myRegex = /change/; // Change this line\n",
    "let result = myRegex; // Change this line\n",
    "```\n",
    "\n",
    "## Tests\n",
    "- Your regex myRegex should match 17 items.\n",
    "- Your regex myRegex should use the global flag.\n",
    "- Your regex myRegex should use the case insensitive flag."
   ]
  },
  {
   "attachments": {},
   "cell_type": "markdown",
   "metadata": {},
   "source": [
    "## Solution"
   ]
  },
  {
   "cell_type": "code",
   "execution_count": null,
   "metadata": {
    "vscode": {
     "languageId": "javascript"
    }
   },
   "outputs": [],
   "source": [
    "let quoteSample = \"Blueberry 3.141592653s are delicious.\";\n",
    "let myRegex = /[h-s2-6]/gi; \n",
    "let result = quoteSample.match(myRegex); "
   ]
  }
 ],
 "metadata": {
  "kernelspec": {
   "display_name": "Python 3",
   "language": "python",
   "name": "python3"
  },
  "language_info": {
   "name": "python",
   "version": "3.10.6 (tags/v3.10.6:9c7b4bd, Aug  1 2022, 21:53:49) [MSC v.1932 64 bit (AMD64)]"
  },
  "orig_nbformat": 4,
  "vscode": {
   "interpreter": {
    "hash": "2af6b4b8e7dc844f17d5955b4b91766577101cdd3d4def0405c89e7c4a589cca"
   }
  }
 },
 "nbformat": 4,
 "nbformat_minor": 2
}
