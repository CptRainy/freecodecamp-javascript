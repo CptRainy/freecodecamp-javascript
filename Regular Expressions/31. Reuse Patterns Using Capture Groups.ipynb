{
 "cells": [
  {
   "attachments": {},
   "cell_type": "markdown",
   "metadata": {},
   "source": [
    "# Reuse Patterns Using Capture Groups"
   ]
  },
  {
   "attachments": {},
   "cell_type": "markdown",
   "metadata": {},
   "source": [
    "Say you want to match a word that occurs multiple times like below.\n",
    "```javascript\n",
    "let repeatStr = \"row row row your boat\";\n",
    "```\n",
    "You could use /row row row/, but what if you don't know the specific word repeated? Capture groups can be used to find repeated substrings.\n",
    "\n",
    "Capture groups are constructed by enclosing the regex pattern to be captured in parentheses. In this case, the goal is to capture a word consisting of alphanumeric characters so the capture group will be \\w+ enclosed by parentheses: /(\\w+)/.\n",
    "\n",
    "The substring matched by the group is saved to a temporary \"variable\", which can be accessed within the same regex using a backslash and the number of the capture group (e.g. \\1). Capture groups are automatically numbered by the position of their opening parentheses (left to right), starting at 1.\n",
    "\n",
    "The example below matches a word that occurs thrice separated by spaces:\n",
    "```javascript\n",
    "let repeatRegex = /(\\w+) \\1 \\1/;\n",
    "repeatRegex.test(repeatStr); // Returns true\n",
    "repeatStr.match(repeatRegex); // Returns [\"row row row\", \"row\"]\n",
    "```\n",
    "Using the .match() method on a string will return an array with the matched substring, along with its captured groups."
   ]
  },
  {
   "attachments": {},
   "cell_type": "markdown",
   "metadata": {},
   "source": [
    "## Task\n",
    "Use capture groups in reRegex to match a string that consists of only the same number repeated exactly three times separated by single spaces.\n",
    "\n",
    "```javascript\n",
    "let repeatNum = \"42 42 42\";\n",
    "let reRegex = /change/; // Change this line\n",
    "let result = reRegex.test(repeatNum);\n",
    "```\n",
    "\n",
    "## Tests\n",
    "- Your regex should use the shorthand character class for digits.\n",
    "- Your regex should reuse a capture group twice.\n",
    "- Your regex should match the string 42 42 42.\n",
    "- Your regex should match the string 100 100 100.\n",
    "- Your regex should not match the string 42 42 42 42.\n",
    "- Your regex should not match the string 42 42.\n",
    "- Your regex should not match the string 101 102 103.\n",
    "- Your regex should not match the string 1 2 3.\n",
    "- Your regex should match the string 10 10 10."
   ]
  },
  {
   "attachments": {},
   "cell_type": "markdown",
   "metadata": {},
   "source": [
    "## Solution"
   ]
  },
  {
   "cell_type": "code",
   "execution_count": null,
   "metadata": {
    "vscode": {
     "languageId": "javascript"
    }
   },
   "outputs": [],
   "source": [
    "let repeatNum = \"42 42 42\";\n",
    "let reRegex = /^(\\d+) \\1 \\1$/;\n",
    "let result = reRegex.test(repeatNum);"
   ]
  }
 ],
 "metadata": {
  "kernelspec": {
   "display_name": "Python 3",
   "language": "python",
   "name": "python3"
  },
  "language_info": {
   "name": "python",
   "version": "3.10.6 (tags/v3.10.6:9c7b4bd, Aug  1 2022, 21:53:49) [MSC v.1932 64 bit (AMD64)]"
  },
  "orig_nbformat": 4,
  "vscode": {
   "interpreter": {
    "hash": "2af6b4b8e7dc844f17d5955b4b91766577101cdd3d4def0405c89e7c4a589cca"
   }
  }
 },
 "nbformat": 4,
 "nbformat_minor": 2
}
