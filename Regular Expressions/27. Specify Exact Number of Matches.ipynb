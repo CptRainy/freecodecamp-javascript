{
 "cells": [
  {
   "attachments": {},
   "cell_type": "markdown",
   "metadata": {},
   "source": [
    "# Specify Exact Number of Matches"
   ]
  },
  {
   "attachments": {},
   "cell_type": "markdown",
   "metadata": {},
   "source": [
    "You can specify the lower and upper number of patterns with quantity specifiers using curly brackets. Sometimes you only want a specific number of matches.\n",
    "\n",
    "To specify a certain number of patterns, just have that one number between the curly brackets.\n",
    "\n",
    "For example, to match only the word hah with the letter a 3 times, your regex would be /ha{3}h/.\n",
    "```javascript\n",
    "let A4 = \"haaaah\";\n",
    "let A3 = \"haaah\";\n",
    "let A100 = \"h\" + \"a\".repeat(100) + \"h\";\n",
    "let multipleHA = /ha{3}h/;\n",
    "multipleHA.test(A4);\n",
    "multipleHA.test(A3);\n",
    "multipleHA.test(A100);\n",
    "```\n",
    "In order, the three test calls would return false, true, and false."
   ]
  },
  {
   "attachments": {},
   "cell_type": "markdown",
   "metadata": {},
   "source": [
    "## Task\n",
    "Change the regex timRegex to match the word Timber only when it has four letter m's.\n",
    "\n",
    "```javascript\n",
    "let timStr = \"Timmmmber\";\n",
    "let timRegex = /change/; // Change this line\n",
    "let result = timRegex.test(timStr);\n",
    "```\n",
    "\n",
    "## Tests\n",
    "- Your regex should use curly brackets.\n",
    "- Your regex should not match the string Timber\n",
    "- Your regex should not match the string Timmber\n",
    "- Your regex should not match the string Timmmber\n",
    "- Your regex should match the string Timmmmber\n",
    "- Your regex should not match the string Timber with 30 m's in it.."
   ]
  },
  {
   "attachments": {},
   "cell_type": "markdown",
   "metadata": {},
   "source": [
    "## Solution"
   ]
  },
  {
   "cell_type": "code",
   "execution_count": null,
   "metadata": {
    "vscode": {
     "languageId": "javascript"
    }
   },
   "outputs": [],
   "source": [
    "let timStr = \"Timmmmber\";\n",
    "let timRegex = /Tim{4}ber/;\n",
    "let result = timRegex.test(timStr);"
   ]
  }
 ],
 "metadata": {
  "kernelspec": {
   "display_name": "Python 3",
   "language": "python",
   "name": "python3"
  },
  "language_info": {
   "name": "python",
   "version": "3.10.6 (tags/v3.10.6:9c7b4bd, Aug  1 2022, 21:53:49) [MSC v.1932 64 bit (AMD64)]"
  },
  "orig_nbformat": 4,
  "vscode": {
   "interpreter": {
    "hash": "2af6b4b8e7dc844f17d5955b4b91766577101cdd3d4def0405c89e7c4a589cca"
   }
  }
 },
 "nbformat": 4,
 "nbformat_minor": 2
}
