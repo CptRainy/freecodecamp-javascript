{
 "cells": [
  {
   "attachments": {},
   "cell_type": "markdown",
   "metadata": {},
   "source": [
    "# Catch Mixed Usage of Single and Double Quotes\n"
   ]
  },
  {
   "attachments": {},
   "cell_type": "markdown",
   "metadata": {},
   "source": [
    "JavaScript allows the use of both single (') and double (\") quotes to declare a string. Deciding which one to use generally comes down to personal preference, with some exceptions.\n",
    "\n",
    "Having two choices is great when a string has contractions or another piece of text that's in quotes. Just be careful that you don't close the string too early, which causes a syntax error.\n",
    "\n",
    "Here are some examples of mixing quotes:\n",
    "```javascript\n",
    "const grouchoContraction = \"I've had a perfectly wonderful evening, but this wasn't it.\";\n",
    "const quoteInString = \"Groucho Marx once said 'Quote me as saying I was mis-quoted.'\";\n",
    "const uhOhGroucho = 'I've had a perfectly wonderful evening, but this wasn't it.';\n",
    "```\n",
    "The first two are correct, but the third is incorrect.\n",
    "\n",
    "Of course, it is okay to use only one style of quotes. You can escape the quotes inside the string by using the backslash (\\) escape character:\n",
    "```javascript\n",
    "const allSameQuotes = 'I\\'ve had a perfectly wonderful evening, but this wasn\\'t it.';\n",
    "```"
   ]
  },
  {
   "attachments": {},
   "cell_type": "markdown",
   "metadata": {},
   "source": [
    "## Task\n",
    "Fix the string so it either uses different quotes for the href value, or escape the existing ones. Keep the double quote marks around the entire string.\n",
    "\n",
    "```javascript\n",
    "let innerHtml = \"<p>Click here to <a href=\"#Home\">return home</a></p>\";\n",
    "console.log(innerHtml);\n",
    "```\n",
    "\n",
    "## Tests\n",
    "- Your code should fix the quotes around the href value #Home by either changing or escaping them.\n",
    "- Your code should keep the double quotes around the entire string."
   ]
  },
  {
   "attachments": {},
   "cell_type": "markdown",
   "metadata": {},
   "source": [
    "## Solution"
   ]
  },
  {
   "cell_type": "code",
   "execution_count": null,
   "metadata": {
    "vscode": {
     "languageId": "javascript"
    }
   },
   "outputs": [],
   "source": [
    "let innerHtml = \"<p>Click here to <a href=\\\"#Home\\\">return home</a></p>\";\n",
    "console.log(innerHtml);"
   ]
  }
 ],
 "metadata": {
  "kernelspec": {
   "display_name": "Python 3",
   "language": "python",
   "name": "python3"
  },
  "language_info": {
   "name": "python",
   "version": "3.10.6 (tags/v3.10.6:9c7b4bd, Aug  1 2022, 21:53:49) [MSC v.1932 64 bit (AMD64)]"
  },
  "orig_nbformat": 4,
  "vscode": {
   "interpreter": {
    "hash": "2af6b4b8e7dc844f17d5955b4b91766577101cdd3d4def0405c89e7c4a589cca"
   }
  }
 },
 "nbformat": 4,
 "nbformat_minor": 2
}
