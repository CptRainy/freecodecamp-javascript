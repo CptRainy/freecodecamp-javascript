{
 "cells": [
  {
   "attachments": {},
   "cell_type": "markdown",
   "metadata": {},
   "source": [
    "# Catch Missing Open and Closing Parenthesis After a Function Call"
   ]
  },
  {
   "attachments": {},
   "cell_type": "markdown",
   "metadata": {},
   "source": [
    "When a function or method doesn't take any arguments, you may forget to include the (empty) opening and closing parentheses when calling it. Often times the result of a function call is saved in a variable for other use in your code. This error can be detected by logging variable values (or their types) to the console and seeing that one is set to a function reference, instead of the expected value the function returns.\n",
    "\n",
    "The variables in the following example are different:\n",
    "```javascript\n",
    "function myFunction() {\n",
    "  return \"You rock!\";\n",
    "}\n",
    "let varOne = myFunction;\n",
    "let varTwo = myFunction();\n",
    "```\n",
    "Here varOne is the function myFunction, and varTwo is the string You rock!."
   ]
  },
  {
   "attachments": {},
   "cell_type": "markdown",
   "metadata": {},
   "source": [
    "## Task\n",
    "Fix the code so the variable result is set to the value returned from calling the function getNine.\n",
    "\n",
    "```javascript\n",
    "function getNine() {\n",
    "  let x = 6;\n",
    "  let y = 3;\n",
    "  return x + y;\n",
    "}\n",
    "\n",
    "let result = getNine;\n",
    "console.log(result);\n",
    "```\n",
    "\n",
    "## Tests\n",
    "- Your code should fix the variable result so it is set to the number that the function getNine returns.\n",
    "- Your code should call the getNine function."
   ]
  },
  {
   "attachments": {},
   "cell_type": "markdown",
   "metadata": {},
   "source": [
    "## Solution"
   ]
  },
  {
   "cell_type": "code",
   "execution_count": null,
   "metadata": {
    "vscode": {
     "languageId": "javascript"
    }
   },
   "outputs": [],
   "source": [
    "function getNine() {\n",
    "  let x = 6;\n",
    "  let y = 3;\n",
    "  return x + y;\n",
    "}\n",
    "\n",
    "let result = getNine();\n",
    "console.log(result);"
   ]
  }
 ],
 "metadata": {
  "kernelspec": {
   "display_name": "Python 3",
   "language": "python",
   "name": "python3"
  },
  "language_info": {
   "name": "python",
   "version": "3.10.6 (tags/v3.10.6:9c7b4bd, Aug  1 2022, 21:53:49) [MSC v.1932 64 bit (AMD64)]"
  },
  "orig_nbformat": 4,
  "vscode": {
   "interpreter": {
    "hash": "2af6b4b8e7dc844f17d5955b4b91766577101cdd3d4def0405c89e7c4a589cca"
   }
  }
 },
 "nbformat": 4,
 "nbformat_minor": 2
}
