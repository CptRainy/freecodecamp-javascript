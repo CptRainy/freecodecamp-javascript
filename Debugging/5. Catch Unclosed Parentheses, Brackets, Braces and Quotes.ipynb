{
 "cells": [
  {
   "attachments": {},
   "cell_type": "markdown",
   "metadata": {},
   "source": [
    "# Catch Unclosed Parentheses, Brackets, Braces and Quotes\n",
    "\n"
   ]
  },
  {
   "attachments": {},
   "cell_type": "markdown",
   "metadata": {},
   "source": [
    "Another syntax error to be aware of is that all opening parentheses, brackets, curly braces, and quotes have a closing pair. Forgetting a piece tends to happen when you're editing existing code and inserting items with one of the pair types. Also, take care when nesting code blocks into others, such as adding a callback function as an argument to a method.\n",
    "\n",
    "One way to avoid this mistake is as soon as the opening character is typed, immediately include the closing match, then move the cursor back between them and continue coding. Fortunately, most modern code editors generate the second half of the pair automatically."
   ]
  },
  {
   "attachments": {},
   "cell_type": "markdown",
   "metadata": {},
   "source": [
    "## Task\n",
    "Fix the two pair errors in the code.\n",
    "\n",
    "```javascript\n",
    "let myArray = [1, 2, 3;\n",
    "let arraySum = myArray.reduce((previous, current =>  previous + current);\n",
    "console.log(`Sum of array values is: ${arraySum}`);\n",
    "```\n",
    "\n",
    "## Tests\n",
    "- Your code should fix the missing piece of the array.\n",
    "- Your code should fix the missing piece of the .reduce() method. The console output should show that Sum of array values is: 6."
   ]
  },
  {
   "attachments": {},
   "cell_type": "markdown",
   "metadata": {},
   "source": [
    "## Solution"
   ]
  },
  {
   "cell_type": "code",
   "execution_count": null,
   "metadata": {
    "vscode": {
     "languageId": "javascript"
    }
   },
   "outputs": [],
   "source": [
    "let myArray = [1, 2, 3];\n",
    "let arraySum = myArray.reduce((previous, current) =>  previous + current);\n",
    "console.log(`Sum of array values is: ${arraySum}`);"
   ]
  }
 ],
 "metadata": {
  "kernelspec": {
   "display_name": "Python 3",
   "language": "python",
   "name": "python3"
  },
  "language_info": {
   "name": "python",
   "version": "3.10.6 (tags/v3.10.6:9c7b4bd, Aug  1 2022, 21:53:49) [MSC v.1932 64 bit (AMD64)]"
  },
  "orig_nbformat": 4,
  "vscode": {
   "interpreter": {
    "hash": "2af6b4b8e7dc844f17d5955b4b91766577101cdd3d4def0405c89e7c4a589cca"
   }
  }
 },
 "nbformat": 4,
 "nbformat_minor": 2
}
