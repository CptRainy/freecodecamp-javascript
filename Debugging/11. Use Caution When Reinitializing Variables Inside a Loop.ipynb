{
 "cells": [
  {
   "attachments": {},
   "cell_type": "markdown",
   "metadata": {},
   "source": [
    "# Use Caution When Reinitializing Variables Inside a Loop"
   ]
  },
  {
   "attachments": {},
   "cell_type": "markdown",
   "metadata": {},
   "source": [
    "Sometimes it's necessary to save information, increment counters, or re-set variables within a loop. A potential issue is when variables either should be reinitialized, and aren't, or vice versa. This is particularly dangerous if you accidentally reset the variable being used for the terminal condition, causing an infinite loop.\n",
    "\n",
    "Printing variable values with each cycle of your loop by using console.log() can uncover buggy behavior related to resetting, or failing to reset a variable."
   ]
  },
  {
   "attachments": {},
   "cell_type": "markdown",
   "metadata": {},
   "source": [
    "## Task\n",
    "The following function is supposed to create a two-dimensional array with m rows and n columns of zeroes. Unfortunately, it's not producing the expected output because the row variable isn't being reinitialized (set back to an empty array) in the outer loop. Fix the code so it returns a correct 3x2 array of zeroes, which looks like [[0, 0], [0, 0], [0, 0]].\n",
    "\n",
    "```javascript\n",
    "function zeroArray(m, n) {\n",
    "  // Creates a 2-D array with m rows and n columns of zeroes\n",
    "  let newArray = [];\n",
    "  let row = [];\n",
    "  for (let i = 0; i < m; i++) {\n",
    "    // Adds the m-th row into newArray\n",
    "\n",
    "    for (let j = 0; j < n; j++) {\n",
    "      // Pushes n zeroes into the current row to create the columns\n",
    "      row.push(0);\n",
    "    }\n",
    "    // Pushes the current row, which now has n zeroes in it, to the array\n",
    "    newArray.push(row);\n",
    "  }\n",
    "  return newArray;\n",
    "}\n",
    "\n",
    "let matrix = zeroArray(3, 2);\n",
    "console.log(matrix);\n",
    "\n",
    "```\n",
    "\n",
    "## Tests\n",
    "- Your code should set the matrix variable to an array holding 3 rows of 2 columns of zeroes each.\n",
    "- The matrix variable should have 3 rows.\n",
    "- The matrix variable should have 2 columns in each row.\n",
    "- zeroArray(4,3) should return an array holding 4 rows of 3 columns of zeroes each."
   ]
  },
  {
   "attachments": {},
   "cell_type": "markdown",
   "metadata": {},
   "source": [
    "## Solution"
   ]
  },
  {
   "cell_type": "code",
   "execution_count": null,
   "metadata": {
    "vscode": {
     "languageId": "javascript"
    }
   },
   "outputs": [],
   "source": [
    "function zeroArray(m, n) {\n",
    "  // Creates a 2-D array with m rows and n columns of zeroes\n",
    "  let newArray = [];\n",
    "  for (let i = 0; i < m; i++) {\n",
    "    // Adds the m-th row into newArray\n",
    "    let row = [];\n",
    "    for (let j = 0; j < n; j++) {\n",
    "      // Pushes n zeroes into the current row to create the columns\n",
    "      row.push(0);\n",
    "    }\n",
    "    // Pushes the current row, which now has n zeroes in it, to the array\n",
    "    newArray.push(row);\n",
    "  }\n",
    "  return newArray;\n",
    "}\n",
    "\n",
    "let matrix = zeroArray(3, 2);\n",
    "console.log(matrix);"
   ]
  }
 ],
 "metadata": {
  "kernelspec": {
   "display_name": "Python 3",
   "language": "python",
   "name": "python3"
  },
  "language_info": {
   "name": "python",
   "version": "3.10.6 (tags/v3.10.6:9c7b4bd, Aug  1 2022, 21:53:49) [MSC v.1932 64 bit (AMD64)]"
  },
  "orig_nbformat": 4,
  "vscode": {
   "interpreter": {
    "hash": "2af6b4b8e7dc844f17d5955b4b91766577101cdd3d4def0405c89e7c4a589cca"
   }
  }
 },
 "nbformat": 4,
 "nbformat_minor": 2
}
