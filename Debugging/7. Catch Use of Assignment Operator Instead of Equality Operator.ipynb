{
 "cells": [
  {
   "attachments": {},
   "cell_type": "markdown",
   "metadata": {},
   "source": [
    "# Catch Use of Assignment Operator Instead of Equality Operator\n"
   ]
  },
  {
   "attachments": {},
   "cell_type": "markdown",
   "metadata": {},
   "source": [
    "Branching programs, i.e. ones that do different things if certain conditions are met, rely on if, else if, and else statements in JavaScript. The condition sometimes takes the form of testing whether a result is equal to a value.\n",
    "\n",
    "This logic is spoken (in English, at least) as \"if x equals y, then ...\" which can literally translate into code using the =, or assignment operator. This leads to unexpected control flow in your program.\n",
    "\n",
    "As covered in previous challenges, the assignment operator (=) in JavaScript assigns a value to a variable name. And the == and === operators check for equality (the triple === tests for strict equality, meaning both value and type are the same).\n",
    "\n",
    "The code below assigns x to be 2, which evaluates as true. Almost every value on its own in JavaScript evaluates to true, except what are known as the \"falsy\" values: false, 0, \"\" (an empty string), NaN, undefined, and null.\n",
    "```javascript\n",
    "let x = 1;\n",
    "let y = 2;\n",
    "if (x = y) {\n",
    "\n",
    "} else {\n",
    "\n",
    "}\n",
    "```\n",
    "In this example, the code block within the if statement will run for any value of y, unless y is falsy. The else block, which we expect to run here, will not actually run."
   ]
  },
  {
   "attachments": {},
   "cell_type": "markdown",
   "metadata": {},
   "source": [
    "## Task\n",
    "Fix the condition so the program runs the right branch, and the appropriate value is assigned to result.\n",
    "\n",
    "```javascript\n",
    "let x = 7;\n",
    "let y = 9;\n",
    "let result = \"to come\";\n",
    "\n",
    "if(x = y) {\n",
    "  result = \"Equal!\";\n",
    "} else {\n",
    "  result = \"Not equal!\";\n",
    "}\n",
    "\n",
    "console.log(result);\n",
    "```\n",
    "\n",
    "## Tests\n",
    "- Your code should fix the condition so it checks for equality, instead of using assignment.\n",
    "- The condition should use either == or === to test for equality."
   ]
  },
  {
   "attachments": {},
   "cell_type": "markdown",
   "metadata": {},
   "source": [
    "## Solution"
   ]
  },
  {
   "cell_type": "code",
   "execution_count": null,
   "metadata": {
    "vscode": {
     "languageId": "javascript"
    }
   },
   "outputs": [],
   "source": [
    "let x = 7;\n",
    "let y = 9;\n",
    "let result = \"to come\";\n",
    "\n",
    "if(x == y) {\n",
    "  result = \"Equal!\";\n",
    "} else {\n",
    "  result = \"Not equal!\";\n",
    "}\n",
    "\n",
    "console.log(result);"
   ]
  }
 ],
 "metadata": {
  "kernelspec": {
   "display_name": "Python 3",
   "language": "python",
   "name": "python3"
  },
  "language_info": {
   "name": "python",
   "version": "3.10.6 (tags/v3.10.6:9c7b4bd, Aug  1 2022, 21:53:49) [MSC v.1932 64 bit (AMD64)]"
  },
  "orig_nbformat": 4,
  "vscode": {
   "interpreter": {
    "hash": "2af6b4b8e7dc844f17d5955b4b91766577101cdd3d4def0405c89e7c4a589cca"
   }
  }
 },
 "nbformat": 4,
 "nbformat_minor": 2
}
