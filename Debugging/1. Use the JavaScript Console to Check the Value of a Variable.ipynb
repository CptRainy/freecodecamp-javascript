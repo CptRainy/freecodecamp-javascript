{
 "cells": [
  {
   "attachments": {},
   "cell_type": "markdown",
   "metadata": {},
   "source": [
    "# Use the JavaScript Console to Check the Value of a Variable\n",
    "\n"
   ]
  },
  {
   "attachments": {},
   "cell_type": "markdown",
   "metadata": {},
   "source": [
    "Both Chrome and Firefox have excellent JavaScript consoles, also known as DevTools, for debugging your JavaScript.\n",
    "\n",
    "You can find Developer tools in your Chrome's menu or Web Console in Firefox's menu. If you're using a different browser, or a mobile phone, we strongly recommend switching to desktop Firefox or Chrome.\n",
    "\n",
    "The console.log() method, which \"prints\" the output of what's within its parentheses to the console, will likely be the most helpful debugging tool. Placing it at strategic points in your code can show you the intermediate values of variables. It's good practice to have an idea of what the output should be before looking at what it is. Having check points to see the status of your calculations throughout your code will help narrow down where the problem is.\n",
    "\n",
    "Here's an example to print the string Hello world! to the console:\n",
    "```javascript\n",
    "console.log('Hello world!');\n",
    "```"
   ]
  },
  {
   "attachments": {},
   "cell_type": "markdown",
   "metadata": {},
   "source": [
    "## Task\n",
    "Use the console.log() method to print the value of the variable a where noted in the code.\n",
    "\n",
    "```javascript\n",
    "let a = 5;\n",
    "let b = 1;\n",
    "a++;\n",
    "// Only change code below this line\n",
    "\n",
    "let sumAB = a + b;\n",
    "console.log(sumAB);\n",
    "```\n",
    "\n",
    "## Tests\n",
    "- Your code should use console.log() to check the value of the variable a."
   ]
  },
  {
   "attachments": {},
   "cell_type": "markdown",
   "metadata": {},
   "source": [
    "## Solution"
   ]
  },
  {
   "cell_type": "code",
   "execution_count": null,
   "metadata": {
    "vscode": {
     "languageId": "javascript"
    }
   },
   "outputs": [],
   "source": [
    "let a = 5;\n",
    "let b = 1;\n",
    "a++;\n",
    "\n",
    "let sumAB = a + b;\n",
    "console.log(a);"
   ]
  }
 ],
 "metadata": {
  "kernelspec": {
   "display_name": "Python 3",
   "language": "python",
   "name": "python3"
  },
  "language_info": {
   "name": "python",
   "version": "3.10.6 (tags/v3.10.6:9c7b4bd, Aug  1 2022, 21:53:49) [MSC v.1932 64 bit (AMD64)]"
  },
  "orig_nbformat": 4,
  "vscode": {
   "interpreter": {
    "hash": "2af6b4b8e7dc844f17d5955b4b91766577101cdd3d4def0405c89e7c4a589cca"
   }
  }
 },
 "nbformat": 4,
 "nbformat_minor": 2
}
