{
 "cells": [
  {
   "attachments": {},
   "cell_type": "markdown",
   "metadata": {},
   "source": [
    "# Catch Misspelled Variable and Function Names\n",
    "\n"
   ]
  },
  {
   "attachments": {},
   "cell_type": "markdown",
   "metadata": {},
   "source": [
    "The console.log() and typeof methods are the two primary ways to check intermediate values and types of program output. Now it's time to get into the common forms that bugs take. One syntax-level issue that fast typers can commiserate with is the humble spelling error.\n",
    "\n",
    "Transposed, missing, or mis-capitalized characters in a variable or function name will have the browser looking for an object that doesn't exist - and complain in the form of a reference error. JavaScript variable and function names are case-sensitive."
   ]
  },
  {
   "attachments": {},
   "cell_type": "markdown",
   "metadata": {},
   "source": [
    "## Task\n",
    "Fix the two spelling errors in the code so the netWorkingCapital calculation works.\n",
    "\n",
    "```javascript\n",
    "let receivables = 10;\n",
    "let payables = 8;\n",
    "let netWorkingCapital = recievables - payable;\n",
    "console.log(`Net working capital is: ${netWorkingCapital}`);\n",
    "```\n",
    "\n",
    "## Tests\n",
    "- Check the spelling of the two variables used in the netWorkingCapital calculation, the console output should show that \"Net working capital is: 2\".\n",
    "- There should be no instances of misspelled variables in the code.\n",
    "- The receivables variable should be declared and used properly in the code.\n",
    "- There should be no instances of misspelled variables in the code.\n",
    "- The payables variable should be declared and used properly in the code."
   ]
  },
  {
   "attachments": {},
   "cell_type": "markdown",
   "metadata": {},
   "source": [
    "## Solution"
   ]
  },
  {
   "cell_type": "code",
   "execution_count": null,
   "metadata": {
    "vscode": {
     "languageId": "javascript"
    }
   },
   "outputs": [],
   "source": [
    "let receivables = 10;\n",
    "let payables = 8;\n",
    "let netWorkingCapital = receivables - payables;\n",
    "console.log(`Net working capital is: ${netWorkingCapital}`);"
   ]
  }
 ],
 "metadata": {
  "kernelspec": {
   "display_name": "Python 3",
   "language": "python",
   "name": "python3"
  },
  "language_info": {
   "name": "python",
   "version": "3.10.6 (tags/v3.10.6:9c7b4bd, Aug  1 2022, 21:53:49) [MSC v.1932 64 bit (AMD64)]"
  },
  "orig_nbformat": 4,
  "vscode": {
   "interpreter": {
    "hash": "2af6b4b8e7dc844f17d5955b4b91766577101cdd3d4def0405c89e7c4a589cca"
   }
  }
 },
 "nbformat": 4,
 "nbformat_minor": 2
}
