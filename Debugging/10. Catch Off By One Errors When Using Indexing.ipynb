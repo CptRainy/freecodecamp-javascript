{
 "cells": [
  {
   "attachments": {},
   "cell_type": "markdown",
   "metadata": {},
   "source": [
    "# Catch Off By One Errors When Using Indexing"
   ]
  },
  {
   "attachments": {},
   "cell_type": "markdown",
   "metadata": {},
   "source": [
    "Off by one errors (sometimes called OBOE) crop up when you're trying to target a specific index of a string or array (to slice or access a segment), or when looping over the indices of them. JavaScript indexing starts at zero, not one, which means the last index is always one less than the length of the item. If you try to access an index equal to the length, the program may throw an \"index out of range\" reference error or print undefined.\n",
    "\n",
    "When you use string or array methods that take index ranges as arguments, it helps to read the documentation and understand if they are inclusive (the item at the given index is part of what's returned) or not. Here are some examples of off by one errors:\n",
    "```javascript\n",
    "let alphabet = \"abcdefghijklmnopqrstuvwxyz\";\n",
    "let len = alphabet.length;\n",
    "for (let i = 0; i <= len; i++) {\n",
    "  console.log(alphabet[i]);\n",
    "}\n",
    "for (let j = 1; j < len; j++) {\n",
    "  console.log(alphabet[j]);\n",
    "}\n",
    "for (let k = 0; k < len; k++) {\n",
    "  console.log(alphabet[k]);\n",
    "}\n",
    "```\n",
    "The first example here loops one too many times, and the second loops one too few times (missing the first index, 0). The third example is correct."
   ]
  },
  {
   "attachments": {},
   "cell_type": "markdown",
   "metadata": {},
   "source": [
    "## Task\n",
    "Fix the two indexing errors in the following function so all the numbers 1 through 5 are printed to the console.\n",
    "\n",
    "```javascript\n",
    "function countToFive() {\n",
    "  let firstFive = \"12345\";\n",
    "  let len = firstFive.length;\n",
    "  // Only change code below this line\n",
    "  for (let i = 1; i <= len; i++) {\n",
    "  // Only change code above this line\n",
    "    console.log(firstFive[i]);\n",
    "  }\n",
    "}\n",
    "\n",
    "countToFive();\n",
    "```\n",
    "\n",
    "## Tests\n",
    "- Your code should set the initial condition of the loop so it starts at the first index.\n",
    "- Your code should fix the initial condition of the loop so that the index starts at 0.\n",
    "- Your code should set the terminal condition of the loop so it stops at the last index.\n",
    "- Your code should fix the terminal condition of the loop so that it stops at 1 before the length."
   ]
  },
  {
   "attachments": {},
   "cell_type": "markdown",
   "metadata": {},
   "source": [
    "## Solution"
   ]
  },
  {
   "cell_type": "code",
   "execution_count": null,
   "metadata": {
    "vscode": {
     "languageId": "javascript"
    }
   },
   "outputs": [],
   "source": [
    "function countToFive() {\n",
    "  let firstFive = \"12345\";\n",
    "  let len = firstFive.length;\n",
    "  for (let i = 0; i < len; i++) {\n",
    "    console.log(firstFive[i]);\n",
    "  }\n",
    "}\n",
    "\n",
    "countToFive();"
   ]
  }
 ],
 "metadata": {
  "kernelspec": {
   "display_name": "Python 3",
   "language": "python",
   "name": "python3"
  },
  "language_info": {
   "name": "python",
   "version": "3.10.6 (tags/v3.10.6:9c7b4bd, Aug  1 2022, 21:53:49) [MSC v.1932 64 bit (AMD64)]"
  },
  "orig_nbformat": 4,
  "vscode": {
   "interpreter": {
    "hash": "2af6b4b8e7dc844f17d5955b4b91766577101cdd3d4def0405c89e7c4a589cca"
   }
  }
 },
 "nbformat": 4,
 "nbformat_minor": 2
}
