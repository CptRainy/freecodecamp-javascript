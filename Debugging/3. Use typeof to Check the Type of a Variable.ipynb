{
 "cells": [
  {
   "attachments": {},
   "cell_type": "markdown",
   "metadata": {},
   "source": [
    "# Use typeof to Check the Type of a Variable\n",
    "\n"
   ]
  },
  {
   "attachments": {},
   "cell_type": "markdown",
   "metadata": {},
   "source": [
    "You can use typeof to check the data structure, or type, of a variable. This is useful in debugging when working with multiple data types. If you think you're adding two numbers, but one is actually a string, the results can be unexpected. Type errors can lurk in calculations or function calls. Be careful especially when you're accessing and working with external data in the form of a JavaScript Object Notation (JSON) object.\n",
    "\n",
    "Here are some examples using typeof:\n",
    "```javascript\n",
    "console.log(typeof \"\");\n",
    "console.log(typeof 0);\n",
    "console.log(typeof []);\n",
    "console.log(typeof {});\n",
    "```\n",
    "In order, the console will display the strings string, number, object, and object.\n",
    "\n",
    "JavaScript recognizes seven primitive (immutable) data types: Boolean, Null, Undefined, Number, String, Symbol (new with ES6), and BigInt (new with ES2020), and one type for mutable items: Object. Note that in JavaScript, arrays are technically a type of object.\n",
    "\n"
   ]
  },
  {
   "attachments": {},
   "cell_type": "markdown",
   "metadata": {},
   "source": [
    "## Task\n",
    "Add two console.log() statements to check the typeof each of the two variables seven and three in the code.\n",
    "\n",
    "```javascript\n",
    "let seven = 7;\n",
    "let three = \"3\";\n",
    "console.log(seven + three);\n",
    "// Only change code below this line\n",
    "```\n",
    "\n",
    "## Tests\n",
    "- Your code should use typeof in two console.log() statements to check the type of the variables.\n",
    "- Your code should use typeof to check the type of the variable seven.\n",
    "- Your code should use typeof to check the type of the variable three."
   ]
  },
  {
   "attachments": {},
   "cell_type": "markdown",
   "metadata": {},
   "source": [
    "## Solution"
   ]
  },
  {
   "cell_type": "code",
   "execution_count": null,
   "metadata": {
    "vscode": {
     "languageId": "javascript"
    }
   },
   "outputs": [],
   "source": [
    "let seven = 7;\n",
    "let three = \"3\";\n",
    "console.log(seven + three);\n",
    "console.log(typeof seven);\n",
    "console.log(typeof three);"
   ]
  }
 ],
 "metadata": {
  "kernelspec": {
   "display_name": "Python 3",
   "language": "python",
   "name": "python3"
  },
  "language_info": {
   "name": "python",
   "version": "3.10.6 (tags/v3.10.6:9c7b4bd, Aug  1 2022, 21:53:49) [MSC v.1932 64 bit (AMD64)]"
  },
  "orig_nbformat": 4,
  "vscode": {
   "interpreter": {
    "hash": "2af6b4b8e7dc844f17d5955b4b91766577101cdd3d4def0405c89e7c4a589cca"
   }
  }
 },
 "nbformat": 4,
 "nbformat_minor": 2
}
